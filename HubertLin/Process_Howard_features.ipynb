{
 "cells": [
  {
   "cell_type": "markdown",
   "metadata": {},
   "source": [
    "## Transforming data provided by teammate Howard\n",
    "\n",
    "Howard extracted a wide variety of traditional features, but need some transformation before we use it."
   ]
  },
  {
   "cell_type": "code",
   "execution_count": 1,
   "metadata": {
    "collapsed": true
   },
   "outputs": [],
   "source": [
    "import numpy as np\n",
    "import pandas as pd\n",
    "import csv\n",
    "import os"
   ]
  },
  {
   "cell_type": "code",
   "execution_count": 2,
   "metadata": {
    "collapsed": false
   },
   "outputs": [],
   "source": [
    "# file_names = [line.split('/')[-1][:-5] for line in os.popen('ls ../Howard/features/*.csv')]\n",
    "file_names = [\n",
    "    'svd100_word_unigram_tfidf_l1-norm_term_weight_distance_features',\n",
    "    'svd100_word_unigram_tfidf_l2-norm_term_weight_distance_features',\n",
    "    'svd100_char_bigram_count_distance_features',\n",
    "    'svd100_char_trigram_count_distance_features',\n",
    "    'svd100_char_unigram_count_distance_features',\n",
    "]\n",
    "dfs = [pd.read_csv('../Howard/features/'+file_name+'.csv').reset_index(drop=True) for file_name in file_names]\n",
    "\n",
    "\n",
    "# exceptnio cases ˊ_>ˋ\n",
    "e = [\n",
    "    'text_features',\n",
    "    'word2vec_distance_features',\n",
    "]\n",
    "for ee in e:\n",
    "    file_names.append(ee)\n",
    "new_df1 = pd.concat([pd.read_csv('../Howard/features/train_text_features.csv'),pd.read_csv('../Howard/features/test_text_features.csv')],axis=0)\n",
    "new_df2 = pd.concat([pd.read_csv('../Howard/features/train_word2vec_distance_features.csv'),pd.read_csv('../Howard/features/test_word2vec_distance_features.csv')],axis=0)\n",
    "dfs.append(new_df1.reset_index(drop=True))\n",
    "dfs.append(new_df2.reset_index(drop=True))\n",
    "\n",
    "\n",
    "# override csv column names\n",
    "for i,df in enumerate(dfs):\n",
    "    df.columns = [file_names[i]+'_'+c for c in df.columns]\n",
    "    \n",
    "dfs = pd.concat(dfs, axis=1)"
   ]
  },
  {
   "cell_type": "code",
   "execution_count": 3,
   "metadata": {
    "collapsed": false
   },
   "outputs": [
    {
     "data": {
      "text/plain": [
       "['svd100_word_unigram_tfidf_l1-norm_term_weight_distance_features',\n",
       " 'svd100_word_unigram_tfidf_l2-norm_term_weight_distance_features',\n",
       " 'svd100_char_bigram_count_distance_features',\n",
       " 'svd100_char_trigram_count_distance_features',\n",
       " 'svd100_char_unigram_count_distance_features',\n",
       " 'text_features',\n",
       " 'word2vec_distance_features']"
      ]
     },
     "execution_count": 3,
     "metadata": {},
     "output_type": "execute_result"
    }
   ],
   "source": [
    "file_names"
   ]
  },
  {
   "cell_type": "code",
   "execution_count": 4,
   "metadata": {
    "collapsed": true
   },
   "outputs": [],
   "source": [
    "train_size = 404290"
   ]
  },
  {
   "cell_type": "code",
   "execution_count": 5,
   "metadata": {
    "collapsed": false
   },
   "outputs": [
    {
     "name": "stdout",
     "output_type": "stream",
     "text": [
      "Wrtie training set complete\n",
      "Wrtie testing set complete\n"
     ]
    }
   ],
   "source": [
    "import csv\n",
    "\n",
    "name = 'Howard_feature'\n",
    "\n",
    "with open('./features_from_model/train/'+name+'.csv','w') as train_f:\n",
    "    with open('./features_from_model/test/'+name+'.csv','w') as test_f:\n",
    "        \n",
    "        train_set = dfs[:train_size].as_matrix()\n",
    "        test_set = dfs[train_size:].as_matrix()\n",
    "\n",
    "        # write training set\n",
    "\n",
    "        writer = csv.writer(train_f, delimiter=',')\n",
    "        writer.writerow(dfs.columns)\n",
    "\n",
    "        for line in train_set:\n",
    "            writer.writerow(line)\n",
    "            \n",
    "        print('Wrtie training set complete')\n",
    "\n",
    "        # write test set\n",
    "\n",
    "        writer = csv.writer(test_f, delimiter=',')\n",
    "        writer.writerow(dfs.columns)\n",
    "        for line in test_set:\n",
    "            writer.writerow(line)\n",
    "            \n",
    "        print('Wrtie testing set complete')\n",
    "    "
   ]
  },
  {
   "cell_type": "code",
   "execution_count": null,
   "metadata": {
    "collapsed": true
   },
   "outputs": [],
   "source": []
  },
  {
   "cell_type": "code",
   "execution_count": null,
   "metadata": {
    "collapsed": false
   },
   "outputs": [],
   "source": [
    "# df = pd.read_csv('../Howard/features/fasttext/test_fasttext_distance_features.csv')\n",
    "# del df['jaccard_distance']\n",
    "# columns = ['fasttext_'+c for c in list(df.columns)]\n",
    "# df = pd.DataFrame(data=df.as_matrix(), columns=columns)\n",
    "# df.to_csv('./features_from_model/test/fasttext_distance.csv', index=False)"
   ]
  },
  {
   "cell_type": "code",
   "execution_count": null,
   "metadata": {
    "collapsed": true
   },
   "outputs": [],
   "source": []
  }
 ],
 "metadata": {
  "anaconda-cloud": {},
  "kernelspec": {
   "display_name": "Python [default]",
   "language": "python",
   "name": "python3"
  },
  "language_info": {
   "codemirror_mode": {
    "name": "ipython",
    "version": 3
   },
   "file_extension": ".py",
   "mimetype": "text/x-python",
   "name": "python",
   "nbconvert_exporter": "python",
   "pygments_lexer": "ipython3",
   "version": "3.5.2"
  }
 },
 "nbformat": 4,
 "nbformat_minor": 2
}
