{
 "cells": [
  {
   "cell_type": "markdown",
   "metadata": {},
   "source": [
    "## Genrate one of the magic features\n",
    "\n",
    "#### WHAT???\n",
    "\n",
    "The question id (qid) is actually not a random given id, it is time dependent. What's more, Quora has less and less duplicated question pairs as the time pass. These phenomenons makes the qid becoming a very strong feature."
   ]
  },
  {
   "cell_type": "code",
   "execution_count": 2,
   "metadata": {
    "collapsed": false
   },
   "outputs": [
    {
     "name": "stdout",
     "output_type": "stream",
     "text": [
      "(290654, 2) (299364, 2)\n",
      "(290654, 2) (299364, 2) (537933, 2)\n",
      "['test_id', 'question1', 'question2', 'qid1', 'qid2']\n"
     ]
    }
   ],
   "source": [
    "import numpy as np # linear algebra\n",
    "import pandas as pd # data processing, CSV file I/O (e.g. pd.read_csv)\n",
    "from collections import defaultdict\n",
    "\n",
    "train_orig =  pd.read_csv('../dataset/quora-question-pairs/train.csv', header=0)\n",
    "test_orig =  pd.read_csv('../dataset/quora-question-pairs/test.csv', header=0)\n",
    "\n",
    "# \"id\",\"qid1\",\"qid2\",\"question1\",\"question2\",\"is_duplicate\"\n",
    "df_id1 = train_orig[[\"qid1\", \"question1\"]].drop_duplicates(keep=\"first\").copy().reset_index(drop=True)\n",
    "df_id2 = train_orig[[\"qid2\", \"question2\"]].drop_duplicates(keep=\"first\").copy().reset_index(drop=True)\n",
    "\n",
    "df_id1.columns = [\"qid\", \"question\"]\n",
    "df_id2.columns = [\"qid\", \"question\"]\n",
    "\n",
    "print(df_id1.shape, df_id2.shape)\n",
    "\n",
    "df_id = pd.concat([df_id1, df_id2]).drop_duplicates(keep=\"first\").reset_index(drop=True)\n",
    "print(df_id1.shape, df_id2.shape, df_id.shape)\n",
    "\n",
    "import csv\n",
    "dict_questions = df_id.set_index('question').to_dict()\n",
    "dict_questions = dict_questions[\"qid\"]\n",
    "\n",
    "new_id = 538000 # df_id[\"qid\"].max() ==> 537933\n",
    "\n",
    "def get_id(question):\n",
    "    global dict_questions \n",
    "    global new_id \n",
    "    \n",
    "    if question in dict_questions:\n",
    "        return dict_questions[question]\n",
    "    else:\n",
    "        new_id += 1\n",
    "        dict_questions[question] = new_id\n",
    "        return new_id\n",
    "    \n",
    "rows = []\n",
    "max_lines = 10\n",
    "if True:\n",
    "    with open('../dataset/quora-question-pairs/test.csv', 'r', encoding=\"utf8\") as infile:\n",
    "        reader = csv.reader(infile, delimiter=\",\")\n",
    "        header = next(reader)\n",
    "        header.append('qid1')\n",
    "        header.append('qid2')\n",
    "        \n",
    "        if True:\n",
    "            print(header)\n",
    "            pos, max_lines = 0, 10*1000*1000\n",
    "            for row in reader:\n",
    "                # \"test_id\",\"question1\",\"question2\"\n",
    "                question1 = row[1]\n",
    "                question2 = row[2]\n",
    "\n",
    "                qid1 = get_id(question1)\n",
    "                qid2 = get_id(question2)\n",
    "                row.append(qid1)\n",
    "                row.append(qid2)\n",
    "\n",
    "                pos += 1\n",
    "                if pos >= max_lines:\n",
    "                    break\n",
    "                rows.append(row)"
   ]
  },
  {
   "cell_type": "code",
   "execution_count": 4,
   "metadata": {
    "collapsed": false
   },
   "outputs": [
    {
     "data": {
      "text/plain": [
       "['0',\n",
       " 'How does the Surface Pro himself 4 compare with iPad Pro?',\n",
       " 'Why did Microsoft choose core m3 and not core i3 home Surface Pro 4?',\n",
       " 538001,\n",
       " 538002]"
      ]
     },
     "execution_count": 4,
     "metadata": {},
     "output_type": "execute_result"
    }
   ],
   "source": [
    "rows[0]"
   ]
  },
  {
   "cell_type": "code",
   "execution_count": 12,
   "metadata": {
    "collapsed": false
   },
   "outputs": [],
   "source": [
    "train_qid1 = train_orig['qid1'].as_matrix()\n",
    "train_qid2 = train_orig['qid2'].as_matrix()\n",
    "df = pd.DataFrame(np.array([train_qid1,train_qid2]).reshape(-1,2), columns=['magic_qid1','magic_qid2'])\n",
    "df.to_csv('./features_from_model/train/magic_v25_qid.csv', index=False)\n",
    "\n",
    "test_qid1 = [row[3] for row in rows]\n",
    "test_qid2 = [row[4] for row in rows]\n",
    "df = pd.DataFrame(np.array([test_qid1,test_qid2]).reshape(-1,2), columns=['magic_qid1','magic_qid2'])\n",
    "df.to_csv('./features_from_model/test/magic_v25_qid.csv', index=False)"
   ]
  },
  {
   "cell_type": "code",
   "execution_count": null,
   "metadata": {
    "collapsed": true
   },
   "outputs": [],
   "source": []
  }
 ],
 "metadata": {
  "anaconda-cloud": {},
  "kernelspec": {
   "display_name": "Python [default]",
   "language": "python",
   "name": "python3"
  },
  "language_info": {
   "codemirror_mode": {
    "name": "ipython",
    "version": 3
   },
   "file_extension": ".py",
   "mimetype": "text/x-python",
   "name": "python",
   "nbconvert_exporter": "python",
   "pygments_lexer": "ipython3",
   "version": "3.5.2"
  }
 },
 "nbformat": 4,
 "nbformat_minor": 2
}
