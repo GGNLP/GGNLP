{
 "cells": [
  {
   "cell_type": "markdown",
   "metadata": {},
   "source": [
    "## The NER (Name Entity Replacement) result needs some simple tranformation"
   ]
  },
  {
   "cell_type": "code",
   "execution_count": 1,
   "metadata": {
    "collapsed": true
   },
   "outputs": [],
   "source": [
    "import numpy as np\n",
    "import pandas as pd\n",
    "import pickle"
   ]
  },
  {
   "cell_type": "code",
   "execution_count": 10,
   "metadata": {
    "collapsed": false
   },
   "outputs": [],
   "source": [
    "qid_q_list = pickle.load(open('../dataset/spacy_feature_extraction/qid_spacy_cleaned_question_dict.pkl','rb'))"
   ]
  },
  {
   "cell_type": "code",
   "execution_count": 6,
   "metadata": {
    "collapsed": true
   },
   "outputs": [],
   "source": [
    "df_train = pd.read_csv('../dataset/quora-question-pairs/train.csv')"
   ]
  },
  {
   "cell_type": "code",
   "execution_count": null,
   "metadata": {
    "collapsed": true
   },
   "outputs": [],
   "source": []
  },
  {
   "cell_type": "markdown",
   "metadata": {},
   "source": [
    "## process training set"
   ]
  },
  {
   "cell_type": "code",
   "execution_count": 38,
   "metadata": {
    "collapsed": false
   },
   "outputs": [],
   "source": [
    "t1 = []\n",
    "t2 = []\n",
    "labels = []\n",
    "\n",
    "for i,s in df_train.iterrows():\n",
    "    t1.append(qid_q_list[int(s['qid1'])])\n",
    "    t2.append(qid_q_list[int(s['qid2'])])\n",
    "    labels.append(int(s['is_duplicate']))\n",
    "    \n",
    "pickle.dump([t1,t2,np.array(labels)],open('./lystdo_kernel/train_text_spacy_cleaned.pkl','wb'))"
   ]
  },
  {
   "cell_type": "code",
   "execution_count": null,
   "metadata": {
    "collapsed": true
   },
   "outputs": [],
   "source": []
  },
  {
   "cell_type": "markdown",
   "metadata": {},
   "source": [
    "## process testing set"
   ]
  },
  {
   "cell_type": "code",
   "execution_count": 35,
   "metadata": {
    "collapsed": false
   },
   "outputs": [],
   "source": [
    "idx = 0\n",
    "\n",
    "t1 = []\n",
    "t2 = []\n",
    "\n",
    "with open('../dataset/spacy_feature_extraction/test_processed.txt','r') as f:\n",
    "    \n",
    "    switch = 1\n",
    "    \n",
    "    for line in f:\n",
    "        line = line[:-1]\n",
    "        \n",
    "        idx += 1\n",
    "\n",
    "        if switch==1:\n",
    "            t1.append(line)\n",
    "            switch = 2\n",
    "        else:\n",
    "            t2.append(line)\n",
    "            switch = 1\n",
    "    \n",
    "test_id = np.arange(len(t1))\n",
    "    \n",
    "pickle.dump([t1,t2,test_id],open('./lystdo_kernel/test_text_spacy_cleaned.pkl','wb'))"
   ]
  },
  {
   "cell_type": "code",
   "execution_count": null,
   "metadata": {
    "collapsed": true
   },
   "outputs": [],
   "source": []
  }
 ],
 "metadata": {
  "kernelspec": {
   "display_name": "Python [default]",
   "language": "python",
   "name": "python3"
  },
  "language_info": {
   "codemirror_mode": {
    "name": "ipython",
    "version": 3
   },
   "file_extension": ".py",
   "mimetype": "text/x-python",
   "name": "python",
   "nbconvert_exporter": "python",
   "pygments_lexer": "ipython3",
   "version": "3.5.2"
  }
 },
 "nbformat": 4,
 "nbformat_minor": 2
}
