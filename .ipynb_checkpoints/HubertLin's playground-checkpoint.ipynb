{
 "cells": [
  {
   "cell_type": "markdown",
   "metadata": {},
   "source": [
    "## Some ideas\n",
    "\n",
    "1. 我們有已經 label 成 same question 的 data ，那我們也許可以另外 train 一個 model 可以根據 input 的句子 sequential 生成新的\"換句話說\"句子?\n",
    "2. curriculum learning\n",
    "\n",
    "---\n",
    "\n",
    "1. Since we already have data that labelled as same question paris. Is it possible for us to train another model which can sequetially generate a same question string depends on the input? "
   ]
  },
  {
   "cell_type": "code",
   "execution_count": 1,
   "metadata": {},
   "outputs": [
    {
     "name": "stderr",
     "output_type": "stream",
     "text": [
      "Using TensorFlow backend.\n"
     ]
    }
   ],
   "source": [
    "import numpy as np\n",
    "import pandas as pd\n",
    "import re\n",
    "import pickle\n",
    "import json\n",
    "import matplotlib.pyplot as plt\n",
    "import random\n",
    "\n",
    "from keras.layers.embeddings import Embedding"
   ]
  },
  {
   "cell_type": "code",
   "execution_count": 65,
   "metadata": {
    "collapsed": true
   },
   "outputs": [],
   "source": [
    "dec_map = pickle.load(open('./dataset/processed/dec_map.pkl','rb'))\n",
    "enc_map = pickle.load(open('./dataset/processed/enc_map.pkl','rb'))\n",
    "embedding_matrix = pickle.load(open('./dataset/processed/embedding_matrix.pkl','rb'))\n",
    "df_train = pd.read_csv('./dataset/processed/processed_training_data.csv')\n",
    "df_test = pd.read_csv('./dataset/processed/processed_testing_data.csv')"
   ]
  },
  {
   "cell_type": "code",
   "execution_count": null,
   "metadata": {
    "collapsed": true
   },
   "outputs": [],
   "source": []
  },
  {
   "cell_type": "code",
   "execution_count": 65,
   "metadata": {},
   "outputs": [
    {
     "data": {
      "text/html": [
       "<div>\n",
       "<table border=\"1\" class=\"dataframe\">\n",
       "  <thead>\n",
       "    <tr style=\"text-align: right;\">\n",
       "      <th></th>\n",
       "      <th>id</th>\n",
       "      <th>question1</th>\n",
       "      <th>question2</th>\n",
       "      <th>is_duplicate</th>\n",
       "    </tr>\n",
       "  </thead>\n",
       "  <tbody>\n",
       "    <tr>\n",
       "      <th>0</th>\n",
       "      <td>0</td>\n",
       "      <td>[0, 13180, 23871, 33133, 32109, 16159, 32109, ...</td>\n",
       "      <td>[0, 13180, 23871, 33133, 32109, 16159, 32109, ...</td>\n",
       "      <td>0</td>\n",
       "    </tr>\n",
       "    <tr>\n",
       "      <th>1</th>\n",
       "      <td>1</td>\n",
       "      <td>[0, 13180, 23871, 33133, 32193, 26775, 6810, 2...</td>\n",
       "      <td>[0, 13180, 35247, 22258, 23000, 33133, 6029, 2...</td>\n",
       "      <td>0</td>\n",
       "    </tr>\n",
       "    <tr>\n",
       "      <th>2</th>\n",
       "      <td>2</td>\n",
       "      <td>[0, 5656, 16261, 5732, 23249, 33133, 31803, 26...</td>\n",
       "      <td>[0, 5656, 16261, 6135, 31803, 15263, 23250, 16...</td>\n",
       "      <td>0</td>\n",
       "    </tr>\n",
       "    <tr>\n",
       "      <th>3</th>\n",
       "      <td>3</td>\n",
       "      <td>[0, 13215, 14224, 5732, 25431, 34544, 2, 5656,...</td>\n",
       "      <td>[0, 4530, 33133, 29704, 35008, 2, 23871, 19319...</td>\n",
       "      <td>0</td>\n",
       "    </tr>\n",
       "    <tr>\n",
       "      <th>4</th>\n",
       "      <td>4</td>\n",
       "      <td>[0, 13195, 26864, 19260, 23168, 34861, 2, 2, 2...</td>\n",
       "      <td>[0, 13195, 21038, 35247, 32641, 23168, 30444, ...</td>\n",
       "      <td>0</td>\n",
       "    </tr>\n",
       "    <tr>\n",
       "      <th>5</th>\n",
       "      <td>5</td>\n",
       "      <td>[0, 2, 5732, 14224, 13561, 2508, 11764, 2500, ...</td>\n",
       "      <td>[0, 2, 13561, 33757, 2508, 2, 8190, 14333, 147...</td>\n",
       "      <td>1</td>\n",
       "    </tr>\n",
       "    <tr>\n",
       "      <th>6</th>\n",
       "      <td>6</td>\n",
       "      <td>[0, 11245, 5732, 16150, 2, 1]</td>\n",
       "      <td>[0, 13180, 24127, 2, 13770, 14333, 20743, 2146...</td>\n",
       "      <td>0</td>\n",
       "    </tr>\n",
       "    <tr>\n",
       "      <th>7</th>\n",
       "      <td>7</td>\n",
       "      <td>[0, 5656, 16261, 5732, 15263, 13561, 21870, 2, 1]</td>\n",
       "      <td>[0, 13180, 31154, 5732, 19349, 33375, 15263, 1...</td>\n",
       "      <td>1</td>\n",
       "    </tr>\n",
       "    <tr>\n",
       "      <th>8</th>\n",
       "      <td>8</td>\n",
       "      <td>[0, 13190, 19349, 35374, 34337, 2, 23554, 2677...</td>\n",
       "      <td>[0, 13190, 19349, 35374, 34337, 2, 23554, 2677...</td>\n",
       "      <td>0</td>\n",
       "    </tr>\n",
       "    <tr>\n",
       "      <th>9</th>\n",
       "      <td>9</td>\n",
       "      <td>[0, 8226, 2, 2477, 5732, 22162, 26103, 2677, 2...</td>\n",
       "      <td>[0, 5656, 19349, 5732, 22162, 8226, 2, 21252, ...</td>\n",
       "      <td>0</td>\n",
       "    </tr>\n",
       "  </tbody>\n",
       "</table>\n",
       "</div>"
      ],
      "text/plain": [
       "   id                                          question1  \\\n",
       "0   0  [0, 13180, 23871, 33133, 32109, 16159, 32109, ...   \n",
       "1   1  [0, 13180, 23871, 33133, 32193, 26775, 6810, 2...   \n",
       "2   2  [0, 5656, 16261, 5732, 23249, 33133, 31803, 26...   \n",
       "3   3  [0, 13215, 14224, 5732, 25431, 34544, 2, 5656,...   \n",
       "4   4  [0, 13195, 26864, 19260, 23168, 34861, 2, 2, 2...   \n",
       "5   5  [0, 2, 5732, 14224, 13561, 2508, 11764, 2500, ...   \n",
       "6   6                      [0, 11245, 5732, 16150, 2, 1]   \n",
       "7   7  [0, 5656, 16261, 5732, 15263, 13561, 21870, 2, 1]   \n",
       "8   8  [0, 13190, 19349, 35374, 34337, 2, 23554, 2677...   \n",
       "9   9  [0, 8226, 2, 2477, 5732, 22162, 26103, 2677, 2...   \n",
       "\n",
       "                                           question2  is_duplicate  \n",
       "0  [0, 13180, 23871, 33133, 32109, 16159, 32109, ...             0  \n",
       "1  [0, 13180, 35247, 22258, 23000, 33133, 6029, 2...             0  \n",
       "2  [0, 5656, 16261, 6135, 31803, 15263, 23250, 16...             0  \n",
       "3  [0, 4530, 33133, 29704, 35008, 2, 23871, 19319...             0  \n",
       "4  [0, 13195, 21038, 35247, 32641, 23168, 30444, ...             0  \n",
       "5  [0, 2, 13561, 33757, 2508, 2, 8190, 14333, 147...             1  \n",
       "6  [0, 13180, 24127, 2, 13770, 14333, 20743, 2146...             0  \n",
       "7  [0, 13180, 31154, 5732, 19349, 33375, 15263, 1...             1  \n",
       "8  [0, 13190, 19349, 35374, 34337, 2, 23554, 2677...             0  \n",
       "9  [0, 5656, 19349, 5732, 22162, 8226, 2, 21252, ...             0  "
      ]
     },
     "execution_count": 65,
     "metadata": {},
     "output_type": "execute_result"
    }
   ],
   "source": [
    "df_train.head(10)"
   ]
  },
  {
   "cell_type": "code",
   "execution_count": 12,
   "metadata": {
    "collapsed": true
   },
   "outputs": [],
   "source": [
    "def enc_question(question, enc_map):\n",
    "    \n",
    "    if type(question)!=str or question==\"\":\n",
    "        return [enc_map['<ST>'], enc_map['<ED>']]\n",
    "    \n",
    "    def map_wrod(word):\n",
    "        return enc_map[word] if word in enc_map else enc_map['<RARE>']\n",
    "         \n",
    "    \n",
    "    # identify special characters that separate words : (space) ' ! \" ? @ ^ + * / . , ~ ( ) [ ] { } & | ` $ % = : ; < >  \n",
    "    separator = '(?=[\\s\\'!\"?@\\^+*/\\.,~\\(\\)\\[\\]\\{\\}\\&\\|`\\$\\%\\=:;\\<\\>]|$)'\n",
    "    single_word = '[\\S]+' # non-empty is enough here\n",
    "    \n",
    "    words_list = re.findall(single_word+separator, question)\n",
    "    \n",
    "    return [enc_map['<ST>']] + [map_wrod(word) for word in words_list] + [enc_map['<ED>']] \n",
    "    \n",
    "    \n",
    "def dec_question(question, dec_map):\n",
    "    return [dec_map[enc_value] for enc_value in question]"
   ]
  },
  {
   "cell_type": "code",
   "execution_count": 55,
   "metadata": {},
   "outputs": [
    {
     "data": {
      "image/png": "[encoded data removed]",
      "text/plain": [
       "<matplotlib.figure.Figure at 0x1cc94f266d8>"
      ]
     },
     "metadata": {},
     "output_type": "display_data"
    },
    {
     "data": {
      "image/png": "[encoded data removed]",
      "text/plain": [
       "<matplotlib.figure.Figure at 0x1cc8e7f5d30>"
      ]
     },
     "metadata": {},
     "output_type": "display_data"
    }
   ],
   "source": [
    "len_counter = [0]*238 # longest question is 237 words long\n",
    "\n",
    "for i,data in df_train.iterrows():\n",
    "    q1 = eval(data['question1'])\n",
    "    q2 = eval(data['question2'])\n",
    "    \n",
    "    len_counter[len(q1)-2] += 1\n",
    "    len_counter[len(q2)-2] += 1\n",
    "        \n",
    "\n",
    "plt.plot(len_counter)\n",
    "plt.show()\n",
    "\n",
    "plt.plot(len_counter[0:40])\n",
    "plt.show()"
   ]
  },
  {
   "cell_type": "markdown",
   "metadata": {},
   "source": [
    "#### so, use 30 words as length of model input/output"
   ]
  },
  {
   "cell_type": "code",
   "execution_count": 66,
   "metadata": {
    "collapsed": true
   },
   "outputs": [],
   "source": [
    "def change_to_list_and_clip(data):\n",
    "    clip_len = 30\n",
    "    data['question1'] = eval(data['question1'])[1:-1]\n",
    "    data['question2'] = eval(data['question2'])[1:-1]\n",
    "    \n",
    "    if len(data['question1'])<clip_len:\n",
    "        data['question1'] = data['question1'] + [enc_map['<ED>']] * (30-len(data['question1']))\n",
    "    else:\n",
    "        data['question1'] = data['question1'][:30]\n",
    "        \n",
    "    if len(data['question2'])<clip_len:\n",
    "        data['question2'] = data['question2'] + [enc_map['<ED>']] * (30-len(data['question2']))\n",
    "    else:\n",
    "        data['question2'] = data['question2'][:30]\n",
    "        \n",
    "    return data\n",
    "\n",
    "df_transformed = df_train.apply(change_to_list_and_clip, axis=1)"
   ]
  },
  {
   "cell_type": "code",
   "execution_count": 63,
   "metadata": {
    "collapsed": true
   },
   "outputs": [],
   "source": [
    "pickle.dump(df_transformed, open('./dataset/processed/df_train_hubertLin_version.pkl', 'wb'))"
   ]
  },
  {
   "cell_type": "code",
   "execution_count": 11,
   "metadata": {
    "collapsed": true
   },
   "outputs": [],
   "source": [
    "df_transformed = pickle.load(open('./dataset/processed/df_train_hubertLin_version.pkl', 'rb'))\n",
    "\n",
    "diff_questions = df_transformed.where(df_transformed['is_duplicate']==0).dropna().reset_index(drop=True)\n",
    "same_questions = df_transformed.where(df_transformed['is_duplicate']==1).dropna().reset_index(drop=True)\n",
    "\n",
    "pickle.dump(diff_questions, open('./dataset/processed/df_train_diff_hubertLin_version.pkl', 'wb'))\n",
    "pickle.dump(same_questions, open('./dataset/processed/df_train_same_hubertLin_version.pkl', 'wb'))"
   ]
  },
  {
   "cell_type": "code",
   "execution_count": 67,
   "metadata": {
    "collapsed": true
   },
   "outputs": [],
   "source": [
    "df_transformed = df_test.apply(change_to_list_and_clip, axis=1)\n",
    "pickle.dump(df_transformed, open('./dataset/processed/df_test_hubertLin_version.pkl', 'wb'))"
   ]
  },
  {
   "cell_type": "code",
   "execution_count": null,
   "metadata": {
    "collapsed": true
   },
   "outputs": [],
   "source": []
  },
  {
   "cell_type": "markdown",
   "metadata": {},
   "source": [
    "## model time!"
   ]
  },
  {
   "cell_type": "code",
   "execution_count": 1,
   "metadata": {},
   "outputs": [
    {
     "name": "stderr",
     "output_type": "stream",
     "text": [
      "Using TensorFlow backend.\n"
     ]
    }
   ],
   "source": [
    "import numpy as np\n",
    "import pandas as pd\n",
    "import re\n",
    "import pickle\n",
    "import json\n",
    "import matplotlib.pyplot as plt\n",
    "import random\n",
    "\n",
    "from keras.layers.embeddings import Embedding"
   ]
  },
  {
   "cell_type": "code",
   "execution_count": 2,
   "metadata": {
    "collapsed": true
   },
   "outputs": [],
   "source": [
    "dec_map = pickle.load(open('./dataset/processed/dec_map.pkl','rb'))\n",
    "enc_map = pickle.load(open('./dataset/processed/enc_map.pkl','rb'))\n",
    "embedding_matrix = pickle.load(open('./dataset/processed/embedding_matrix.pkl','rb'))"
   ]
  },
  {
   "cell_type": "code",
   "execution_count": 3,
   "metadata": {
    "collapsed": true
   },
   "outputs": [],
   "source": [
    "diff_questions = pickle.load(open('./dataset/processed/df_train_diff_hubertLin_version.pkl', 'rb'))\n",
    "same_questions = pickle.load(open('./dataset/processed/df_train_same_hubertLin_version.pkl', 'rb'))"
   ]
  },
  {
   "cell_type": "code",
   "execution_count": 4,
   "metadata": {
    "collapsed": true
   },
   "outputs": [],
   "source": [
    "from keras.layers import Input, GRU, Reshape, Dense, merge\n",
    "from keras.models import Model\n",
    "from keras.optimizers import RMSprop\n",
    "\n",
    "def naive_model():\n",
    "\n",
    "    # hyper-parameters that should be passed as function argument\n",
    "    \n",
    "    EMBEDDING_SIZE = 300\n",
    "    vocab_size = len(enc_map)\n",
    "    vocab_dim = EMBEDDING_SIZE # in my case is 300\n",
    "    text_length = 30 # how many words are we going to feed in one time\n",
    "    clipnorm = 1\n",
    "\n",
    "    \n",
    "    # embed our encoded question to embedded vector\n",
    "\n",
    "    encoded_question_input1 = Input(shape=(text_length,))\n",
    "\n",
    "    x = Embedding(output_dim = vocab_dim, \n",
    "                  input_dim = vocab_size, \n",
    "                  init = 'glorot_uniform',       # to be honest, I don't know what is this\n",
    "                  input_length = text_length, \n",
    "                  weights = [embedding_matrix]   # our embedding_matrix\n",
    "                 )(encoded_question_input1)\n",
    "\n",
    "    text_embedded1 = Reshape((1,vocab_dim*text_length))(x)\n",
    "    gru1 = GRU(256)(text_embedded1)\n",
    "\n",
    "    \n",
    "    # embed our encoded question to embedded vector\n",
    "\n",
    "    encoded_question_input2 = Input(shape=(text_length,))\n",
    "\n",
    "    x = Embedding(output_dim = vocab_dim, \n",
    "                  input_dim = vocab_size, \n",
    "                  init = 'glorot_uniform',       # to be honest, I don't know what is this\n",
    "                  input_length = text_length, \n",
    "                  weights = [embedding_matrix]   # our embedding_matrix\n",
    "                 )(encoded_question_input2)\n",
    "\n",
    "    text_embedded2 = Reshape((1,vocab_dim*text_length))(x)\n",
    "    gru2 = GRU(256)(text_embedded2)\n",
    "    \n",
    "\n",
    "    # feed to RNN model\n",
    "    x = merge([gru1, gru2], mode='concat', concat_axis=-1)\n",
    "#     x = Reshape((None, 1, 512))(x)\n",
    "    out = Dense(2, activation='softmax')(x)\n",
    "    \n",
    "    # compile the model\n",
    "    \n",
    "    model = Model(input=[encoded_question_input1, encoded_question_input2], output=out)\n",
    "    # choose objective and optimizer\n",
    "    model.compile(loss='binary_crossentropy', optimizer=RMSprop(lr=1e-3), matrics=['acc'])\n",
    "    \n",
    "    return model"
   ]
  },
  {
   "cell_type": "code",
   "execution_count": 5,
   "metadata": {
    "collapsed": true
   },
   "outputs": [],
   "source": [
    "sanity_check = same_questions[:10].append(diff_questions[:10])\n",
    "sanity_check = sanity_check.reset_index(drop=True)"
   ]
  },
  {
   "cell_type": "code",
   "execution_count": 6,
   "metadata": {},
   "outputs": [
    {
     "name": "stderr",
     "output_type": "stream",
     "text": [
      "C:\\Users\\User\\Anaconda3\\lib\\site-packages\\ipykernel_launcher.py:24: UserWarning: Update your `Embedding` call to the Keras 2 API: `Embedding(embeddings_initializer=\"glorot_uniform\", output_dim=300, weights=[array([[ ..., input_length=30, input_dim=35439)`\n",
      "C:\\Users\\User\\Anaconda3\\lib\\site-packages\\ipykernel_launcher.py:39: UserWarning: Update your `Embedding` call to the Keras 2 API: `Embedding(embeddings_initializer=\"glorot_uniform\", output_dim=300, weights=[array([[ ..., input_length=30, input_dim=35439)`\n",
      "C:\\Users\\User\\Anaconda3\\lib\\site-packages\\ipykernel_launcher.py:47: UserWarning: The `merge` function is deprecated and will be removed after 08/2017. Use instead layers from `keras.layers.merge`, e.g. `add`, `concatenate`, etc.\n",
      "C:\\Users\\User\\Anaconda3\\lib\\site-packages\\keras\\legacy\\layers.py:460: UserWarning: The `Merge` layer is deprecated and will be removed after 08/2017. Use instead layers from `keras.layers.merge`, e.g. `add`, `concatenate`, etc.\n",
      "  name=name)\n",
      "C:\\Users\\User\\Anaconda3\\lib\\site-packages\\ipykernel_launcher.py:53: UserWarning: Update your `Model` call to the Keras 2 API: `Model(outputs=Tensor(\"de..., inputs=[<tf.Tenso...)`\n"
     ]
    }
   ],
   "source": [
    "model = naive_model()"
   ]
  },
  {
   "cell_type": "code",
   "execution_count": null,
   "metadata": {
    "scrolled": true
   },
   "outputs": [
    {
     "name": "stdout",
     "output_type": "stream",
     "text": [
      "Epoch 1/1000\n",
      "100/100 [==============================] - 29s - loss: 0.3045 - val_loss: 0.2981\n",
      "Epoch 2/1000\n",
      "100/100 [==============================] - 29s - loss: 0.3071 - val_loss: 0.3008\n",
      "Epoch 3/1000\n",
      "100/100 [==============================] - 29s - loss: 0.3035 - val_loss: 0.3092\n",
      "Epoch 4/1000\n",
      "100/100 [==============================] - 29s - loss: 0.3013 - val_loss: 0.3083\n",
      "Epoch 5/1000\n",
      "100/100 [==============================] - 29s - loss: 0.3070 - val_loss: 0.2985\n",
      "Epoch 6/1000\n",
      "100/100 [==============================] - 29s - loss: 0.2953 - val_loss: 0.2935\n",
      "Epoch 7/1000\n",
      "100/100 [==============================] - 29s - loss: 0.2979 - val_loss: 0.2888\n",
      "Epoch 8/1000\n",
      "100/100 [==============================] - 29s - loss: 0.2902 - val_loss: 0.2853\n",
      "Epoch 9/1000\n",
      "100/100 [==============================] - 32s - loss: 0.2971 - val_loss: 0.2963\n",
      "Epoch 10/1000\n",
      "100/100 [==============================] - 29s - loss: 0.2883 - val_loss: 0.3110\n",
      "Epoch 11/1000\n",
      "100/100 [==============================] - 29s - loss: 0.2941 - val_loss: 0.2817\n",
      "Epoch 12/1000\n",
      "100/100 [==============================] - 29s - loss: 0.2907 - val_loss: 0.2868\n",
      "Epoch 13/1000\n",
      "100/100 [==============================] - 29s - loss: 0.2828 - val_loss: 0.2836\n",
      "Epoch 14/1000\n",
      "100/100 [==============================] - 29s - loss: 0.2889 - val_loss: 0.2745\n",
      "Epoch 15/1000\n",
      "100/100 [==============================] - 29s - loss: 0.2803 - val_loss: 0.2805\n",
      "Epoch 16/1000\n",
      "100/100 [==============================] - 29s - loss: 0.2849 - val_loss: 0.2742\n",
      "Epoch 17/1000\n",
      "100/100 [==============================] - 29s - loss: 0.2825 - val_loss: 0.2903\n",
      "Epoch 18/1000\n",
      "100/100 [==============================] - 29s - loss: 0.2773 - val_loss: 0.2687\n",
      "Epoch 19/1000\n",
      "100/100 [==============================] - 29s - loss: 0.2835 - val_loss: 0.2777\n",
      "Epoch 20/1000\n",
      "100/100 [==============================] - 29s - loss: 0.2764 - val_loss: 0.2787\n",
      "Epoch 21/1000\n",
      "100/100 [==============================] - 29s - loss: 0.2674 - val_loss: 0.2747\n",
      "Epoch 22/1000\n",
      "100/100 [==============================] - 29s - loss: 0.2740 - val_loss: 0.2758\n",
      "Epoch 23/1000\n",
      "100/100 [==============================] - 29s - loss: 0.2736 - val_loss: 0.2661\n",
      "Epoch 24/1000\n",
      "100/100 [==============================] - 29s - loss: 0.2667 - val_loss: 0.2818\n",
      "Epoch 25/1000\n",
      "100/100 [==============================] - 29s - loss: 0.2725 - val_loss: 0.2806\n",
      "Epoch 26/1000\n",
      "100/100 [==============================] - 29s - loss: 0.2683 - val_loss: 0.2779\n",
      "Epoch 27/1000\n",
      "100/100 [==============================] - 29s - loss: 0.2621 - val_loss: 0.2750\n",
      "Epoch 28/1000\n",
      "100/100 [==============================] - 29s - loss: 0.2674 - val_loss: 0.2699\n",
      "Epoch 29/1000\n",
      "100/100 [==============================] - 29s - loss: 0.2604 - val_loss: 0.2524\n",
      "Epoch 30/1000\n",
      "100/100 [==============================] - 29s - loss: 0.2607 - val_loss: 0.2736\n",
      "Epoch 31/1000\n",
      "100/100 [==============================] - 29s - loss: 0.2653 - val_loss: 0.2682\n",
      "Epoch 32/1000\n",
      "100/100 [==============================] - 29s - loss: 0.2538 - val_loss: 0.2604\n",
      "Epoch 33/1000\n",
      "100/100 [==============================] - 29s - loss: 0.2560 - val_loss: 0.2715\n",
      "Epoch 34/1000\n",
      "100/100 [==============================] - 30s - loss: 0.2517 - val_loss: 0.2478\n",
      "Epoch 35/1000\n",
      "100/100 [==============================] - 30s - loss: 0.2504 - val_loss: 0.2434\n",
      "Epoch 36/1000\n",
      "100/100 [==============================] - 30s - loss: 0.2487 - val_loss: 0.2695\n",
      "Epoch 37/1000\n",
      "100/100 [==============================] - 30s - loss: 0.2518 - val_loss: 0.2581\n",
      "Epoch 38/1000\n",
      "100/100 [==============================] - 29s - loss: 0.2467 - val_loss: 0.2350\n",
      "Epoch 39/1000\n",
      "100/100 [==============================] - 30s - loss: 0.2497 - val_loss: 0.2441\n",
      "Epoch 40/1000\n",
      "100/100 [==============================] - 30s - loss: 0.2423 - val_loss: 0.2360\n",
      "Epoch 41/1000\n",
      " 79/100 [======================>.......] - ETA: 6s - loss: 0.2422"
     ]
    }
   ],
   "source": [
    "batch_size = 256\n",
    "\n",
    "def gen_suffle_idx(arr):\n",
    "    random.shuffle(arr)\n",
    "    return arr\n",
    "\n",
    "def data_gen():\n",
    "    a = np.arange(batch_size)\n",
    "    while True:\n",
    "        rand = [random.randint(0,len(same_questions)-1) for i in range(batch_size//2)]\n",
    "        pos_selected = same_questions.ix[rand]\n",
    "        rand = [random.randint(0,len(diff_questions)-1) for i in range(batch_size//2)]\n",
    "        neg_selected = diff_questions.ix[rand]\n",
    "        \n",
    "        selected  = pos_selected.append(neg_selected).reset_index(drop=True)\n",
    "        selected = selected.ix[gen_suffle_idx(a)]\n",
    "\n",
    "#         batch_size = len(sanity_check)\n",
    "#         a = np.arange(batch_size)\n",
    "#         selected = sanity_check.ix[gen_suffle_idx(a)]\n",
    "        \n",
    "        q1 = np.array([data['question1'] for i,data in selected.iterrows()])\n",
    "        q2 = np.array([data['question2'] for i,data in selected.iterrows()])\n",
    "        \n",
    "        y = np.zeros( (batch_size,2) )\n",
    "        for i, (k,data) in enumerate(selected.iterrows()):\n",
    "            y[i,int(data['is_duplicate'])] = 1\n",
    "\n",
    "        yield [q1, q2], y\n",
    "\n",
    "def gen_validation(size):\n",
    "    \n",
    "    a = np.arange(size)\n",
    "    \n",
    "    rand = [random.randint(0,len(same_questions)-1) for i in range(size//2)]\n",
    "    pos_selected = same_questions.ix[rand]\n",
    "    rand = [random.randint(0,len(diff_questions)-1) for i in range(size//2)]\n",
    "    neg_selected = diff_questions.ix[rand]\n",
    "    \n",
    "    selected  = pos_selected.append(neg_selected).reset_index(drop=True)\n",
    "    selected = selected.ix[gen_suffle_idx(a)]\n",
    "\n",
    "    q1 = np.array([data['question1'] for i,data in selected.iterrows()])\n",
    "    q2 = np.array([data['question2'] for i,data in selected.iterrows()])\n",
    "    \n",
    "    y = np.zeros( (size,2) )\n",
    "    for i, (k,data) in enumerate(selected.iterrows()):\n",
    "        y[i,int(data['is_duplicate'])] = 1\n",
    "\n",
    "    return [q1, q2], y\n",
    "    \n",
    "try:\n",
    "    validation_data = gen_validation(1024)\n",
    "    model.fit_generator(data_gen(), 100, epochs=1000, validation_data=validation_data)\n",
    "except KeyboardInterrupt:\n",
    "    print('\\nEarly stop by user')"
   ]
  },
  {
   "cell_type": "markdown",
   "metadata": {},
   "source": [
    "loss 約 converge 在 0.5467~0.55"
   ]
  },
  {
   "cell_type": "code",
   "execution_count": 29,
   "metadata": {},
   "outputs": [
    {
     "name": "stdout",
     "output_type": "stream",
     "text": [
      "0.433871\n",
      "0.0628152\n",
      "0.674553\n",
      "0.0658139\n",
      "0.00204652\n",
      "0.332731\n",
      "0.0835773\n",
      "0.20868\n",
      "0.124565\n",
      "1.69685e-14\n",
      "0.10288\n",
      "0.523762\n",
      "0.0950808\n",
      "0.0809243\n",
      "0.0602625\n",
      "0.0165486\n",
      "0.000188865\n",
      "0.159509\n",
      "0.0281101\n",
      "0.963905\n"
     ]
    }
   ],
   "source": [
    "for i in range(20):\n",
    "    q = diff_questions.ix[i]\n",
    "    x1 = np.array([q['question1']])\n",
    "    x2 = np.array([q['question2']])\n",
    "    print(model.predict([x1,x2])[0][1])\n",
    "    "
   ]
  },
  {
   "cell_type": "code",
   "execution_count": 24,
   "metadata": {
    "collapsed": true
   },
   "outputs": [],
   "source": [
    "# def predict(i,q):\n",
    "    \n",
    "#     x1 = np.array([list(q['question1'])])\n",
    "#     x2 = np.array([list(q['question2'])])\n",
    "#     return model.predict([x1,x2])[:,1]\n",
    "\n",
    "# df_test.head()\n",
    "# for i in range(10):\n",
    "#     df = same_questions\n",
    "#     print(dec_question(df.ix[i]['question1'], dec_map))\n",
    "#     print(dec_question(df.ix[i]['question2'], dec_map))\n",
    "#     print(predict(i,df.ix[i]))\n",
    "#     print(df.ix[i]['is_duplicate'])\n",
    "#     print('\\n')"
   ]
  },
  {
   "cell_type": "code",
   "execution_count": 63,
   "metadata": {
    "collapsed": true
   },
   "outputs": [],
   "source": [
    "model.save('./model/HubertLin_naive_2_GRU256_same.model')"
   ]
  },
  {
   "cell_type": "code",
   "execution_count": null,
   "metadata": {
    "collapsed": true
   },
   "outputs": [],
   "source": []
  },
  {
   "cell_type": "markdown",
   "metadata": {},
   "source": [
    "## Prediction time"
   ]
  },
  {
   "cell_type": "code",
   "execution_count": 5,
   "metadata": {},
   "outputs": [
    {
     "name": "stderr",
     "output_type": "stream",
     "text": [
      "C:\\Users\\User\\Anaconda3\\lib\\site-packages\\keras\\engine\\topology.py:1210: UserWarning: The `Merge` layer is deprecated and will be removed after 08/2017. Use instead layers from `keras.layers.merge`, e.g. `add`, `concatenate`, etc.\n",
      "  return cls(**config)\n"
     ]
    }
   ],
   "source": [
    "from keras.models import load_model\n",
    "\n",
    "try:\n",
    "    model==None\n",
    "except:\n",
    "    model = load_model('./model/HubertLin_naive_2_GRU256_same.model')\n",
    "\n",
    "df_test = pickle.load(open('./dataset/processed/df_test_hubertLin_version.pkl', 'rb'))"
   ]
  },
  {
   "cell_type": "code",
   "execution_count": 55,
   "metadata": {
    "scrolled": true
   },
   "outputs": [
    {
     "name": "stdout",
     "output_type": "stream",
     "text": [
      "0 / 2345796\n",
      "10000 / 2345796\n",
      "20000 / 2345796\n",
      "30000 / 2345796\n",
      "40000 / 2345796\n",
      "50000 / 2345796\n",
      "60000 / 2345796\n",
      "70000 / 2345796\n",
      "80000 / 2345796\n",
      "90000 / 2345796\n",
      "100000 / 2345796\n",
      "110000 / 2345796\n",
      "120000 / 2345796\n",
      "130000 / 2345796\n",
      "140000 / 2345796\n",
      "150000 / 2345796\n",
      "160000 / 2345796\n",
      "170000 / 2345796\n",
      "180000 / 2345796\n",
      "190000 / 2345796\n",
      "200000 / 2345796\n",
      "210000 / 2345796\n",
      "220000 / 2345796\n",
      "230000 / 2345796\n",
      "240000 / 2345796\n",
      "250000 / 2345796\n",
      "260000 / 2345796\n",
      "270000 / 2345796\n",
      "280000 / 2345796\n",
      "290000 / 2345796\n",
      "300000 / 2345796\n",
      "310000 / 2345796\n",
      "320000 / 2345796\n",
      "330000 / 2345796\n",
      "340000 / 2345796\n",
      "350000 / 2345796\n",
      "360000 / 2345796\n",
      "370000 / 2345796\n",
      "380000 / 2345796\n",
      "390000 / 2345796\n",
      "400000 / 2345796\n",
      "410000 / 2345796\n",
      "420000 / 2345796\n",
      "430000 / 2345796\n",
      "440000 / 2345796\n",
      "450000 / 2345796\n",
      "460000 / 2345796\n",
      "470000 / 2345796\n",
      "480000 / 2345796\n",
      "490000 / 2345796\n",
      "500000 / 2345796\n",
      "510000 / 2345796\n",
      "520000 / 2345796\n",
      "530000 / 2345796\n",
      "540000 / 2345796\n",
      "550000 / 2345796\n",
      "560000 / 2345796\n",
      "570000 / 2345796\n",
      "580000 / 2345796\n",
      "590000 / 2345796\n",
      "600000 / 2345796\n",
      "610000 / 2345796\n",
      "620000 / 2345796\n",
      "630000 / 2345796\n",
      "640000 / 2345796\n",
      "650000 / 2345796\n",
      "660000 / 2345796\n",
      "670000 / 2345796\n",
      "680000 / 2345796\n",
      "690000 / 2345796\n",
      "700000 / 2345796\n",
      "710000 / 2345796\n",
      "720000 / 2345796\n",
      "730000 / 2345796\n",
      "740000 / 2345796\n",
      "750000 / 2345796\n",
      "760000 / 2345796\n",
      "770000 / 2345796\n",
      "780000 / 2345796\n",
      "790000 / 2345796\n",
      "800000 / 2345796\n",
      "810000 / 2345796\n",
      "820000 / 2345796\n",
      "830000 / 2345796\n",
      "840000 / 2345796\n",
      "850000 / 2345796\n",
      "860000 / 2345796\n",
      "870000 / 2345796\n",
      "880000 / 2345796\n",
      "890000 / 2345796\n",
      "900000 / 2345796\n",
      "910000 / 2345796\n",
      "920000 / 2345796\n",
      "930000 / 2345796\n",
      "940000 / 2345796\n",
      "950000 / 2345796\n",
      "960000 / 2345796\n",
      "970000 / 2345796\n",
      "980000 / 2345796\n",
      "990000 / 2345796\n",
      "1000000 / 2345796\n",
      "1010000 / 2345796\n",
      "1020000 / 2345796\n",
      "1030000 / 2345796\n",
      "1040000 / 2345796\n",
      "1050000 / 2345796\n",
      "1060000 / 2345796\n",
      "1070000 / 2345796\n",
      "1080000 / 2345796\n",
      "1090000 / 2345796\n",
      "1100000 / 2345796\n",
      "1110000 / 2345796\n",
      "1120000 / 2345796\n",
      "1130000 / 2345796\n",
      "1140000 / 2345796\n",
      "1150000 / 2345796\n",
      "1160000 / 2345796\n",
      "1170000 / 2345796\n",
      "1180000 / 2345796\n",
      "1190000 / 2345796\n",
      "1200000 / 2345796\n",
      "1210000 / 2345796\n",
      "1220000 / 2345796\n",
      "1230000 / 2345796\n",
      "1240000 / 2345796\n",
      "1250000 / 2345796\n",
      "1260000 / 2345796\n",
      "1270000 / 2345796\n",
      "1280000 / 2345796\n",
      "1290000 / 2345796\n",
      "1300000 / 2345796\n",
      "1310000 / 2345796\n",
      "1320000 / 2345796\n",
      "1330000 / 2345796\n",
      "1340000 / 2345796\n",
      "1350000 / 2345796\n",
      "1360000 / 2345796\n",
      "1370000 / 2345796\n",
      "1380000 / 2345796\n",
      "1390000 / 2345796\n",
      "1400000 / 2345796\n",
      "1410000 / 2345796\n",
      "1420000 / 2345796\n",
      "1430000 / 2345796\n",
      "1440000 / 2345796\n",
      "1450000 / 2345796\n",
      "1460000 / 2345796\n",
      "1470000 / 2345796\n",
      "1480000 / 2345796\n",
      "1490000 / 2345796\n",
      "1500000 / 2345796\n",
      "1510000 / 2345796\n",
      "1520000 / 2345796\n",
      "1530000 / 2345796\n",
      "1540000 / 2345796\n",
      "1550000 / 2345796\n",
      "1560000 / 2345796\n",
      "1570000 / 2345796\n",
      "1580000 / 2345796\n",
      "1590000 / 2345796\n",
      "1600000 / 2345796\n",
      "1610000 / 2345796\n",
      "1620000 / 2345796\n",
      "1630000 / 2345796\n",
      "1640000 / 2345796\n",
      "1650000 / 2345796\n",
      "1660000 / 2345796\n",
      "1670000 / 2345796\n",
      "1680000 / 2345796\n",
      "1690000 / 2345796\n",
      "1700000 / 2345796\n",
      "1710000 / 2345796\n",
      "1720000 / 2345796\n",
      "1730000 / 2345796\n",
      "1740000 / 2345796\n",
      "1750000 / 2345796\n",
      "1760000 / 2345796\n",
      "1770000 / 2345796\n",
      "1780000 / 2345796\n",
      "1790000 / 2345796\n",
      "1800000 / 2345796\n",
      "1810000 / 2345796\n",
      "1820000 / 2345796\n",
      "1830000 / 2345796\n",
      "1840000 / 2345796\n",
      "1850000 / 2345796\n",
      "1860000 / 2345796\n",
      "1870000 / 2345796\n",
      "1880000 / 2345796\n",
      "1890000 / 2345796\n",
      "1900000 / 2345796\n",
      "1910000 / 2345796\n",
      "1920000 / 2345796\n",
      "1930000 / 2345796\n",
      "1940000 / 2345796\n",
      "1950000 / 2345796\n",
      "1960000 / 2345796\n",
      "1970000 / 2345796\n",
      "1980000 / 2345796\n",
      "1990000 / 2345796\n",
      "2000000 / 2345796\n",
      "2010000 / 2345796\n",
      "2020000 / 2345796\n",
      "2030000 / 2345796\n",
      "2040000 / 2345796\n",
      "2050000 / 2345796\n",
      "2060000 / 2345796\n",
      "2070000 / 2345796\n",
      "2080000 / 2345796\n",
      "2090000 / 2345796\n",
      "2100000 / 2345796\n",
      "2110000 / 2345796\n",
      "2120000 / 2345796\n",
      "2130000 / 2345796\n",
      "2140000 / 2345796\n",
      "2150000 / 2345796\n",
      "2160000 / 2345796\n",
      "2170000 / 2345796\n",
      "2180000 / 2345796\n",
      "2190000 / 2345796\n",
      "2200000 / 2345796\n",
      "2210000 / 2345796\n",
      "2220000 / 2345796\n",
      "2230000 / 2345796\n",
      "2240000 / 2345796\n",
      "2250000 / 2345796\n",
      "2260000 / 2345796\n",
      "2270000 / 2345796\n",
      "2280000 / 2345796\n",
      "2290000 / 2345796\n",
      "2300000 / 2345796\n",
      "2310000 / 2345796\n",
      "2320000 / 2345796\n",
      "2330000 / 2345796\n",
      "2340000 / 2345796\n"
     ]
    }
   ],
   "source": [
    "def predict(i,q):\n",
    "    \n",
    "    if i%10 == 0:\n",
    "        print(i*1000, '/', len(df_test))\n",
    "    \n",
    "    x1 = np.array(list(q['question1']))\n",
    "    x2 = np.array(list(q['question2']))\n",
    "    return model.predict([x1,x2])[:,1]\n",
    "\n",
    "partition_size = 1000\n",
    "partition_len = len(df_test)//partition_size +1\n",
    "result = [predict(i,df_test.iloc[i*partition_size:(i+1)*partition_size]) for i in range(partition_len)]\n",
    "con = np.concatenate(result)\n",
    "df_result = pd.DataFrame({'test_id':np.arange(len(con)),'is_duplicate':con}, columns=['test_id','is_duplicate'])\n",
    "df_result.to_csv('./result/prediction.csv', index=False)"
   ]
  },
  {
   "cell_type": "code",
   "execution_count": null,
   "metadata": {
    "collapsed": true
   },
   "outputs": [],
   "source": []
  },
  {
   "cell_type": "code",
   "execution_count": null,
   "metadata": {
    "collapsed": true
   },
   "outputs": [],
   "source": []
  },
  {
   "cell_type": "code",
   "execution_count": null,
   "metadata": {
    "collapsed": true
   },
   "outputs": [],
   "source": []
  }
 ],
 "metadata": {
  "kernelspec": {
   "display_name": "Python 3",
   "language": "python",
   "name": "python3"
  },
  "language_info": {
   "codemirror_mode": {
    "name": "ipython",
    "version": 3
   },
   "file_extension": ".py",
   "mimetype": "text/x-python",
   "name": "python",
   "nbconvert_exporter": "python",
   "pygments_lexer": "ipython3",
   "version": "3.5.0"
  }
 },
 "nbformat": 4,
 "nbformat_minor": 2
}
