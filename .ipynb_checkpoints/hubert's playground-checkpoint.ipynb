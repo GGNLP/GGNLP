{
 "cells": [
  {
   "cell_type": "code",
   "execution_count": 2,
   "metadata": {
    "collapsed": true
   },
   "outputs": [],
   "source": [
    "import numpy as np\n",
    "import pandas as pd\n",
    "import pickle"
   ]
  },
  {
   "cell_type": "code",
   "execution_count": 4,
   "metadata": {},
   "outputs": [],
   "source": [
    "dec_map = pickle.load(open('./dataset/processed/dec_map.pkl','rb'))\n",
    "enc_map = pickle.load(open('./dataset/processed/enc_map.pkl','rb'))\n",
    "embedding_matrix = pickle.load(open('./dataset/processed/embedding_matrix.pkl','rb'))\n",
    "df_train = pd.read_csv('./dataset/processed/processed_training_data.csv')"
   ]
  },
  {
   "cell_type": "code",
   "execution_count": 9,
   "metadata": {
    "collapsed": true
   },
   "outputs": [],
   "source": [
    "def load_glove():\n",
    "    embeddings_index = {}\n",
    "    print('Loading from GloVe file on hard disk ... ')\n",
    "    f = open('./dataset/raw/glove.840B.300d.txt', 'r', encoding='utf-8')\n",
    "    for line in f:\n",
    "        values = line.split()\n",
    "        word = values[0]\n",
    "        try:\n",
    "            coefs = np.asarray(values[1:], dtype='float32')\n",
    "        except Exception as e:\n",
    "            if e==KeyboardInterrupt:\n",
    "                raise KeyBoardInterrupt\n",
    "            print('exception word: ', values[0], ' ', values[1], ' ', values[2])\n",
    "            continue\n",
    "        embeddings_index[word] = coefs\n",
    "    f.close()\n",
    "    return embeddings_index"
   ]
  },
  {
   "cell_type": "code",
   "execution_count": 10,
   "metadata": {},
   "outputs": [
    {
     "name": "stdout",
     "output_type": "stream",
     "text": [
      "Loading from GloVe file on hard disk ... \n",
      "exception word:  .   .   .\n",
      "exception word:  at   name@domain.com   0.0061218\n",
      "exception word:  .   .   .\n",
      "exception word:  to   name@domain.com   0.33865\n",
      "exception word:  .   .   0.035974\n",
      "exception word:  .   .   .\n",
      "exception word:  email   name@domain.com   0.33529\n",
      "exception word:  or   name@domain.com   0.48374\n",
      "exception word:  contact   name@domain.com   0.016426\n",
      "exception word:  Email   name@domain.com   0.37344\n",
      "exception word:  on   name@domain.com   0.037295\n",
      "exception word:  At   Killerseats.com   -0.13854\n",
      "exception word:  by   name@domain.com   0.6882\n",
      "exception word:  in   mylot.com   -0.18148\n",
      "exception word:  emailing   name@domain.com   0.39173\n",
      "exception word:  Contact   name@domain.com   0.14933\n",
      "exception word:  at   name@domain.com   0.44321\n",
      "exception word:  •   name@domain.com   -0.13288\n",
      "exception word:  at   Amazon.com   -0.5275\n",
      "exception word:  is   name@domain.com   -0.1197\n"
     ]
    }
   ],
   "source": [
    "glove = load_glove()"
   ]
  },
  {
   "cell_type": "code",
   "execution_count": null,
   "metadata": {
    "collapsed": true
   },
   "outputs": [],
   "source": []
  },
  {
   "cell_type": "code",
   "execution_count": null,
   "metadata": {
    "collapsed": true
   },
   "outputs": [],
   "source": []
  }
 ],
 "metadata": {
  "kernelspec": {
   "display_name": "Python 3",
   "language": "python",
   "name": "python3"
  },
  "language_info": {
   "codemirror_mode": {
    "name": "ipython",
    "version": 3
   },
   "file_extension": ".py",
   "mimetype": "text/x-python",
   "name": "python",
   "nbconvert_exporter": "python",
   "pygments_lexer": "ipython3",
   "version": "3.5.0"
  }
 },
 "nbformat": 4,
 "nbformat_minor": 2
}
