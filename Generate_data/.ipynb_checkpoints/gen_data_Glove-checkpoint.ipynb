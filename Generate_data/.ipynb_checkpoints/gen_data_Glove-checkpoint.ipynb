{
 "cells": [
  {
   "cell_type": "markdown",
   "metadata": {},
   "source": [
    "# Generate training data"
   ]
  },
  {
   "cell_type": "markdown",
   "metadata": {},
   "source": [
    "### ideas not yet done\n",
    "\n",
    "1. if a,b are labeled as same question pair, we can easily gen new training data by\n",
    "\n",
    "        a. for c!=a  =>  c!=b\n",
    "        b. for c==b && d==a  =>  c==d\n",
    "        "
   ]
  },
  {
   "cell_type": "code",
   "execution_count": 67,
   "metadata": {
    "collapsed": true
   },
   "outputs": [],
   "source": [
    "import numpy as np\n",
    "import pandas as pd\n",
    "import re\n",
    "import pickle\n",
    "import json"
   ]
  },
  {
   "cell_type": "markdown",
   "metadata": {},
   "source": [
    "## Load data"
   ]
  },
  {
   "cell_type": "code",
   "execution_count": 68,
   "metadata": {},
   "outputs": [
    {
     "data": {
      "text/html": [
       "<div>\n",
       "<table border=\"1\" class=\"dataframe\">\n",
       "  <thead>\n",
       "    <tr style=\"text-align: right;\">\n",
       "      <th></th>\n",
       "      <th>id</th>\n",
       "      <th>qid1</th>\n",
       "      <th>qid2</th>\n",
       "      <th>question1</th>\n",
       "      <th>question2</th>\n",
       "      <th>is_duplicate</th>\n",
       "    </tr>\n",
       "  </thead>\n",
       "  <tbody>\n",
       "    <tr>\n",
       "      <th>0</th>\n",
       "      <td>0</td>\n",
       "      <td>1</td>\n",
       "      <td>2</td>\n",
       "      <td>What is the step by step guide to invest in sh...</td>\n",
       "      <td>What is the step by step guide to invest in sh...</td>\n",
       "      <td>0</td>\n",
       "    </tr>\n",
       "    <tr>\n",
       "      <th>1</th>\n",
       "      <td>1</td>\n",
       "      <td>3</td>\n",
       "      <td>4</td>\n",
       "      <td>What is the story of Kohinoor (Koh-i-Noor) Dia...</td>\n",
       "      <td>What would happen if the Indian government sto...</td>\n",
       "      <td>0</td>\n",
       "    </tr>\n",
       "    <tr>\n",
       "      <th>2</th>\n",
       "      <td>2</td>\n",
       "      <td>5</td>\n",
       "      <td>6</td>\n",
       "      <td>How can I increase the speed of my internet co...</td>\n",
       "      <td>How can Internet speed be increased by hacking...</td>\n",
       "      <td>0</td>\n",
       "    </tr>\n",
       "    <tr>\n",
       "      <th>3</th>\n",
       "      <td>3</td>\n",
       "      <td>7</td>\n",
       "      <td>8</td>\n",
       "      <td>Why am I mentally very lonely? How can I solve...</td>\n",
       "      <td>Find the remainder when [math]23^{24}[/math] i...</td>\n",
       "      <td>0</td>\n",
       "    </tr>\n",
       "    <tr>\n",
       "      <th>4</th>\n",
       "      <td>4</td>\n",
       "      <td>9</td>\n",
       "      <td>10</td>\n",
       "      <td>Which one dissolve in water quikly sugar, salt...</td>\n",
       "      <td>Which fish would survive in salt water?</td>\n",
       "      <td>0</td>\n",
       "    </tr>\n",
       "  </tbody>\n",
       "</table>\n",
       "</div>"
      ],
      "text/plain": [
       "   id  qid1  qid2                                          question1  \\\n",
       "0   0     1     2  What is the step by step guide to invest in sh...   \n",
       "1   1     3     4  What is the story of Kohinoor (Koh-i-Noor) Dia...   \n",
       "2   2     5     6  How can I increase the speed of my internet co...   \n",
       "3   3     7     8  Why am I mentally very lonely? How can I solve...   \n",
       "4   4     9    10  Which one dissolve in water quikly sugar, salt...   \n",
       "\n",
       "                                           question2  is_duplicate  \n",
       "0  What is the step by step guide to invest in sh...             0  \n",
       "1  What would happen if the Indian government sto...             0  \n",
       "2  How can Internet speed be increased by hacking...             0  \n",
       "3  Find the remainder when [math]23^{24}[/math] i...             0  \n",
       "4            Which fish would survive in salt water?             0  "
      ]
     },
     "execution_count": 68,
     "metadata": {},
     "output_type": "execute_result"
    }
   ],
   "source": [
    "df_train = pd.read_csv('../dataset/raw/train.csv', delimiter=',')\n",
    "df_test = pd.read_csv('../dataset/raw/test.csv', delimiter=',')\n",
    "df_train_size = 404290\n",
    "df_train.head()"
   ]
  },
  {
   "cell_type": "code",
   "execution_count": 69,
   "metadata": {
    "collapsed": true
   },
   "outputs": [],
   "source": [
    "all_questions = np.concatenate([np.array(df_train['question1']), np.array(df_train['question2'])])"
   ]
  },
  {
   "cell_type": "code",
   "execution_count": null,
   "metadata": {
    "collapsed": true
   },
   "outputs": [],
   "source": []
  },
  {
   "cell_type": "markdown",
   "metadata": {},
   "source": [
    "## Parse words\n",
    "\n",
    "Identify the words which are worth for embedding."
   ]
  },
  {
   "cell_type": "code",
   "execution_count": 91,
   "metadata": {
    "collapsed": true
   },
   "outputs": [],
   "source": [
    "def clean_string(text):\n",
    "    # Clean the text\n",
    "    text = re.sub(\"what's\", \"what is \", text)\n",
    "    text = re.sub(\"\\'s\", \" \", text)\n",
    "    text = re.sub(\"\\'ve\", \" have \", text)\n",
    "    text = re.sub(\"can't\", \"cannot \", text)\n",
    "    text = re.sub(\"n't\", \" not \", text)\n",
    "    text = re.sub(\"i'm\", \"i am \", text)\n",
    "    text = re.sub(\"\\'re\", \" are \", text)\n",
    "    text = re.sub(\"\\'d\", \" would \", text)\n",
    "    text = re.sub(\"\\'ll\", \" will \", text)\n",
    "    text = re.sub(\" e.g.\", \" eg \", text)\n",
    "    text = re.sub(\" b.g.\", \" bg \", text)\n",
    "    text = re.sub(\"(\\d+)(kK)\", \"\\g<1>000\", text)\n",
    "    text = re.sub(\"e-mail\", \"email\", text)\n",
    "    \n",
    "    return text\n",
    "\n",
    "def parse_single_words(question, idx=None):\n",
    "    \n",
    "    '''\n",
    "    Usage:\n",
    "\n",
    "        Use regex parse all single words without special characters and non-ascii terms\n",
    "\n",
    "    Returns:\n",
    "\n",
    "        List of string which is identified as a single word without special characters\n",
    "\n",
    "    Testcases:\n",
    "\n",
    "        # test first ten questions in dataset\n",
    "        for i in range(10):\n",
    "            print(i)\n",
    "            print(all_questions[i])\n",
    "            print(parse_single_words(all_questions[i]))\n",
    "            \n",
    "        # another good testcase\n",
    "        print(parse_single_words(\" '我是Hubert Lin, 這 code? 看起來還不錯ㄅ ? ha-ha-ha' \"))\n",
    "\n",
    "    '''\n",
    "    \n",
    "    ascii_only = False\n",
    "    \n",
    "    # identify special characters that separate words : (space) ' ! \" ? @ ^ + * / . , ~ ( ) [ ] { } & | ` $ % = : ; < > -\n",
    "    separator_include_ascii = '(?=[\\s\\'!\"?@\\^+*/\\.,~\\(\\)\\[\\]\\{\\}\\&\\|`\\$\\%\\=:;\\<\\>\\-]|[^\\x00-\\x7F])'\n",
    "    separator = '(?=[\\s\\'!\"?@\\^+*/\\.,~\\(\\)\\[\\]\\{\\}\\&\\|`\\$\\%\\=:;\\<\\>\\-])'\n",
    "    \n",
    "    single_word = '[a-zA-Z0-9]+[a-zA-Z0-9_]*' # rule is at least one eng character or number\n",
    "    \n",
    "    try:\n",
    "        question = clean_string(question)\n",
    "        if not ascii_only:\n",
    "            words = re.findall( single_word + separator_include_ascii + '|[^\\x00-\\x7F]' , question)\n",
    "\n",
    "        elif ascii_only:\n",
    "            words = re.findall( single_word + separator , question)\n",
    "    except:\n",
    "        idx = idx if idx<df_train_size else idx-df_train_size\n",
    "        print('Got execption while handling' , idx, '-th question: ', question)\n",
    "        print('There are two question pairs has empty string, got to deal with that')\n",
    "        words = []\n",
    "        \n",
    "    return words"
   ]
  },
  {
   "cell_type": "code",
   "execution_count": 71,
   "metadata": {},
   "outputs": [
    {
     "name": "stdout",
     "output_type": "stream",
     "text": [
      "Got execption while handling 105780 -th question:  nan\n",
      "There are two question pairs has empty string, got to deal with that\n",
      "Got execption while handling 201841 -th question:  nan\n",
      "There are two question pairs has empty string, got to deal with that\n"
     ]
    }
   ],
   "source": [
    "# Can't do this since return values are lists with different lengths, \n",
    "# this will cause error while np tries to transform all results into np array\n",
    "#\n",
    "# parse_single_words = np.vectorize(parse_single_words)\n",
    "# all_questions_parsed = parse_single_words(all_questions)\n",
    "\n",
    "all_questions_parsed = [parse_single_words(question, idx=i) for i,question in enumerate(all_questions)]"
   ]
  },
  {
   "cell_type": "code",
   "execution_count": 72,
   "metadata": {
    "collapsed": true
   },
   "outputs": [],
   "source": [
    "flatten_word_vec = np.concatenate(all_questions_parsed)\n",
    "unique_word_vec, unique_word_count = np.unique(flatten_word_vec, return_counts=True)"
   ]
  },
  {
   "cell_type": "markdown",
   "metadata": {},
   "source": [
    "#### check if word is in GloVe , if not , do some simple transformation. If this still doesn't work, trash the word."
   ]
  },
  {
   "cell_type": "code",
   "execution_count": 83,
   "metadata": {},
   "outputs": [
    {
     "name": "stdout",
     "output_type": "stream",
     "text": [
      "Loading from GloVe file on hard disk ... \n",
      "exception word:  .   .   .\n",
      "exception word:  at   name@domain.com   0.0061218\n",
      "exception word:  .   .   .\n",
      "exception word:  to   name@domain.com   0.33865\n",
      "exception word:  .   .   0.035974\n",
      "exception word:  .   .   .\n",
      "exception word:  email   name@domain.com   0.33529\n",
      "exception word:  or   name@domain.com   0.48374\n",
      "exception word:  contact   name@domain.com   0.016426\n",
      "exception word:  Email   name@domain.com   0.37344\n",
      "exception word:  on   name@domain.com   0.037295\n",
      "exception word:  At   Killerseats.com   -0.13854\n",
      "exception word:  by   name@domain.com   0.6882\n",
      "exception word:  in   mylot.com   -0.18148\n",
      "exception word:  emailing   name@domain.com   0.39173\n",
      "exception word:  Contact   name@domain.com   0.14933\n",
      "exception word:  at   name@domain.com   0.44321\n",
      "exception word:  •   name@domain.com   -0.13288\n",
      "exception word:  at   Amazon.com   -0.5275\n",
      "exception word:  is   name@domain.com   -0.1197\n"
     ]
    }
   ],
   "source": [
    "def load_glove():\n",
    "    embeddings_index = {}\n",
    "\n",
    "    print('Loading from GloVe file on hard disk ... ')\n",
    "    f = open('../dataset/raw/glove.840B.300d.txt', 'r', encoding='utf-8')\n",
    "    for line in f:\n",
    "        values = line.split()\n",
    "        word = values[0]\n",
    "        try:\n",
    "            coefs = np.asarray(values[1:], dtype='float32')\n",
    "        except Exception as e:\n",
    "            if e==KeyboardInterrupt:\n",
    "                raise KeyBoardInterrupt\n",
    "            print('exception word: ', values[0], ' ', values[1], ' ', values[2])\n",
    "            continue\n",
    "        embeddings_index[word] = coefs\n",
    "    f.close()\n",
    "    \n",
    "glove = load_glove()"
   ]
  },
  {
   "cell_type": "code",
   "execution_count": 118,
   "metadata": {
    "collapsed": true
   },
   "outputs": [],
   "source": [
    "glove_keys_lowercases = {key.lower():key for key in glove}\n",
    "# approximately_mapping = {}\n",
    "\n",
    "def is_glove_embeddable(word):\n",
    "    \n",
    "    if word in glove:\n",
    "        return word\n",
    "    \n",
    "    if word.lower() in glove_keys_lowercases:\n",
    "        return glove_keys_lowercases[word.lower()]\n",
    "    \n",
    "    # Wanna deal with 'un-' or 'in-' prefix cases here, but seems not so neccesary\n",
    "    \n",
    "#     for key in glove.keys():\n",
    "#         if word in key\n",
    "#             approximately_mapping\n",
    "    \n",
    "    \n",
    "    return None"
   ]
  },
  {
   "cell_type": "code",
   "execution_count": 124,
   "metadata": {},
   "outputs": [
    {
     "name": "stdout",
     "output_type": "stream",
     "text": [
      "109813  unique words\n",
      "96529 words occurs more (or equal) than 5 times\n"
     ]
    }
   ],
   "source": [
    "# Remove noise words, whom occurs less than threshold\n",
    "# More words may increase performance, but increases size of word-embedding matrix\n",
    "# occurrence_threshold = 5\n",
    "# selected_words = unique_word_vec[unique_word_count>=occurrence_threshold]\n",
    "\n",
    "# let the GloVe do removing weird words for us\n",
    "glove_handlable_wrods = np.array([is_glove_embeddable(word) for word in unique_word_vec])\n",
    "\n",
    "selected_indexes = glove_handlable_wrods!=np.array([None])\n",
    "selected_words = selected_words[selected_indexes]\n",
    "trash_wrods = selected_words[glove_handlable_wrods==np.array([None])]\n",
    "\n",
    "print(len(unique_word_vec), ' unique words')\n",
    "print(len(selected_words), 'words occurs more (or equal) than', occurrence_threshold , 'times')\n",
    "\n",
    "json.dump(list(selected_words), open('../dataset/processed/selected_words.json', 'w'))"
   ]
  },
  {
   "cell_type": "code",
   "execution_count": 131,
   "metadata": {},
   "outputs": [
    {
     "data": {
      "text/plain": [
       "'626 | 30marks | 995 | 33112 | ABF | 842 | AML | 104 | 1434 | 12975 | ATM | 3D | 1lac | 1894 | 1931 | 32Gb | 740iL | A311 | 807 | 1l | AUTOCAD | 1746 | 6e | 2sinx | 660 | 541 | 360realtors | 802 | 205248 | ALP | 7200U | 8tracks | 3some | 4500U1 | 10W | 4e | ARPDAU | AERONOTICS | 72 | 2posts | 065g | ASICS | 216493 | AREA | 140MM | 5volts | ANDRIOD | 3632QM | 351 | 17'"
      ]
     },
     "execution_count": 131,
     "metadata": {},
     "output_type": "execute_result"
    }
   ],
   "source": [
    "import random\n",
    "\n",
    "' | '.join([unique_word_vec[random.randint(0,len(trash_words)-1)] for i in range(50)])"
   ]
  },
  {
   "cell_type": "code",
   "execution_count": null,
   "metadata": {
    "collapsed": true
   },
   "outputs": [],
   "source": []
  },
  {
   "cell_type": "code",
   "execution_count": null,
   "metadata": {
    "collapsed": true
   },
   "outputs": [],
   "source": []
  },
  {
   "cell_type": "markdown",
   "metadata": {},
   "source": [
    "## Generate encode/decode mapping\n",
    "\n",
    "Encode the question into integers lists, this can reduce time consumption while we do word embedding on training phase"
   ]
  },
  {
   "cell_type": "code",
   "execution_count": 75,
   "metadata": {
    "collapsed": true
   },
   "outputs": [],
   "source": [
    "def build_enc_dec_mapping(words):\n",
    "    \"\"\"\n",
    "    enc_map: voc --encode--> id\n",
    "    dec_map: id --decode--> voc\n",
    "    \"\"\"\n",
    "    \n",
    "    enc_map, dec_map = {}, {}\n",
    "    cannot_encode_words = []\n",
    "    \n",
    "    # add special control characters\n",
    "    # <ST>    : start of question\n",
    "    # <ED>    : end of question\n",
    "    # <RARE>  : rare words occurrence is lower than threshold\n",
    "    # <EMPTY> : no word in such position\n",
    "    rare_characters = ['<RARE'+str(i)+'>' for i in range(100)] # 100 is just a number that I think large enough\n",
    "    special_characters = [ '<ST>', '<ED>', '<EMPTY>'] + rare_characters\n",
    "    sp_len = len(special_characters)\n",
    "    for i,sp in enumerate(special_characters):\n",
    "        enc_map[sp] = i\n",
    "        dec_map[i] = sp\n",
    "    \n",
    "    # add our words into mapping\n",
    "    for i,word in enumerate(words):\n",
    "        if word in glove or is_glove_embeddable(word):\n",
    "            enc_map[word] = sp_len+i\n",
    "            dec_map[sp_len+i] = word\n",
    "            \n",
    "        else:\n",
    "            cannot_encode_words.append(word)\n",
    "            \n",
    "    print(' | '.join(cannot_encode_words))\n",
    "    \n",
    "    return enc_map, dec_map"
   ]
  },
  {
   "cell_type": "code",
   "execution_count": 76,
   "metadata": {
    "collapsed": true
   },
   "outputs": [],
   "source": [
    "enc_map, dec_map = build_enc_dec_mapping(selected_words)\n",
    "\n",
    "# save enc/decoding map to disk\n",
    "# json.dump(enc_map, open('dataset/processed/enc_map.json', 'w'))\n",
    "# json.dump(dec_map, open('dataset/processed/dec_map.json', 'w'))\n",
    "pickle.dump(enc_map, open('../dataset/processed/enc_map.pkl', 'wb'))\n",
    "pickle.dump(dec_map, open('../dataset/processed/dec_map.pkl', 'wb'))\n",
    "vocab_size = len(dec_map)"
   ]
  },
  {
   "cell_type": "code",
   "execution_count": 77,
   "metadata": {},
   "outputs": [],
   "source": [
    "def enc_question_pair(question_pair_list, enc_map, capsulate_st_ed=False):\n",
    "\n",
    "    def enc_question(question):\n",
    "\n",
    "        if type(question)!=str or question==\"\":\n",
    "            if capsulate_st_ed:\n",
    "                return [enc_map['<ST>'], enc_map['<ED>']]\n",
    "            else:\n",
    "                return []\n",
    "\n",
    "        def map_wrod(word):\n",
    "            if word in enc_map:\n",
    "                return enc_map[word]\n",
    "            elif word in rare_words:\n",
    "                idx = np.where(np.array(rare_words)==word)[0][0]\n",
    "                return enc_map['<RARE' + str(idx) + '>']\n",
    "            else:\n",
    "                rare_words.append(word)\n",
    "                return enc_map['<RARE' + str(len(rare_words)-1) + '>']\n",
    "\n",
    "        # identify special characters that separate words : (space) ' ! \" ? @ ^ + * / . , ~ ( ) [ ] { } & | ` $ % = : ; < >  \n",
    "        separator = '(?=[\\s\\'!\"?@\\^+*/\\.,~\\(\\)\\[\\]\\{\\}\\&\\|`\\$\\%\\=:;\\<\\>\\-]|$)'\n",
    "        single_word = '[^\\s\\-]+' # non-empty is enough here\n",
    "\n",
    "        words_list = re.findall(single_word+separator, question)\n",
    "\n",
    "        if capsulate_st_ed:\n",
    "            return [enc_map['<ST>']] + [map_wrod(word) for word in words_list] + [enc_map['<ED>']] \n",
    "        else:\n",
    "            return [map_wrod(word) for word in words_list]\n",
    "        \n",
    "    # This array is a local cache that identify those non-encoded rare words. \n",
    "    # We'll assign identical index (in this question pair) for each of rare words\n",
    "    rare_words = []\n",
    "    \n",
    "    return enc_question(question_pair_list[0]) , enc_question(question_pair_list[1])\n",
    "    \n",
    "    \n",
    "def dec_question(question, dec_map):\n",
    "    return [dec_map[enc_value] for enc_value in question]"
   ]
  },
  {
   "cell_type": "code",
   "execution_count": 78,
   "metadata": {},
   "outputs": [
    {
     "name": "stdout",
     "output_type": "stream",
     "text": [
      "Original question:  glove is a good library howww awesomeeeee this work is awesomeeeee\n",
      "Encoded:  [73738, 78987, 53208, 73898, 81395, 3, 4] [103122, 108265, 78987, 4]\n",
      "Decoded:  ['glove', 'is', 'a', 'good', 'library', '<RARE0>', '<RARE1>'] ['this', 'work', 'is', '<RARE1>']\n"
     ]
    }
   ],
   "source": [
    "# testcase\n",
    "question1 = 'glove is a good library howww awesomeeeee'\n",
    "question2 = 'this work is awesomeeeee'\n",
    "enc1, enc2 = enc_question_pair([question1, question2], enc_map)\n",
    "dec1 = dec_question(enc1, dec_map)\n",
    "dec2 = dec_question(enc2, dec_map)\n",
    "\n",
    "print('Original question: ', question1, question2)\n",
    "print('Encoded: ', enc1, enc2)\n",
    "print('Decoded: ', dec1, dec2)"
   ]
  },
  {
   "cell_type": "code",
   "execution_count": null,
   "metadata": {
    "collapsed": true
   },
   "outputs": [],
   "source": []
  },
  {
   "cell_type": "markdown",
   "metadata": {},
   "source": [
    "## Generate embedding matrix for GloVe\n",
    "\n",
    "Warning:\n",
    "\n",
    "Don't run this if not necessary. This takes about 10 minutes."
   ]
  },
  {
   "cell_type": "code",
   "execution_count": 102,
   "metadata": {
    "collapsed": true
   },
   "outputs": [],
   "source": [
    "def generate_embedding_matrix(glove, dec_map, lang_dim):    \n",
    "    \n",
    "    out_vocab = []\n",
    "    \n",
    "    # prepare embedding matrix\n",
    "    print('Load complete, start embedding ... ')\n",
    "    embedding_matrix = np.random.rand(len(dec_map), lang_dim)\n",
    "    for idx, wd in dec_map.items():\n",
    "        if wd in glove.keys():\n",
    "            embedding_matrix[idx] = glove[wd]\n",
    "        else:\n",
    "            out_vocab.append(wd)\n",
    "    print('\\nNot in pre-trained vocabulary list:\\n', ','.join(out_vocab))\n",
    "    return embedding_matrix"
   ]
  },
  {
   "cell_type": "code",
   "execution_count": 103,
   "metadata": {},
   "outputs": [
    {
     "name": "stdout",
     "output_type": "stream",
     "text": [
      "Load complete, start embedding ... \n",
      "\n",
      "Not in pre-trained vocabulary list:\n"
     ]
    },
    {
     "name": "stdout",
     "output_type": "stream",
     "text": [
      " <ST>,<ED>,<EMPTY>,<RARE0>,<RARE1>,<RARE2>,<RARE3>,<RARE4>,<RARE5>,<RARE6>,<RARE7>,<RARE8>,<RARE9>,<RARE10>,<RARE11>,<RARE12>,<RARE13>,<RARE14>,<RARE15>,<RARE16>,<RARE17>,<RARE18>,<RARE19>,<RARE20>,<RARE21>,<RARE22>,<RARE23>,<RARE24>,<RARE25>,<RARE26>,<RARE27>,<RARE28>,<RARE29>,<RARE30>,<RARE31>,<RARE32>,<RARE33>,<RARE34>,<RARE35>,<RARE36>,<RARE37>,<RARE38>,<RARE39>,<RARE40>,<RARE41>,<RARE42>,<RARE43>,<RARE44>,<RARE45>,<RARE46>,<RARE47>,<RARE48>,<RARE49>,<RARE50>,<RARE51>,<RARE52>,<RARE53>,<RARE54>,<RARE55>,<RARE56>,<RARE57>,<RARE58>,<RARE59>,<RARE60>,<RARE61>,<RARE62>,<RARE63>,<RARE64>,<RARE65>,<RARE66>,<RARE67>,<RARE68>,<RARE69>,<RARE70>,<RARE71>,<RARE72>,<RARE73>,<RARE74>,<RARE75>,<RARE76>,<RARE77>,<RARE78>,<RARE79>,<RARE80>,<RARE81>,<RARE82>,<RARE83>,<RARE84>,<RARE85>,<RARE86>,<RARE87>,<RARE88>,<RARE89>,<RARE90>,<RARE91>,<RARE92>,<RARE93>,<RARE94>,<RARE95>,<RARE96>,<RARE97>,<RARE98>,<RARE99>,00000074,0000021210,000INR,000Rs,000USD,000WebHost,000rs,003SC,008801703772104,0088882578743,00GHz,013J,018v4,01GBP,035tx,03g,041x,04LTS,05246,05_mar,065g,0665745511651039,067972477X,06x08,07904378172,079tx,07ish,08888888888,088989914321,08GB,09987510597,0GHz,0XC00000E9,0are,0dev,0n7,0x0000605,0x0c0007,0x80004004,0x80070422,0x80070424,0x80070426,0x80072efd,0x80072f78,0x80073CF6,0x80073cf0,0x800f081f,0xc000007b,0xc000014c,0xc0000225,0xc00007b,0xdde224f0,10000INR,10000mAH,10000rs,1000Rs,1000kb,1000note,1000rs,1000tKB,1000views,100AUD,100CE,100P2,100ahr,100degrees,100marks,100ng,100rs,100sft,100square,1010KB,101yr,1040mph,1042s,105306812205,1079rank,1080ti,1080x2560,108y,109cc,10CGPA,10Kgs,10RNC,10cgpa,10e3,10lac,10lacs,10rs,10sqrt,11000INR,1101101,110kgs,110kw,113y,115197,116bpm,116tx,119GB,11and12,11class,11gb,11give,1200watts,121392,121832,122600,123exchanges,123movies,1240nm,125126,125353fshsgsjhs2527bwv2u888,125700,125AMP,125miles,12800s,1293LZ,12H143,12IU,12Lac,12class,12cubic,12std,12thclass,12thee,13000mAh,1300D,1300USD,1300d,1300mA,130cc,13101988,13112221,132Kv,134bp,13ISK,13mbs,14060M,14159265359,141V,141v,142V,143movies,144002,1440x2560,144hz,1475fps,149Q,149V,14posts,15000rs,1505M,150AH,150ibs,151012,151271,1515HD,153V,154V,155cc,155mbs,1575M,15ISK,15LPA,15SE,15ab219,15au101nx,15dayes,15iBD,15kVA,160R,160q,160r,161998,161Q,164595,167Q,167x,16800mAh,168Q,16lpa,16mol,16tg,16volts,17580364,17PS,17episodes,17feet,18002046959,18002201041,18002430051,1800CHF,1800_,180714Calculate,180days,180x360,18251468,183662,18446630666,18500rs,1857revolt,18JAN,18abc,191r,1950PER,1987mL,1991was,1996Use,19mg,19pencils,19v26,1A111IN,1AMU,1BDR,1Bln,1F86,1GBP,1GiB,1Google,1INR,1Lacs,1MWT,1Tbps,1and2and,1atom,1centbtc,1crore,1cubic,1home,1km2,1kva,1kwh,1lac,1lak,1mWh,1pro,1rs,1rule,1rx16,1visionary,20000mah,2000INR,2000Rs,2000USD,2000rs,2004v,2009es,200AH,200AS,200Ahr,200RS,200ah,200as,200hours,200rs,200um,2016_2017,2016so,2017and,202504,202ii,203etc,203tx,2048m,204TX,205248,2060W,207J,208Y,20MoCrE4,20__,20lakh,210205,2137tx,2150000,2160x3840,216493,2188503383,21volts,220f,2212221,221G,224M,225112,229T,22LF460A,22P413D,22amp,22lf460a,22p413d,2300MHz,230Ah,2328M,233cl,2348M,23AM,23n,23year,2400kms,2403rank,24522591,2475mg,24TS,24lacs,24miles,24sessions,25000INR,25000ft,2500Km,2500per,250RC,250kva,2512BLK,251_,256SSD,25LPA,25Lakh,25lacs,25lit,25q,2600mg,269300,26yrars,271BA,272304,2730U,2730u,2745709,2750U,2750u,27Mb,27e22,280X,280daily,2870000,28AM,28ah,28teeth,29Y,2BDR,2H2SO4,2HBr,2K16,2K17,2K18,2MCP14,2NO_2,2Q15,2Vp,2X25,2accounts,2angleBPC,2b2t,2bs,2cans,2cgpa,2cm3,2cosxsinx,2fa,2fscript,2fy,2gt,2gx,2hands,2hxy,2k15,2k16,2k17,2lakh,2lpa,2mv,2ndEdition,2ndchance,2orls,2pie,2positrons,2posts,2prime,2sinx,2tan,2x1c,2xe,2xsinx,2xsquare,2xweeks,30000ft,30000rs,3000EAD,3000GBP,3000watt,300Rs,300grain,300plus,300tu,303D,306sh,30Lac,30WHrs,30marks,30mki,30palladam,30yrold,30z,3110M,312211,3152150252,31JUL15,31december,32000k,32002634,320x455,326g,329c,32AWG,32LB5650,32is,32n,3300MX,330KIAS,3337U,334i,33am,33is,33mail,33pm,3400987,341P,34842,35000Rupees,35000ft,35000rs,3500rs,350kv,3516B,352232,35372950,3542541TB2SU1,357000,358304070019587,35866010105619,35874,35AM,360realtors,3632QM,365dayscoupons,367864744,36kV,36lacs,37Whrs,37f,3825U,38gms,38z,3B24H,3Blue1Brown,3C2V,3CCBr3,3Cr,3LPA,3Lack,3WH,3abc,3al250v,3black,3cases,3digit,3dplm,3dprint,3ealert,3iron,3kcal,3lacs,3lakhs,3lks,3m5,3mnths,3nozzles,3offers,3omri,3qx,3rdyr,3sint,3sinx,3sqrt,3x8s,40000inr,4005U,400709,400kv,4030u,407000,40864,40C8,40R552C,40am,40dx,40kmph,40laks,40vol,40x27x24,4195s,41latitude,4200mg,4200u,424344,425b,42LG5820,4320p,43LH600T,43W800C,442301,44474,4500U1,450TC1,450TC3,4510U,458000,45minuteswealth,462000,4690k,46y9,4700th,47455E,475G,4790k,482466,48N6E2,49X8300D,49gpa,49v8,4CH2NH2,4Mpbs,4X16,4and5th,4cos,4digit,4eV,4lacs,4lakhs,4lap,4loko,4lokos,4lpa,4mm7018,4mmc,4wheelar,4xdx,500000rs,50000rs,50000rupees,5000RMB,5000TL,5000hp,5000sqft,5005U,500INR,500Rs,500SQM,500kva,500rs,504q,50KN,50kmph,50lac,50lakh,512SSD,51465,516m,52000Rs,5200U,522TX,523598,526g,528491,53799,53million,54860,5500M,5500U,550KL,550marks,551g,551kg,555timer,55640,55am,55inches,55pm,5676977,56x45mm,5700HQ,571500,57196,572G,573G,574G,58205986,594g,59PM,5AWA,5CGPA,5Diii,5Div,5LPA,5LPa,5NO,5Ton,5bc,5cgpa,5cr,5gpa,5h2o,5kva,5lac,5lacs,5lakh,5lakhs,5led,5leyer,5lpa,5mnth,5x5s,6000P,6000Rs,6000rs,600x4000,60kwatt,60wpm,6100U,610mhz626mhz658mhz706mhz,6198U,61xL,6200U,6200u,626G,626g,626s,62Kg,62mi,62x39,62x51,62x51mm,62x54R,6300HQ,6300IP,6300in,63Dollars,63kgs,6400M,6402p,640XL,64kgs,6500TL,6500U,6500u,656g,65745512E,65R14,65Rs,65kmph,6600U,6600k,66bn,66kv,6700HQ,676767,6786156027,67P,6800k,68mg,68percentile,699th,69n,6Ghz,6J329WW,6LPA,6Wh,6Y30,6Years,6___,6allolactosethe,6amps,6eV,6exi,6gram,6kv,6lCTC,6lpa,6nights,6sigma,6x43,6yearsold,700119,700173,7007349099,70kmph,70r,7100U,7200U,7200u,72litres,732873,7371922543,741and,74HC00N,7500U,7500u,750LiM,750d,750ti,756033,75700wi0pi65hyhev0z8w5,75GiB,75amps,75bpm,75cos,75t,75yz,760D,774mg,786MB,78lmt,792g,79548,7Cfalse,7GPA,7Ghz,7KVA,7LPA,7Plus,7Sins,7cpc,7cz,7edge,7engine,7fXKer,7gen,7ghz,7house,7lpa,7mesh,7people,7segment,7thhouse,7tint,8000TL,80028E02,80070643,8007358558,80073CF9,8009315079,800AUD,800B0001,80710092,80710102,80710723,80710A06,80721,80DDB,80GHz,80HD,80NT00L3IN,80NT00L6IN,80Sq,80gg,80ty,80watts,816G,816g,81ng,820G,820M,820Q,820S,82MS,8320E,8353535,83KM,840M,8440P,8462852,8550G,85ps,8700P,8700p,8780P,88303,888X4,890010m,8999999999999999,8Amp,8BEN,8GBDDR3,8Ghz,8LPA,8Lack,8LoqAvAT_zoHwAg,8_8,8backlogs,8chan,8gpa,8lac,8x9784,9000in,900KWD,9015044446,9018328789,90FPS,90lpa,90mbps,90mpm,90percentile,910415,9170K,91GBps,920M,9210382984,9280H,92gb,92lpa,930M,936L,940M,940MX,940mx,940x3G,943n,94lbs,9534340901,9560302228,9590907907,960M,96176434603,9700P,9742233123,975L,980M,980ti,9824712120,9911233016,991MS,991SP,9960897588,99dresses,9GHz,9YRS,9apps,9cubic,9ghz,9o0gle,9techracers,9w1,9w8,9yease,A065,A068,A1533,A1660,A1723,A1778,A269i,A2Aed,A2As,A450CG,A450lc,A501CG,A5100,A547,A555LF,A6300,A6600,A7II,A7RII,AAC0,AADHAAR,AADHAR,AADMK,AAing,AB035TX,AB219TX,AB516TX,AB552tx,ABGT,ACADS,ACMA_6,ACTEX,ADHM,ADIRU,ADIZs,ADOdc,ADS1299,ADUB,AERONOTICS,AGMARK,AGMUT,AHAYAH,AI173,AIATS,AIATs,AIIB,AIIIMS,AIIMs,AIITS,AILET,AIMCAT,AIMCATS,AIMCATs,AIMIM,AIMIT,AIPPM,AIPVT,AIR294,AIRBNB,AIRLOYAL,AIRPod,AISEE,AISSCE,AIaaS,AJk,AKTU,ALAsset,ALCL3,ALLIGNMENT,ALYX,AM020TU,AMAZEV,AMC1,AMIETE,AMT103,ANALGIN,ANBC,ANDRIOD,ANSIBLE,ANTHE,AONT,AOPS,AOSDHIADSOIHADSO,AP1682,APache,AQ4502,ARAKU,ARGB8888,ARPDAU,ARTICALSHIP,ARchitecture,ASEAM,ASF5,ASFPA,ASUS_T00Q,ASU_CE,ATMega32,ATROGER,ATRRS,ATmega368,AU003TX,AU006TX,AU084TX,AU084tx,AU111TX,AU114TX,AUQNERZMPGLFTKBWVIOSCJXDH,AUSM,AVRAGE,AWA3,AY2015,AYODHYA,AYOO8TX,AYURVED,AYYO,AZW3,A_,A_s_de_,Aachar,Aadaab,Aadhe,Aalavandhan,Aamdaar,Aammir,Aamzon,Aanvla,Aarid,Aashiui,Aassange,Aassi,Aatank,Aatm,Aatmatrisha,Aavashyakta,Aawad,Aayog,Abaday,Abdaal,AbdurRaheem,Abhayanand,Abhibus,Abhyaas,Abimilech,AboUt,AboobackerAmani,Aborignals,Abrahimcs,Abramic,Abramovi,Abudabi,AcadGild,Accnture,Accounnting,AccountPlus,Accreditaton,Accuras,AceSIP,Achanakmar,Achayan,Achayathi,Achchha,Achlinux,Achyutam,AcquireRequestState,Acsend,ActionCable,Actionhero,ActiveBuyersGuide,ActiveFloor,ActiveJunkie,ActiveJunky,Activecampaing,Activehours,Actressess,Acuitus,Acutel,Acutury,Ad810,AdFly,AdFurther,AdTangerine,AdX,Adaptly,AddFav,AddMeFast,Addanyproject,Addepar,Additioanally,Adhaar,Adhivakta,Adholiekhit,Adhuri,Adisaptagram,Aditize,Adlens,Adlerflug,Admovate,AdultWork,Advaitam,Adviceable,Advisary,Aeroway,Afact,Afcat,Afloral,Afmc,AfroJet,Afsharid,Afzhalkhan,AgCL,AgCN,Aggamoto,Aggarbati,Aggre,Aghoris,Agnez,Agnipariksha,Agosh,Aguabot,Ahdd,Ahemadabad,Ahemedabaad,Ahimsavadi,Ahirs,Ahmedkutty,Ahnad,Ahok,Aigiri,Aiims,Aiir,Aipmt,AirBar,AirBnb,AirPods,AirbnB,Airdna,Airlander,Airpods,Airtable,Airtasker,Airwoot,Aishwaya,Ajeenkya,Ajura,Akand,Akesu,AkhandBharat,Akitaattori,Akkhiel,Aksener,Akshai,Aktu,Akundi,Al2o3,Alapacia,Alawamiya,Albaani,Albatraoz,Alchoholism,Alethinophidia,AlexNet,Alexeyevka,Algentis,Algold,Algorithems,Algortithm,Algotronix,AlienJak,Aligarah,Aligno,Alipiri,Alizeh,Allatini,Allentab,AlleyWatch,Alliens,Alliser,Almamater,AlphaGo,AlphaSights,Alprax,Alsharqyia,Altaba,Aluminumchloride,Alumniothermite,Amanatullah,AmazingGirl,Amazingphil,Amazingsuperpowers,Amazon421xs,AmazonSQS,Amazonesque,Amazonsmile,Ambarsariya,Ambhani,Ambiverts,Ambrane,Amedical,Ameeican,Amenadiel,AmeriTrade,AmericaMag,Americsns,Amernia,Ampush,Amulyam,Amydus,Amzng,An225,Anaar,Anabolisum,Anagrow,Anandiben,Anandmayi,Anandvihar,Ananf,Ananthagiri,Anarkalis,Anasir,Anaspure,Anathomy,Ancoring,Andhraites,Andman,Andreass,AndroidDriver,Android_kitkat,Andulus,Angavastram,Angloromani,Angrywhitemenistan,Angular1,Angular2,AngularJs,AngularJs2,Angularjs,Anibrain,Anjaw,Anjeet,Anjney,Anjolina,Anlamaz,Anlu,Annadata,Annigeri,AnnualCreditReport,Annulene,Anonytext,Ansupa,AnswerRe,Answerly,Antardasha,Antarvasna,Antavo,Antergos,Antminer,Anudeep,Anumati,Anupallavi,Anushasan,Anustup,Anvesha,Anyview,AoPS,ApacheRTR160,Aphantasia,Apj,Apkudo,ApnaCloud,Aponeurosis,AppAnalytics,AppEnsure,AppInstruct,AppML,AppTaskit,Appannie,Appd,AppendProc,Appium,Applepay,Applewise,Applits,ApplyLayer,Appointy,AppsFlyer,Appsc,Appsee,Apptopia,Appzillon,Aptoide,Aquous,ArH3,Aratana,Aravam,Arcak,Arcamax,Arcesium,ArchiveBay,Arcsine,Arctan,Arekere,Arfeen,Aridhaman,Arihants,Arijith,Ariozona,Arirtel,Aristotle1,Aritar,Arjit,Arkandan,Armethia,ArmsIndustry,Arnub,Aronchupa,Aroras,Arrowverse,Arsd,Arstine,Arthakranti,Arthematical,Articlebunny,Arunabh,Arunchal,Arveni,Arzaylea,AsF6,Asbesto,Aschermann,Asend,Asgutosh,Ashikas,Ashtama,Ashtothram,Ashvem,Ashwamedh,Ashwathama,Ashwatthama,Ashwem,Asiamiles,AskAPatient,AskMeFast,Aspergians,AspireAT,Asral,Assosiates,Asssam,Astrazenecca,Aswathama,Aswatthama,Athavada,AthleanX,Aticchanda,Atijagati,Atirau,Ativeer,Ativirat,Atladra,AtmaKarka,Atmas,Atmega32,AtomNet,Atowood,Atricure,Atriox,Atsume,Attakathi,Atyasti,Audiomack,Audrino,Auerstedt,AugustaWestland,Auram,Aurvedic,AutoMouser,AutodCAD,Autoencoder,Autoencoders,Automtotive,AvPD,Avanse,Avecinna,Aventadors,Avergers,Aviato,Avtara,Avurvedic,Awadesh,Awadhe,Awdesh,Awdhesh,AwePost,Awesong,Axtria,Ayog,Ayurwin,Ayushmaan,Ayyampuzha,Azarga,Azekinazi,Azerdict,B11R,B1visa,B3030A,B3031A,B4H10,B613,B987,B9R,BAARC,BABASAHEB,BAGALKOT,BAJIRAO,BALLB,BANDGAP,BASANTI,BBBJTC,BBNL,BBr3,BC107,BCIM,BCM43xx,BDEF,BDNQ,BDOF,BDT_2048,BDaaS,BEARDO,BEH2,BEKK,BESUS,BHARTIYA,BHIM,BIGO,BIHARCOACHINGACT,BIJNOR,BILANI,BIMARU,BIPC,BITKAN,BITSians,BJPs,BKFS,BKOrvHIh7c8,BLISC,BMSAP,BMSCE,BMSIT,BMath,BNBR,BOATERexam,BOBL,BOOKZ,BPMT,BPO2,BRDS,BREXIT,BSBDA,BSTAT,BSVI,BSchools,BStat,BTASBVA,BTServer,BTtech,BUSINUESS,BVUCOEP,BYJU,Baahubali,Baalgopal,Baariz,Babafacts,BabelJs,Babitaji,BabylonJS,Babymetal,Bachatzon,Back4App,Backfoot,BackgroundSubtractorMOG2,Backlinkwatch,Bacla,Badma,Badnera,Badshaah,Bagat,Bagmane,Bahadhur,Bahammas,Bahullah,Bahurupi,Bakchod,Bakhair,Balagurusamy,BalajiViswanathan,Balarka,Ballit,Balloonman,Baloachistan,Balvaidnyanik,Bamnoli,Bamprelle,Banalinga,Bandhgala,Bandishs,BangaloreChennai,Bangalorian,Banglalion,Bangtan,Baniye,Bansals,Banstand,Bapycandelario,Barazilian,Barbarik,Barbaross,Baregama,Barkbox,Bartetzko,Barujibi,Barzinji,Basilinna,Baswan,Batao,Batkid,Batliwala,Batshuayi,Bawri,Baywords,Bazgym,BazooCam,Bcece,Bcells,BeCI2,BeFrugal,BeTouch,BeagleBoards,Beanstalkd,Becauseof,Beenteen,Beepi,Beerus,Befikre,BeforeTheFlood,Begani,Behno,BeiDou,Being_Humor,Belario,Belavezhskaya,Believeinmermaids,Believerism,BellaDati,Bellerin,Bellicum,Belzabar,Beme,Benchling,Benellin,BengalView,Bengalure,Bengluru,Bengra,Benzal,Beome,Bernabau,Bersteins,BestGore,BestNaija,BestRadyance,Beteen,Betterhelp,Betternet,BeyondMenu,Bglore,Bhaad,Bhabhiji,Bhadrakh,Bhagah,Bhagbat,Bhaijaan,Bhaio,Bhairamgarh,Bhairappa,Bhaitards,Bhakts,Bharatiyan,Bharjai,Bharthi,Bhasad,Bhatpara,Bhavish,Bhavnath,Bhawa,Bhawanipur,Bhawi,Bhedbhaav,Bhelata,Bhendii,Bhik,BhikBali,Bhinde,Bhoganandeeshwara,Bhoodevi,Bhosalenagar,Bhramaram,Bhubhaneswar,Bhubneswar,Bhudhiraja,Bhugaon,Bhulekh,Bhumihar,Bhuvi,Bhuvneshwer,BiH3,BiPC,Bibal,Bibvewadi,BidHere,Bidget,Bidguru,Bidhansabha,Bidpai,Bidpie,Bidswitch,BigAss,BigBasket,BigPipe,Bigdata,Bigdeal,Biharinath,Bijwasan,Bikanerwala,Bikramaditya,Bikroy,Biligiri,Bill_Nye_tho,Billdesk,Billerboard,Bimbhra,Bingsu,Binisoft,BioReference,BioVault,Bioprinting,Bishramganj,Bisilu,Biswapati,BitLicense,Bitchemicals,Bitsat,Bitseduce,Bitstamp,Bizbilla,Bizpora,BjT,BlablaCar,Blackberry10,Blackcore,Blapkmarket,Blastars,Blazeclan,BlazingDB,Bliding,Blindloveapp,BlipSnip,Blockchain,Blockly,BluMaan,BlueApple,BlueStack,Bluemix,BluetoothSocket,Blumenou,Blynk,Bml,Bodeli,Boderline,Bodnic,Bodnick,Bodykey,Boknoy,BollywoodGaliyara,Bombete,Bombil,BookChef,BookFari,BookFi,BookFresh,BookSellBuy,BookinginBit,Bookmyoffer,Booktract,Boregman,Borgerlige,Borneon,Boroscopic,Boruto,Boswer,BotFly,Bouhlel,BoxBee,Bpharm,Bpharmacy,BrCN,BrO2,Braains,Bragout,Brahmand,Brahmashira,Brahmdagh,BrainMobi,BrainQuicken,Brainbee,Bramhashirastras,Bramhin,Braziliam,Brazylii,Brazzerss,Breezesys,Brelo,Bremain,Brexit,Brexiteers,Brexpiprazole,Brhati,Briarheart,Briebart,Brightmont,Brihadeeswarar,Britishin,Brixmor,BroadBean,Broadbands,Broadderick,Brogle,Bromooctane,BrowerStack,Browsec,BrowserStack,Browserify,Browserstack,Brucelees,BscIT,Bschools,Btechs,Bubbli,Buchheiting,Buckycubes,Budhiya,Budzar,Buffertt,BuildIt,BuilderTrend,Buildmylikes,Bukalapak,Bularia,Bulbule,Buldak,Bulleya,Bulmim,Bumrah,Buniness,Burh,Burstly,Businessfriend,Buuz,BuyClearTV,Buyforex,BvS,Bwest,Bxxxx,Byju,Byjus,ByteFence,C100SI,C13CCOOH,C150SI,C1951037,C2040,C2070,C2090,C2150,C2180,C21H32O2,C26000,C2960X,C2Call,C2H2BR2,C2H3Cl,C2H4O,C2H4O2,C2H6O,C2PIR,C3H6O3,C3H8O,C3N4,C3O3H6,C4040,C4070,C4090,C4H8,C5H13N,C6H10,C6H12,C6H14,C6H5Cl,C8060,C9030,C9060,C9510,C9550,CA1948,CA2006,CADViewer,CADworx,CANalyzer,CANoe,CAPGEMINI,CAS9,CASBS,CAT16,CAT2015,CAT2016,CAT2017,CATKing,CBSSE,CBr,CC3200,CCCCUBE,CCNAv3,CCV2,CCl2,CDEFGAB,CDH5,CEIG,CERBER,CERBER3,CERTIFCATE,CERTIFICATE_VERIFY_FAILED,CET4,CET6,CF3Cl,CFCl2,CFHTTPMessageSetHeaderFieldValue,CFMRI,CFOP,CFTI,CGL2016,CGLE,CGPA8,CGPAs,CGPET,CGpa,CH15155,CH2CHCH3,CH3CH,CH3CHO,CH3F,CH3NH2,CH3NO2,CH3O,CH3OCH3,CH3_CH_,CH4O,CHAINalytics,CHANAKYA,CHINCHERINCHEE,CHY1002,CH_,CH_3CH_2COCH_2CO_2H,CH_3CH_2CO_2CH_3,CH_3COOC_2H_5,CHennai,CIBERLOVE,CIF3,CISMFT,CIWG,CIsco,CKWL,CLASSSIFICATION,CLF2,CLO2,CLO3,CLUster,CLion,CMFGE,CMYB,CN430T,CNTK,COARCES,COCL2,CODEDUI,COEPD,COETL,COF2,COMBUSTILE,COMMANDENT,COMP96_0018,COMPETETOR,CONCIOUS,CONFIG_ARM_PATCH_PHYS_VIRT,CONFIG_FREEZER,COSX,CO_3,COnsultant,CP4025dn,CP5225dn,CPAGrip,CPH4,CRAX,CRISPRs,CRS2,CRVXS,CRYPTOL,CS183,CS193P,CS221,CS224D,CS224N,CS225,CS50x,CSKs,CSSMLI,CSSPJ,CTVS,CURAJ,CURR_AVBL,CV0,CWG2010,CX275s,CYBERCRIME,CYCRIME,CYIENT,CYPE,CYa,C_,C_string,CaOCl2,Cadcumguru,Cadency,CadillacNews,Cakestyle,Calculas,Calendly,Calexit,Calithera,Calpadi,CamSkip,Camag,Campha,Campusexplorer,Camstumble,Canaaites,Canalphone,Candombl,Canvas2,Capiat,CapitalVia,Captech,Caracano,CardSpring,Cardionet,CareerCup,CareerFoundry,Careerpoint,Caretrust,Carnegi,Carnosauria,Carobtree,CarryMinati,CartSnatch,Cartiff,Cas9,CashnoCash,Casilan,CasinoRoom,CasperJS,CatCon,CatalyseR,Catchytopics,Catellizer,Cateogary,Caun,Cavinkare,Cdac,Cebinae,Cedcommerce,Cenegage,Censys,CentOS7,Centauras,Centerstate,Centroidal,Centumstar,Centurica,Cerebrolysin,Certapet,Cevapsende,Cgl,Cgpa,Ch2SO4,Ch3OH,Chaayam,Chabadniks,Chadora,Chainsmomers,Chairface,Chajja,Chajjed,Chakkori,Chakrathalwar,Chakravyuha,Chamaeleonidae,Chamaripa,ChampCash,Champcash,Chandaal,Chandapura,Chandrabati,Chandraguptas,Chandrakar,Chandrashtamam,Chankraborty,ChannelLive,Chaoshander,Chapecoense,Chapterwise,Charadas,Charanam,Chardee,Chardzhou,Chargie,Chargies,Chartent,Charusat,Chashmadid,Chasmah,ChatGig,ChatRevolve,ChatVille,Chatrandom,Chatshock,Chawanprash,CheGuevera,Cheast,ChemCAD,Chemocentryx,Chenlingya,Chennab,Chennaiyin,Cherelice,Cherophobia,Chesnaught,Chettiyar,Chezy,Chhotepur,Chielly,Chikengunya,Chikkaballapur,Chillr,Chinabrands,Chindwara,Chinsese,Chipku,Chiporza,Chiranjiv,Chirrut,Chithram,Chitpavan,Chodhury,Chokuzen,Choordhar,Choosa,Chouki,Chowgachha,Chozha,Chozhan,Chrestianity,Christianphobic,Chromecast,Chronesthesia,Chronotype,Chumbak,Chunavi,Chunxian,Chutiya,Chuze,Ciancutti,Ciaz,Cicret,Cifi,Cillessen,Cincinncati,CinemaSins,Cinemasins,Cissexual,Citicholine,Citizenpath,Cityblis,CivE,Civeo,Civilazation,CivilsDaily,Civilsdaily,Cl2CO,Cl2Cs,ClF2,ClF4,ClamAv,Clamence,Clapway,Clarifai,Class11,ClassPass,Classtivity,ClearTax,Cleganebowl,Cleganes,Cleverman,Clikbank,Clinkle,Clipko,Clixgalore,Cllinton,Clo4,Clojurescript,CloudBee,CloudCV,CloudStation,Cloudfoundry,Cloudification,Cloudinary,Cloudistics,Cloudseed,CloudxLab,Cloversites,Clublocal,CoCubes,CoEP,Cobiz,Cocubes,CodeAcademy,CodeAgon,CodeCollaborator,CodeEval,CodeFights,CodeForces,CodeGround,CodeHS,CodeJam,CodeNation,CodeU,CodeVita,Codeagon,Codeathon,Codeblocks,Codechef,CodedUI,Codeforces,Codeground,Codemoji,Codenation,Codenvy,CoderBunnyz,CoderPad,Codesmith,Codesprint,Codevita,Codility,Codulis,Coedecs,Coelorusauria,Coenergy,Coffitivity,CogniQ,Cogniq,Cohle,Coinarch,Coinbase,Coinkite,CollaberaTact,CollapseBot,CollegeFest,CollegePond,ColorShift,Colud,Combiflams,ComedK,Comedk,Comega,Comenda,Communucation,CompBook,CompSc,Comparation,Comparts,CompositeMaterials,Compuational,Concatinate,ConfirmTKT,Congressmens,ConneXionsAsia,ConnectOne,Connectomic,Connoor,Conquorer,Conserative,Constaint,Constitutionals,Constructoin,ContenVania,ContiGo,Contrapasso,Controvercy,Coolairshoes,Coopper,CopyWriting,CoreOS,Corpnet,Corrtjer,CosmoMC,Cosmoem,Cosmog,Cossaks,Cottari,CouchSurfer,Couloumb,Counny,CouponDunia,Coupondunia,Couponzguru,Couster,Coverfox,Covnet,Cowspiracy,Cph4,Cprogramming,Cpv,Cqn,CrPC156,CrackVerbal,Craftsvilla,Craytheon,CrazyTechTricks,Creatiwit,Cremonensis,Creo5,Cricbuzz,Criema,Cristiono,Critian,Crofx,CrowdANALYTIX,CrunchPrep,Crushonoffers,Cryoviva,Crypt7,Cryptocurrency,Csab,Ctanujit,Cu2S,CuCI2,CuOH,Cubeduel,Cuidadito,Cumdroid,Cureinstant,Curiels,Cuso4,Cuttoff,CvBlob,CvPCB,CvTrack,CyanogenOS,CyberArk,Cyberghost,Cybernations,Cyberroam,Cybersound,Cyient,Cymalta,Cynogen,Cyprusnow,D1300,D2Y,D3300,D3400,D3o,D5300,D7200,DABLAS,DAC0808,DAESH,DAMCO,DANICS,DANIPS,DARPAN,DARPU,DAVIET,DAY6,DBDA,DBSCAN,DCEU,DCRUST,DCh,DDIT,DDLG,DDR3l,DDosCoin,DE0,DEBFCA,DEEZER,DELINK,DEMONETIZATION,DENOMINITIZATION,DEPR,DEVL,DEXTOP,DGAZ,DGFS,DGVCL,DGWHyperloop,DHARWAD,DHED,DIDW,DIGMANI,DILR,DILWALE,DIPMAT301,DIPMAT401,DISCOMs,DISComs,DISEC,DISSRTTN,DIVSUM2,DLED,DM129T,DM230T,DMRL,DMart,DOCVMENTA,DOESI,DOFOR,DOHLAROAC,DPTa,DPTw,DQ200,DRFM,DRLS,DSCE,DSIM,DSiJ,DTTA,DURGAS,DURONTO,DUke,DVCI,DXMX,DXTREME,DYPDC,Dabbawala,Dabiq,Daboch,Dachmarke,Daddydonamaiello,Dadie,Daenarys,Daesh,Dahyaji,Dalali,DallasGoldBug,Damkj,DanTDM,Danactive,Danaerys,Dannisism,Danskernes,Dardnak,DarkNetMarkets,Darkhwast,Darkseids,Darkweb,Dasavidha,Dasheroo,Dashraths,Dashride,Dassult,Data6,DataCamp,DataNodes,DataTorrent,Databricks,Datahero,Datascience,Datasift,Datatorrent,Datenschutzerkl,DatingBuddies,DavestPay,DavidWu,Dayaben,Dbotica,Dbpedia,DeDuplication,DeGiro,DeZire,DearZindagi,DeathStroke,Deautsche,Debotosh,Debshops,Dec1976,Dec2016,Decidueye,Deciwatt,Deducieye,DeepMind,DeepText,Deepmind,Deeppeep,DefaultTreeModel,Deficulties,Defit,Defits,DeflateGate,Degue,Dehshat,DelhiAnd,Deliveroo,Delll,Delloite,Demonetisation,Demonetization,Demonitisation,Demonitization,Demrit,Denomzation,Deolo,DepC,Deprssed,Deriada,Deserrt,Deshastha,Desigining,DesignSignOff,Designhill,Desimartini,Desolution,DevMountain,DevStack,Devbitrack,Deviprasad,Devonians,Devovi,Dewo,Dexcar,Dexlab,Dhaakad,DhahcJafar,Dhain,Dhammavinaya,Dhanananda,Dharmalaya,Dharmism,Dhasal,Dheevara,Dheradun,Dholakpur,Dhonden,Dhosi,Dhoval,Dhronacharya,Dhulagarh,Dhulgari,Diabolous,Diallel,Dianae,Diehardtechy,Dierction,Dieudonn,Differntial,Differntiate,DigitalGrey,DigitalOcean,Dihydromyricetin,Diificult,Dimaag,Diminisher,Dingtone,Dioxsyn,Disastruos,DiscoverCloud,DishTv,DisneyCollectorBR,Dispilio,Distribber,Distrubutorship,DittoFish,Diwaswapna,Djangae,Djikstra,Dlvrit,Dmart,Dmlt,Dmrc,Dnyaneshwari,DoMs,DocRaptor,Docplexus,Dogecoin,Dojutsu,Dokobots,Dolkan,Dolkun,DomainCentral,DonaldTrump,Donalt,Dondokaya,Donestk,Doopers,DoorDash,Doordash,Dorben,Dorbon,DotNetFiddle,DotaBuff,Dotproject,Doverlane,Downand,Doxware,DraftKings,Dragoball,Dragonballx,Dragontrail,Dramafever,Drawberry,Dream11,Dressrosa,Drishyam,Dritarashtra,DroneAppz,Dronis20,Drozdek,Drumpf,DsL,Dsquare,Dubsmash,Dudhadhari,Duerte,Dulagarh,Dulajab,Dulquer,Dumbldore,DuoLingo,Duplicashapp,Durgah,Durmasana,Durpin,Dushasan,Dushasana,Dustbringer,Dutante,Dutertes,Dutycompared,Dvija,Dwapar,Dynatrace,E10s,E3351,E343,E35700,E455,E503,EAT24,EC156,ECE1013,ECONIOOMICS,ECUk,EDGESV,EDGS,EDUDEL,EDUSHASHTRA,EE263,EEEBOOK,EEEINCLUDES,EEngineer,EFLU,EGBDF,EGMP,EGOTs,EGPU,EIVS,ELECTROCUTED,ELIGIBLITY,ELITMUS,ELTIS,EMDrive,EMIE,EMRCP,EMed,ENGINGINEERS,ENSIMAG,ENTHALPY,EOS70D,EP570,EPBA,EPFOHO,EPFRIM,EPFs,EPGDBM,EPOXIDES,ERR_CERT_COMMON_NAME_INVALID,ERR_CONNECTION_REFUSED,ERR_NAME_NOT_RESOLVED,ERVDIET,ES18,ESP8266,ETCE,ETOOS,EU1000i,EUCF,EVETES,EWRV85,EX110LP,EXCERTED,EXPIREY,EXTC,EZpass,E_Learning,EagerPanda,Eagerpanda,Earendwane,Earn1k,Earny,EarthForce,EasY,Eastvantage,EasyCabs,EasySendy,Easya,Easyday,Easysendy,EatNow,Ebizz,Ebnava,Ecet,Eclerx,Ecnr,EcoSign,EcoTokri,EconJobRumors,Econmics,Econtalk,Ecoplanet,EcosportAT,Ectoplan,Edfice,EdgeVerve,Edgeverve,Editage,EduChat,EduPristine,EduSamosa,EduShastra,Educt,Edupristine,Edureka,Edushashtra,Edushi,Eduwave,Effigen,Efftronics,Efm,Egrail,Ehaaraai,Ehteraam,Einstine,Ekstop,ElSS,Electostatics,Electrcial,ElementaryOS,Elife,Elitmus,Ellaria,EloEverything,Elodin,Elosh,Emantsal,Embibe,Embrassing,Emdrive,Emeliankelo,Emelienko,EnChroma,Enchroma,Enciphering,Endtest,Enfeild,Enfj,Engeeniring,Engenica,Engieering,EngineerBabu,Engineerng,Entbrat,Enteroctopus,Enterprenuer,Envigo,Envita,Eobard,Epass,Epicodus,Equilizers,EquityZen,Erberts,Erdogans,Erongar,Err_Connection_Refused,Erriscon,Errno2,Erso,Esaay,Escabar,Eslands,Esquiva,EssayTyper,Estev,Etg,Etherum,Ethices,Ethinos,Ethylone,Etoos,Etraterrestrials,Ettina,Etutorhome,Eugeen,Eukanaba,Eunbich,Euntrepreneur,EuroGrip,Eurofours,Evare,Evercar,Evginia,Evion,Evosys,ExPats,Excelance,Excelville,Excitel,Exice,Exicom,Exilant,Exkash,Exoon,Exotel,Explorate,Explorequotes,ExpressJS,Extc,Exterion,Eyjafjallaj,Eyje,Eyova,Ezersky,Ezerzer,F16IN,F2222A,FABM,FASTBOOT,FASTCLUS,FENGA,FFCS,FFFFH,FFWPU,FHIR,FHNM,FHWS,FIBOSUM,FIFA14,FIFA2022,FIIITJEE,FIIT,FINFET,FINFISHER,FIPDES,FIROZPUR,FISICA_TEORICA,FITJEE,FIltering,FMGE,FOXO3A,FPGa,FQT1,FQT2,FR710,FRACHISE,FREEMIUM,FRTB,FS100C,FSPM,FTRE,FUSEX,FX101B,FX310A,FXKART,FY2016,FZ300,F___word,Fa2,Faadooengineers,Faasla,FabFurnish,Fabrikation,FaceFlow,Facetune,Faciebat,Fadnavis,Faiy,Fakeer,Fall2017,Famocracy,FanStorm,Fanbang,Fappening,Faredie,Farv,Fasad,Fastag,Fastcomet,FatPeopleHate,Fauz,Fazbear,Fe250,Fe2CO3,Fe2P3,Fe415,Fe500,Fe500D,FeCr2O4,Federators,Fedevel,FeeWaiver,Feedmusic,Feedspot,FeltSomethingFrom,Femilon,Fenistil,Fenoboci,Ferrybee,Fevikwik,Feviquick,Fianga,Fibbonaci,FictFact,Fidlago,FieldFilter,FiitJEE,Fiitjee,Filepile,FilingCheap,Filipine,Fillipine,Fillipinos,Filmora,FinDom,FinDomme,FinMechanics,FinViz,FindYahan,Findingclue,Fingalby,Finkibi,Finsrud,Fintree,Firang,FireBase,FirstnameLastname,FiscalNote,Fisheriris,Fiskeb,FitMob,FitReserve,Fitrist,FiveBucker,Fivesquid,Fixingblog,Flamenso,Flashmaster,Flatchat,Flerika,FlexBox,Flextrade,Flickside,Flightstats,Flinto,FlipKart,Flipagram,Flipcart,Flipkarts,Flipora,Flixi,Flowkey,Fluentd,FlyBHP,Flyme,Flyrig,Foku,Fonpay,FoodPanda,Foodpanda,Foofys,Forensiq,ForexNx,ForexPlus,Forkable,Forklet,Fortiguard,ForumIAS,FosrestBundle,Foucaults,FoundersCard,FoxLife,FoxMowingNSW,Foxlings,FragmentPagerAdapter,FragranceON,Frakta,Fraktions,Framewok,Frecuncy,FreeCharge,FreeCodeCamp,FreeConferenceCall,FreeCreditReport,FreeMyApps,FreeSync,Freecharge,Freedom251,Freehosting,Freehostingnoads,Freelancer97,FreelancerCircle,Freeletics,Freestylemadness,Fregusson,FreierFall,Freires,FreshDesk,Freshersworld,Freshmail,Freshmenu,FriendAlerts,FriendBag,Friendable,Friendfiz,Frissom,Frontierism,Frontk,Frozon,Fryhle,Fsharp,FuII,Fukoka,FullStack,Fullerron,Fullstack,FunYo,Fundbox,FundsIndia,Fundsindia,Funforlouis,Funfunnykhez,FutureLearn,Fy16f,Fynd,Fzs,G19s,G19ss,G310R,G310r,G31T,G360H,G361H,G41M,G4plus,G500S,G500s,G51VX,G6200,G752VM,G906k,G9200,GAANA,GAAPs,GAHSSR,GALLSTONE,GAMOH,GANGE,GATEIIT,GAtech,GBA4IOS,GBPUAT,GBddr2,GBuffer,GDPD,GEDMatch,GEDforFree,GETPIVOTDATA,GFTI,GFTIs,GG7,GGSIP,GHOORNA,GIDAS,GIPE,GIXXER,GL522VX,GL5516,GLMQ,GNU_Health,GNWL65,GOENKA,GONE2GOD,GOPICHAND,GOQii,GREvsGATE,GRFTMT,GRUOP,GSHOK,GSHSEB,GSOCer,GSS1,GSS3,GSVM,GSbank,GSoc,GT72,GT755M,GTBIT,GTunes,GWDD,GYNECOMASTIA,Gaandu,Gadheda,GaggleAmp,Gainlo,Gajni,Galears,Galgotiya,Gallaghar,Gamakangal,Gamakas,GamerTags,Gamergate,Gamoe,Gamyu,Gannareddy,Ganwar,Gaoping,Garalde,GaramChai,Garisson,Garrix,Garva,GateForum,GateOverflow,Gateforum,Gathbandhan,Gatiman,Gauchais,Gausian,Gaussian09,Gautamiputra,Gawacha,Gazef,Gcov,Geca,GeckoOS,GedMatch,Geekopedia,GeeksforGeek,GeeksforGeeks,Gelecek,Genmark,Gennxt,Genymotion,GeoChemist,Gerberts,Gerion,Germanistic,Germnx,Gerua,GetMyUni,GetResponseStream,GetStream,Geunine,Gfe_rd,Ghaint,Gharpay,Ghatothkach,Ghatotkach,Ghiyasuddin,Ghoswami,Ghotra,Ghynati,Gibelline,Gieo,GiftCardMall,Gigafactory,Gilehriyaan,Giliani,GilroyIs,Gimbap,Giradelli,GirlsChase,Girmit,Gitbash,Gitbook,Giullietta,Gixxar,GizmoHelp,GloPo,GlobeIn,Gloma,Gludo,Glunkus,Glyx,Gmobi,Gndu,GoCash,GoIbibo,GoLang,Goalwise,Gobarji,Gobol,Godabarish,Godzillia,Goenkaji,Gofundme,Gogetto,Gojek,Gokano,Gokhul,Golang,GoldFlake,Goldbeter,Goldshmid,GolfForeste,Golowich,Golpitha,GoodFET,GoodRX,GoodRec,GoodRx,GoogLeNet,GoogleX,Googledrive,Goota,Gopaidweekly,Gopalasamy,Gopod,GotIt,Gottafeeling,Gouravas,Gowyn,Gpod,GrFnd,GrabCar,Grabapanda,GradeAUnderA,Grailed,Gramblast,Gramfeed,Granua,GraphQL,GraphicStock,Graphiq,Graphologists,Grapich,Gravitometric,GravityLight,Greada,GreatAndhra,Greenhopper,Greenteftth,Grenjar,Griezman,Grindewald,GroPro,Groenkop,Grofers,Groopease,Groupme,Grouptable,Grubhub,Grubwith,GruntJS,Gryphendor,Gsharp,Gsnyc,GsoC,Gsoc,Gsuit,Gtbit,Gtkmm,Guansen,Gudluru,Guduvanchery,Guelfes,GuestHouser,Guglia,Gulenists,Gulfmark,Gulte,Gultis,Gulzarilal,Gumasta,Gunehgar,Gurbandi,Gurduwaras,Gurkas,Gursimran,Gurugram,Guthier,Gyanpur,Gyazo,Gyciene,H08D,H1B1,H1Visa,H1Z1,H2C2O4,H2S2O8,H2S4O8,H2SeO4,H2Te,H2so4,H3P,H3PO3,H4EAD,H615R,H61M,H6400,H6Kit,HAIRB,HATD,HAWALA,HBTM,HBql,HBrO4,HBsAG,HCIG,HCIO2,HClO2,HClO3,HD164595,HD180,HDPCD,HDfbcover,HE11,HEMLAL,HF12345G,HFDC,HG8346R,HHistory,HHow,HIO4,HImalayan,HJKL,HL12,HLES,HOWWW,HOh,HPAIR,HPE0,HPLc,HRIDAY,HRm,HSEE,HSPX,HSTalks,HT12D,HT12E,HTFET,HTaccess,HUmanities,HYPERMESH,HYPSM,HYSD,H_,H_20,H_2HSO_4,H_2S,H_2SO_4,Haalathu,Habalikhati,Habsbourg,HackHands,HackNY,HackReactor,HackerEarth,HackerRank,HackerX,Hackerearth,Hackerrank,Haddop,Hadrosaurid,Haebangchon,HaiDian,Haichao,Haikyuu,Hairbless,Hairfall,Hairlosscure,Haisha,Hajmola,Hakonen,Hallbach,Halocel,Hameorrhage,Hamfer,Hamletiian,Hampta,Hamraj,Hamshakals,Hanabaraha,Hanbul,Hangwoman,Hanisset,HaoDF,HapiJS,Happiesta,Happn,Haptik,Hardhome,HardieBacker,Hardiebacker,Hargrid,Harrypotter,Hassabis,HauntingMe,Hawaizada,Hazigaboo,Hderabad,Hdfs,Headbreak,HeakthKart,HeakthKartPlus,HealthKart,Healthequity,Healthkart,Healthprofs,Heartbleed,HeatTech,Heatteach,Hebbuli,Hedgeable,Heideggers,HelloTalk,Hellotalk,Helpchat,Helpouts,Helpx,Helvis,Hemmorragic,Henever,Henil,HepatitisB,Herbocare,Hero4,Herolocity,HexBinary,HeyBiz,Heymen,Hg2Cl2,HiAim,HiSet,Hierarcy,Highchart,Higrit,Hillany,Hillaryclinton,Himakat,Himanjali,Himu,Hinderberg,Hinduists,Hinduphobia,Hinduphobic,Hindustanis,Hindutavadis,Hindutvam,Hinjwadi,Hinsberg,Hirnandani,Hirthik,Hirway,Hispanophones,Hisuccess,Hitchkok,HiveQL,Hlo,Hlyos,Hnsmall,Hodoring,Hogwartswhat,HolaChef,Hollaween,HoloLens,Hololens,Holu,Homail,HomeKit,Homejoy,Homekit,HongKongers,Honglie,Hongmen,HonorSociety,Honorum,HooToo,HooplaKidz,Hootesuite,Horizontalism,Hospot,Hostelers,Hostilis,Hostripples,HotelPerform,Hotornot,Hotpotato,Hotstar,HouZone,Hougyoku,HourlyNerd,Housejoy,HowToNotGiveAFuck,Howbto,Howcan,Howforefingers,Howwill,Hpeople,HuTong,Huaiwai,Hubbali,Hubballi,HuePool,HugsMeanNothing,Huion,Hukumat,Hummshakals,Humshakals,Huppa,HutHunt,HyPET,Hyderebad,Hydrolocking,HyperMesh,Hyperemisis,Hypergeometrical,Hyperintensities,Hyperlapse,Hyperworks,Hyuara,I4s,I701,I797,I8262,IACSD,IAI8,IAPHLSR,IASbaba,IAmAs,IBIDA,IC7495,ICIMS,ICITST,ICL2,ICoAS,IDFV,IDHTT,IEITS,IEMJEE,IFLScience,IFTHEN,IFoA,IFunny,IGDTUW,IGIMS,IGRUA,IGSC,IGST,IHBAS,IIAEIT,IIEM,IIEST,IIFQ,IIHMR,IIIIT,IIITB,IIITD,IIITDM,IIITH,IIITians,IIOT,IIPH,IIPMR,IIPTA,IIRM,IISERs,IIScian,IIScians,IISuperwomanII,IITANs,IITBombayX,IITIAN,IITJAM,IITKGP,IITRAM,IITSC,IITan,IITans,IIsc,IJECT,IJEIR,IJERA,IJERT,ILHT,ILSVRC,IMDBPro,IMIE,IMNU,IMUCET,IMUcet,IMessages,INDAS,INFIBEAM,INLEAD,INOI,INR20000,INR25000,INSOFE,INTERMS,INcubes,INtranet,IOFS,IOI2017,IPBB,IPL2016,IPMAT,IPTVs,IPUCET,IPxx,IQTell,IR500,IRA1,IRA2,IRFX,IRNSS,IRUMUGAN,ISBF,ISROs,ISS2,ISawTrump,IT105,IT40,ITGENY,ITMO,ITPB,ITRP,ITrisk,IVTL,IVyr,IWarp,IYTC,I_129,Iamtotallydesperate,Iater,Ibirit,Ibotenic,Ibps,Ibuprofens,Icai,Icalculate,Ichange,Icicidirect,Iconnect,Icrease,Ideas2It,IdentIfIed,IdentIty,Idiographic,Iditos,Ietsist,Ifb,Ignudi,IiTians,Iidentify,Iims,Iisc,Iitjee,Iiving,Ijeit,Ikall,Ilayathalapathi,Ilh,Iljoski,Illumaniti,Illustator,Ilose,ImageBrief,ImageNet,Imagenet,Imarticus,Impirium,Importances,ImpossibleCure,Improtant,In2000,InCallUI,InDinero,InQUES,InRhythm,Inamke,Inboundio,Incentre,Incineroar,Incresing,Indeen,Indegenous,Indiabix,Indialost,IndianMoney,Indianisms,Indiape,Indiaprotiens,Indiashoppe,Indigovision,Indizel,IndoEuropean,Indori,Indugula,Industrybuying,Infetic,InfoCepts,InfoTECH,Infobuz,Informetica,Infosis,Infp,Infraplanet,Ingeva,Ingolstat,InitIally,InitialChatFriendsList,Injoo,InkML,Inmobi,Inmovable,Inorgnc,Inprefer,Insikt,Inspectlet,Inspiron15,Inspirotech,Instacart,InstagramPrivateProfileView,Instagrammer,Instagress,InstantCheckmate,InstantQ,Instantrades,Instapic,InsuranceComparisons,Integym,IntellectualWhores,Intelleral,Intellimatch,Intellipaat,InterCloud,Intercatse,Interction,Interculttural,Interestelar,Interestellar,InteriorsInfo,Interms,InternShala,Internshala,Interpretomics,IntervIew,InterviewBit,Interviewbit,Intitution,Invikarabad,Invisionapp,Ioi,Ippb,Iprimed,Iqhub,Iquanta,Irodov,IronFX,IronMQ,Irudhi,IsVeg,Iself,Ishahi,Ishavasyam,Ishift,Ishtihar,Ishvanku,Islamising,Isrtc,Istaqbaal,ItemStream,Itenarary,Itihasas,Itios,Itpl,Ittf,Iupac,Ixconverter,Iyzico,Izumitate,J03B,J3710,J500F,J5570,J5s,J7s,JA380,JAAT,JARVISE,JAVAFX,JAYALALITHA,JAin,JCurses,JDPO,JDateChooser,JECRC,JEE18,JEEE,JELET,JESD,JEe,JIBO,JIO4GVoice,JIOFI,JIUDUIDODO,JK0,JN0,JOINing,JSQMessagesViewController,JSTSE,JSVC,JUIT,JUMLA,JVXML,JVoiceXML,JVzoo,JW202,Jaah,Jaahir,Jaatishwar,Jaats,Jabberjay,Jact,Jahiz,Jamabandi,Jamboxes,Jambudweep,JamesHansen,Jamhuriyat,Jamiyah,Janaeu,Janaranchagam,Jandarshan,Janeo,Janib,Jankow,Janlakshami,Jaoar,Japanologist,Japura,Jaruk,Jashodaben,Jatisshor,Jatiswar,JavE,Jawalarlal,Jayadritha,Jayakanthan,Jayalalittha,Jayalitha,Jayathi,Jayavel,Jaylah,Jaylalita,Jaylalitha,Jaynagar,Jcece,Jebasingh,Jedha,Jeenkart,Jeevanrahi,Jeevansathi,Jeevatma,Jehovha,Jenix,Jerada,JetCash,JetsTwit,Jetspray,Jhumla,Jiffies,Jihadh,Jinch,Jio4Gvoice,JioCinema,JioFi,JioMoney,JioMusic,Jiofi,Jiofy,Jionet,Jizzroulette,JoSAA,JoSSA,JobBuzz,Jobr,Jodat,JoeOptions,Jogatis,Jogimara,Joramun,JordanOwen42,Joria,Josaa,Jotheyale,Joyable,Joyallukas,Joypur,Jpegmini,Jtagged,Juanpi,Jugaadugar,Jugashvili,Juliek,Jumaani,Jungkook,Junhyeok,Juplin,Jupyter,JusPay,Juspay,Justickets,Justinbieber,Justsold,Jyothirmai,K016,K2oadgh,K50a40,KABALI,KAJu,KALYUG,KAMATHIPURA,KASHIPUR,KAVILAM,KAZMI,KB61,KCALSI,KDRA,KEDGE,KEGO,KENHUB,KERELA,KFALP,KGMC,KGMU,KHARAGPUR,KHIZR,KICAD,KImi,KLMs,KMMC,KMSPICO,KMSpico,KMno4,KNOKED,KNOTLESS,KSCN,KSHMR,KVISOFT,KVian,KVpy,KWID,K_C,Kaabil,Kabaali,Kabali,Kachenjungha,Kachhua,Kaczy,Kahenga,Kahoot,Kahsmir,Kaithi,Kaiyote,Kakadev,Kakaku,Kakigarden,Kakkabe,Kakrapar,Kalaabam,Kalabhras,Kalaburgi,Kalapam,Kalburgi,Kalikho,Kalingha,Kalise,Kalkandu,Kallipolis,Kalpakjian,Kalpan,Kalusarai,Kamalhassan,Kamareddy,Kamchatca,Kamein,Kameshwara,Kammas,Kamuthi,Kanakaiya,KanalD,Kanbanchi,Kanbanflow,Kanchuki,Kancolle,Kandanthe,Kaneki,Kanele,Kanggye,Kanhiya,Kanjirapally,Kanjirappally,Kankotri,Kannadathi,Kannda,Kanule,KanyaKumari,Kapde,Kapils,KarMic,Karapakkam,Karavaev,Karenjit,Karewa,Karkataka,Karsi,Kartrina,Karumanchi,Karuvelam,Karvachauth,Kaseorg,Kasevaco,Kashmiryat,Kasht,Kasthamandav,Kasturia,Katappa,Katchatheevu,Kathhi,Kathlehong,Kaththi,Kattankulathur,Katuri,Katwaria,Kaufmich,Kauravs,Kawva,Kazansummit,KeePassdroid,Keeladi,KeepassX,Keiana,Keimi,Kejariwal,Kejrival,Kejrowal,Kerbi,Kerjriwal,Kesavananda,Keshavam,Keshtopur,Kespry,Kethamine,Ketoanalogue,Ketogenics,Ketoses,Ketosys,Keurigs,Khaala,Khaalu,Khaasdaar,Khabarovskiy,Khadkao,Khairiyat,Khakhra,Khalidaro,Khalilabad,Khalistanis,Khalli,Khamakha,Khamma,KhanAcademy,Khanalaya,Kharadja,Kharra,Khatna,Khatnil,Khayelitsa,Khejarli,Khesra,Khidirpur,Khobragade,Khoday,Khowai,Khujaraho,Khullad,Khumbhergaon,Khurmi,Khushdeep,Khwarizimi,Khyphosis,Kibana,Kiboomers,Kibu,KickTheList,KiiT,Kilgrave,Killgrave,KinectFusion,KingRoot,Kingroot,Kinnar,Kinnect2,Kinobody,Kintinuous,Kippt,Kirorimal,Kissanime,KitKat4,Kjedahls,Klassmate,Klozee,Kngine,Knov,Knowpost,Koachable,Kochava,Kodagana,Kokanstha,Kolkta,Kombanwa,Kombdi,Konceptca,Kongka,Koothrapalli,Kopaja,Kormangla,Korotkevich,Kothaguda,Kotilingeshwara,Kotovsky,Kouachi,Koundinya,KrF2,Kraizman,Krampusnacht,Krauncha,Krazybee,Kreatryx,Kremenchuh,Krennic,Kripac,Kripacharya,Kripalni,Kritvarma,Krizhevsky,KrygnzCuisine,Kryonet,Kuaidi,Kuamari,Kubernetes,Kuchhal,Kudure,Kudvenkat,Kufir,Kukatpalli,Kukuczka,Kuldevi,Kuldevta,Kulyabin,Kumaram,Kumaraswami,Kumbhs,Kundalahalli,Kundlis,Kunhimohammed,Kurlon,Kurosowa,Kurud,Kutchch,Kutools,Kuzhi,Kuznyechik,Kvpy,Kwench,Kwerkee,Kwicks,Kwid,Kwords,Kynokephalos,Kyrat,Kyuki,Kyzylkum,L1a,L1at,L365,L484,L4L5S1,LA8R,LAGNA,LASIC,LAUX,LBSAA,LBSIM,LBSNAA,LBVTQ,LD90,LDDs,LEDTV,LEMOA,LENDICO,LEVERA,LEVIPIL,LFINO,LG200,LGBTP,LGBTQIAA,LGBTQIADP,LGBTQIAPK,LGc22,LHMC,LIBAAS,LIBRATION,LICHFL,LLm,LMGTF,LMTS,LMVTT,LMartin,LNCT,LNCTE,LNCTS,LNGEDNA,LNMIIT,LNMiItians,LNOW,LOGARITHMS,LOGING,LPC4330,LR1620,LRDI,LS990,LSLLP,LSTMs,LT777,LUFE,LWA12G2DF1,LaTasya,Laabh,Laate,LabDoor,LabWINDOWS,Laftan,Lafter,Lafz,Lagertha,Lahng,Lahouaiej,Lahren,Lakshmikanth,Lakshmngarh,Lalmohan,Lambasingi,LambdaMART,LambdaRank,Lambdadelta,Lammps,Lamprophis,Lancehead,Lancher,LandOver,Landmarkers,Lannisport,Lapsation,Laracasts,Lasat,Laser3,LatentView,Latentview,Latestone,Latinic,Latrean,Launchrock,Lavalava,LawDeal,LawTrades,Lawyersofindia,Laxmiji,Laxmikanth,Lazius,Lazyier,Lbsim,LeEco,LeTV,LeTv,LeadIQ,LeadPages,LeadzGen,Leanplum,LeapForce,Leapzen,LearnStorm,Learnfly,Learnstorm,LeaseKey,Lecitone,LectureDekho,LeetCode,Leetcode,Lemarc,Lembong,Lemonstand,Lenaye,Lengshuijiang,Lennism,Lenove,Lenskart,LeoCoin,Leomaster,Lequij,Letsbuydrink,Letsintern,Letv,Levipil,Levrenz,Lewittes,LiClipse,Liberlization,Liberterian,Libgen,Lifestreet,Lifx,Lightninghander,LikeALittle,Likealittle,Likesxl,Liketo,Limeroad,LinearDiscriminantAnalysis,LinguaLift,LinkBucks,LinkVehicle,LinkedUp,Linset,Linxup,Lipodex,Lipogaine,LiquidHub,LiquidSecurity,Liquidhub,ListenOnRepeat,Littleapp,LiveLoop,Ljepava,Llaollao,LnT,Lnmiit,Loadteam,LocaPool,Localbanya,Localites,LocoPool,LogoPorn,LogoSoft,Lokamanya,Lokkhi,Lollichat,Loopsone,Lorenteggio,Lothbrok,Lovepreet,Lowndean,Loxodrome,Lpu,LsiHelper,Lubrex,Lucence,Lucideus,LudivinaKresge6,Lularoe,Lumiansky,Lunala,Lurm,Lwhich,Lybrate,Lycanroc,Lynesse,M2020,M2035,M20X,M20x,M2180,M252dw,M2HP,M30x,M335,M402dw,M445,M452dn,M452dw,M4N68,M506n,M506x,M50X,M50x,M553dn,M553n,M553x,M604dn,M604n,M605dh,M605n,M605x,M606x,M712dn,M750dn,M750n,M771,MA103,MACUSA,MAFED,MAHABHARATHA,MAKAUT,MALMIDI,MAMASELF,MARATHA,MARUITI,MASHAPE,MASTANI,MATLab,MAVNI,MAdurai,MAsen10,MAsters,MBET,MBP13,MBaaS,MBoX,MBrowse,MCIWS,MCKC,MCOMS,MCOMs,MCity,MComm,MD101HN,MDlive,MECANICS,MERTA,MESRA,MEngg,MG996R,MGCL,MGMUA,MGVCL,MGX92HN,MGXC2HN,MH14,MH17,MH370,MHCET,MHROD,MHSP,MHTCET,MI4I,MI4i,MI5s,MINDTREE,MIRRORWHLE,MITID,MITSOM,MIUI7,MIddleton,MJ5,MJDF,MJHR,MJMC,MKBHD,MKCG,MKIs,MKinsey,MLab,MLconf,MMGF2,MMUT,MNIST,MNNITIAN,MNO2,MNPD,MODAFIL,MODERE,MODIJI,MONGODB,MORCHA,MPAE,MPC190,MPDMAT,MPRSA,MPSTME,MPWH,MR3020,MRUNAL,MS516,MSBK,MSCV,MSGF,MSM8226,MSM8916,MSM8975AC,MSM8x10,MSMED,MSMIS,MSQE,MSVCP100,MSx,MT6582,MT6582M,MT6592,MT6752,MT6795,MTLQQ,MTTP,MTechs,MTurks,MULTIPATH,MULTISIM,MUNs,MUOET,MVIT,MVNIAMVR,MVSR,MW40CJ,MX922,MYINE,M_IMEI,MaJie,Maangoge,Maarukatte,MacDennis,Macbok,MacbookAir,Machintel,Macmohon,Macrophilia,Madbid,MadeEasy,Madeeasy,Madhapurr,Madhavikutty,Madhunashini,Madja,Madrasian,Maduraikaran,Maduvvary,Madvacharya,MagOne,MageeWP,Mageto,Magium,Magnons,Magzin,MahaOnline,MahaVastu,Mahabarath,Mahabaratha,Mahabharatam,Mahabharath,Mahabharatham,Mahajanapadas,Mahamana,Mahamritunjay,Maharashra,Maharashtians,Mahasarshtra,Mahavidlaya,Maheshvari,Mahrez,Maibong,Maidentales,Mains2016,Mairrage,Majboori,Makaioshin,Makalidurga,MakeMytrip,Makedayspecial,Makhanlal,Makhtum,Maksad,Malafort,Malakkappara,Malare,Malasiya,Malayattur,Mallesgwaram,Malocchio,Mamaso,Mamra,Mamry,Mandhana,Maneating,Mangaluru,Mangalya,Mangalyaan,Mangalyan,Mangli,Manhatttan,Manishaa,Manjam,Mankoli,Mannacs786,Manpacks,Mansabdar,Manudhane,Manusm,Manymo,Maowadi,MapLarge,Mapbox,Mapd,Mapmyindia,Maqsad,Maqzines,Marab,March1992,Marginated,Marigaux,Marivil,Mariyathai,Markmonitor,Marksans,Marsupialization,Martinere,Marunji,Marwadis,Masaan,Masjib,Masrani,Masrat,Massachisetts,Massato,Massplanner,Mastaan,MasterAir,MasterChefs,Masterballs,Mastero,Mastigudi,Matargashti,Mathematcial,MathematicS,Mathematicorum,Mathex,Mathod,Mathrani,Matriya,Mattermark,Mattermost,Matternet,Mavronis,MaxGain,MaxWest,Maxivision,Maxlinear,Mayamalika,Mayanti,MayorWar,Maysar,Mazikeen,MbA,Mbti,McJuggerNuggets,Mcent,Mcgonagal,Mcguffin,Mcguffins,MeKapmeht,Meatti,MedSchool,Medibang,MedicaMedical,Medicaps,Meetme,Megalodons,Megharaj,Meghnath,Meht,MeituXiuxiu,Mekn,Meldonium,Melrio,Meluhua,MemSQL,Mengg,Mengto,MeraEvents,Mercari,Mereya,Merhotra,Meritnation,Mermail,Meshichist,Mespom,Metamizole,MeteorJS,Meteorjs,Methedone,MetroMini,Metrogyl,Metromile,Metromini,Mettaya,Mettl,Mewto,MfgPro,Mgit,Mhani,Mharashtra,Mi4i,MiUI,MiUi,Mianzi,Microryza,Microservices,MicrosoftOffice,Midichlorian,Midlle,Mightybell,Mihaaru,Mijireh,Mikandiwa,Milanno,Mildronate,Militaryengineering,Milkly,MillionR,Minance,MindSpark,MindVis,MindoxIndia,Miniaj,Miniladd,Miniratna,Minnimum,Minwalla,Mirati,Mirraw,Mirroless,MirrorMaker,MirrorPlacement,Mirzya,Misotheist,MithaiMate,Mitron,Mitsuha,MixRadio,Miyanbhai,MizPah,Mje,Mjosa,MlLib,Mlechhas,Mllib,MnC,MnCl,MnSC,MobiKwik,Mobiflex,Mobikwik,MobileVOIP,MobileXpression,Mobileiron,Mobvista,Mocov,Modanifil,Modere,Modicare,Moduslink,Mohaniya,MohenJo,Mohummad,Moinmoin,Mokave,Mokee,Mokeskin,Molarmass,Moldiv,Monaka,Monalybaby,Monarex,MonkeyTalk,Monolinguals,Monsterrat,Moocho,Moomeo,Moraraji,Moravekar,Morgorth,Mormonthink,Mosprime,Mossack,Motabhai,Motiben,Moto360,MotoVlogger,Motog4plus,Moulik,Mourain,Mouryans,Movebubble,MovieLens,Movieflix,Movirtu,Movnat,Mpharm,Mpsc,Mrigi,Mrigya,MrlPosnet,Ms323,MuSigma,Mubarakfuri,Mubarakpuri,Mucolite,Muhammadun,Muhte,Muhurtham,Mukammal,Mukharjea,Muktsari,Multiphysic,Multiwii,Mumak,Mumzworld,Munaar,Munchery,Mundan,Munesha,Munnjal,Munqidh,Murrum,Musafa,MuscleBlaze,Mushfika,Musiah,Musigma,Muskil,Muxs,Mword,My31,MyAdvertisingPays,MyAssignmenthelp,MyBoy,MyDLP,MyDad,MyEnglish,MyFreeCam,MyFreeCames,MyJio,MyLifeAsEva,MyProAna,MyRedBook,MyRegistry,MySmartPrice,MyUniverse,MyVodafone,Mybatis,Myhabit,Myjio,Myrmecology,Myroporyadok,MysQl,Mysuru,Mythism,N13U,N2F2,N2F4,N2O2,N2O3,N320E,N3540,N56vz,N900A,NA2O,NAMOTEL,NARCOS,NAVAC,NAVIC,NBr3,NCERTS,NCERTs,NCSU_CPE,NCWEB,NCl3,NDTL,NEET2017,NEIGRIHMS,NESTROFT,NET_SKBUFF_DATA_USES_OFFSET,NETserver,NEUTRONS,NEWDELHI,NFTI,NGSE,NH19,NH2CL,NH2NH2,NH2OH,NH4CL,NIACL,NIASA,NICMAR,NIELIT,NIFTEM,NIFTM,NIMZ,NIRP,NISEE,NITD,NITRkl,NITW,NITian,NITians,NLIU,NLUs,NMAT2016,NMCH,NMIIS,NMIMs,NNESTs,NO2Cl,NOCAPTCHA,NOCCO,NONBELIEVERS,NOTEFULL,NOTNULL,NO_2,NOtp,NP900X4C,NR38GN,NRF17,NRICategory,NSEJS,NSHIT,NSITian,NSITians,NSe,NUALS,NUBRA,NVD3,NVIdia,NVSP,NYCSOUTHPAW,Na2O2,Na2zno2,Na3PO4,NaH2PO2,NaHDO4,NaHSO3,Naabhasa,Nabek,Nachiketh,Nagastra,Nagrecha,Nahuala,Nakalipithecus,NakedNews,Nallakunta,Nallamala,Nalsar,Namami,Nameik,Nanavathi,Nangare,Nangli,NanoDegree,Nanobi,Nanodegree,Nanodegrees,NantHealth,NaoH,Napoloeon,Naquvi,Narambula,Narasimhar,Narayaacharya,Narayanastra,Nareh,Narenda,Narendet,Narilatha,Narmade,Narmedeshwar,Nasaaz,Nasals,Nasiban,Nasree,Nastygal,Natesville,NativeAd,NativeScript,Natsamrat,Nauzubillah,Navadisha,Navaster,Navgraha,Nawaj,Nawazishein,Naythias,Nba18mt,Ncert,NdTv,Ndls,NeTV,Nearbuy,Nearkat,Neckle,Necrophos,Needls,Neekosam,Neelanjay,Neguse,Neilsoft,Neithal,Nekkanti,Nelat,Nemeniyi,NeoStencil,Neotonn,NetAcad,NetBuster,NetLogon,Nethravathi,Netlogo,Netmix,Netru,Neulife,Neuromama,NeverTrump,NewsRound,Newshunt,Newslaundry,Newstoday,Newswhip,Nexmo,NextBee,NextBigWhat,NextLaw,Nextbit,Nezvanova,Ngaound,Ni28,NiCl4,Nicmar,Nicolsen,Nift,Niftytrade1,Nimcet,Nimhans,Nimulid,Nimuselide,Ningzhi,Niqaab,Niresh,Nirisha,Nisargopchar,Nishchay,Nitanshu,Nitie,Nitis,Nitk,NitroBuild,NitroFlare,Niumaya,Niyath,Nizambad,Nmat,NoBidding,NoCopyrightSounds,NoFap,NobleProg,Nodavva,Nomeniculature,Nommez,Nomothetic,NonMuslims,Noopept,Noragami,Nordicism,Norditrac,NoresourceError,NotAllMen,Note7,NoteFull,NotionPress,Nov2016,Nov28,Novabeans,Novakov,Novakovski,Novgorodskaya,NovoEd,NowGettingMarriedToAn,Nowazardan,Nowrangapur,Nowtopia,Nowzaradan,Nseit,Ntpc,Ntse,Nucific,Nuheart,Nullkomanix,NumLk,Numaya,Nungitha,Nuplazid,Nutils,Nutrela,Nutrigain,Nutties,Nuviante,Nuzzly,Nwebkart,Nx8,Nx9,Nzec,OAASIS,OARP,OARPi,OBITV,OBOR,OCAJP,OCLD,OCSetupHlp,OCl2,ODIstoo,OFCA,OFFEREING,OFSS,OH_2,OITNB,OKRs,OKcupid,OLET,OLa,OMEGA2,OMNICIENT,OMSCS,ONEPLUS,OOPL,OPJEMS,OPPERTINUTY,OPTCL,OPerations,OQOx,ORFE,ORHVS,OSBN,OTE4,OURLIVES,OV9712,O_,O_4,OasisBus,Oauth2,Obergruppenfuhrer,Obscurial,Octacor,Octacores,Octacosane,OctoberIndia,Octopart,OddEvenDobara,Odhisa,Odias,Odiferous,Odihsa,Odissa,Odiya,Odoo,Odoriferous,Odroid,Ofdm,Offeronia,OfficeJET,Oforo,Ofwater,Oganesson,Ohhio,Oigee,OkCupuid,OlaCabs,Olacab,Olacabs,Oleochemical,Oligosoft,Oliveboard,Olympiaturm,Omaze,Omega2,Omnidex,Omniknight,Omniplan,Onacona,Oncomed,OneCoin,OneDrive,OneNetworkDirect,OneOps,OnePlus,OneRoof,OneTone,Onecoin,Onedrive,Onefootball,Onement,Oneplus,Oneplus3,Ongc,OnlyDomains,Onyanko,Ooaltah,Oolta,Oopiri,Ootsutsuki,OpenAI,OpenCPU,OpenCV3,OpenDaylight,OpenDomainMarket,OpenERP7,OpenEnglish,OpenIO,OpenIdeo,OpenUI5,OpenVIBE,Openrice,Operaci,Opindia,Oppam,OpsWorks,Opternative,Orchidopexy,Oreonax,OrganMasters,Originpc,Origy,Ortho2,Orthocarbonic,Orthofill,Osteomyolitis,Otokomae,Otterboxes,Oulianov,OurMine,Ourcampus,OutBrain,Outsourcely,OverWatch,Ovomaltine,Oway,Owebia,Ownism,OxOmar,OxygenOS,Ozhukarai,Ozomen,Ozran,P028TX,P0341,P073TX,P1m,P2065,P207TX,P2090,P2Cl4,P2S5,P4317Q,P4O10,P4O6,P4S10,P5900IB,P5L,P702,P89V51RD2,P8lite,P90D,PA13000,PA900,PAKED,PALAM,PARATHA,PASUPATI,PATRIS,PAYTM,PAYTMAG,PAYtoPLAY,PAttern,PBFT,PBR3,PBr5,PC3L,PCCOE,PCLZIP_ERR_BAD_FORMAT,PClassic,PCle,PDEng,PDGM,PDL1,PEC2540,PELOD,PEPSU,PERSUE,PESSAT,PESU,PETg,PEga,PF3Cl2,PGCD,PGCFR,PGCGM,PGDAST,PGDAV,PGDB,PGDBDA,PGDBF,PGDBO,PGDC,PGDFM,PGDHHM,PGDHRM,PGDIE,PGDIIT,PGDIM,PGDIRA,PGDISEM,PGDMFM,PGDMM,PGDPM,PGEE,PGPBA,PGPITBM,PGPME,PGPSM,PGPpro,PGPs,PGStrom,PGVCL,PHP7,PHPfox,PH_3,PI845GVM,PIBM,PILLO1,PIOPS,PLSql,PMCY,PMEGP,PMFBY,PMJBY,PMJDY,PMKVY,PMM1,PMM2,PMSBY,PMStudy,PMt,POCSO,POJI,PORTed,POSDM,POSTPAYMENT,POTYS,PPFs,PPSSPP,PQWL122,PRAE,PRAMP,PRATIYOGITA,PRECAUTONS,PREPRETATION,PRISONLOVERS,PROFITMART,PROPHASE,PROPRIA,PReLu,PSCAD,PSCT,PSKs,PSORIASI,PSTCL,PSUS,PSVR,PSYCHATRISTS,PTAL,PTRD,PURIFIFING,PVRL2,PYMK,Paaus,Pachmari,Pachocki,Pachoni,Packered,Packtwo,Padamati,Padhao,Padmavalli,Padmavyuha,Pagaar,Pagalworld,Pagdi,Pahije,Pahlaj,Paidverts,Paigam,Pakalu,PakistanOccupied,Pakrit,Paksh,Palihapitya,Palkhi,Paluvai,Pancard,PaneerButterMasala,Panexitrol,Pangrams,Panipuri,Pankti,Papareddy,Papercuts777,Papertronics,ParaSail,Paragauay,Parallella,Parcticing,Paribhasha,Parikar,Parivarthan,Parivarvaad,Parjai,ParkOhio,Parkapuka,Parlend,Parlio,Parstletounge,Partnerhip,Partnerre,Partycar,Parvatikar,Pasani,Passowrds,Pasvan,PatientsKnowBest,Patreon,Patriotisms,Pavada,Pavalion,Pavilion15,Pavlok,Paxidep,PayPalcorner,PayTM,PayTm,PayU,PayUMoney,PayUmoney,Payflex,Payme0,Payoda,Pazhagikalaam,PbCl_2,PbI_2,PcKure,PeSoMe,Pearlpet,Peaw,Pechi,PedOil,Pedmas,Pellichoopulu,Pellitol,Penguinese,PennApps,Pentammine,Pentangelli,Pentaxim,Pentegon,PeopleRank,Peopleperhour,Peoplesay,PerfectBiotics,Perfios,Perincek,Peritol,Permanante,Perpusku,Persicope,Persnol,Persuring,Pertroleum,Pervacid,Peshawas,Petalling,Petridish,Pettaci,Peverells,Pfeffern,Pgdilpoma,PhE,Phabricator,Phantastico,Pharaz,PharmDs,Pharmd,Phase8,Phasee,PhenQ,Phenophthalein,Phicomm,Philiphines,Phillz,Phixman,Phogat,PhonePe,PhoneSupport,Photograghs,PhpFox,Phumelo,Phygital,Phyongsong,Physiologhy,Piaggo,PianoMarvel,PicoStation,Pictaram,Pieing,PigLatin,Pikettys,Pimenova,Pin4you,PinPinterest,Pinkfong,Pintwire,Pippli,Pisemsky,Pitamah,Pithoragrah,PixWords,Pixate,Pixotine,PizzaGate,Pizzagate,Pkbazaar,Plab,Placoderms,Planc,Plancess,Planchit,PlatePlay,PlayCanvas,Pleade,Pleasw,Plivo,Plotly,PluralSight,Plussizedatingsite,Pmang,PoIs,Pocharam,Pocketshopy,Podrick,Poggled,PokeCoins,PokeMMO,Pokecoins,Pokestops,Pokimono,Pokken,Policybazaar,Polipay,PoliticKing,PolymerJS,Pontians,Poochandi,Poomalai,Poosiya,Popatlal,Popcorners,Popocat,Populizers,Porinju,Portify,PortioResearch,Portsmout,Posteri,Postradamus,Poudlard,Powerdrift,Powtoon,Pp0pp,Praanam,Practo,Pradeshin,Pradhanmantri,Pradhyumna,Praksh,Pramaan,Pramodya,Pramp,Pranayams,Pranchul,Prannay,Pre52,Precent,PredictIt,Preflighted,Prefrosh,PregBuddy,Prega,Premam,Premiya,Preniee,Prentry,Prepsmarter,Presspage,Presstitues,Pretham,Prettysecrets,Preygel,Prgmng,PrimeNG,Prinicple,Prithvijit,Privatoria,ProLearn,ProSchool,Proadvisor,Proavisor,Procast,Procus,Prodecessor,Proffesors,Prokhor,Promixa,Propan,PropertyChek,Proschool,Proshred,Protinex,Protocolbuffer,ProtonMail,Protonmail,Provr,Proze,Prulu,Psats,Pseudofed,Psgtech,Psiphone,Psycihatrist,Psycopaths,Publish_pages,Pulomi,Punchanama,Pundhir,Punekars,Puneri,Punfound,Punjabistan,Punmia,Punreal,Purbapara,Purussaurus,Pusarla,Pushedtoinsanity,Puthat,Putongtua,Puyet,PyBrain,PySpark,Pybrain,Pycham,Pycharm,Pythagurus,Pythonist,Q1010i,Q153,Q157,Q160,Q163,Q164,Q165,Q380,Q416,Q84000,Q8H,QC25,QC35,QCarbo32,QMAS,QQE,QROR,QSCM,QT4005,QUADratic,QUIRA,QUORA,QUincy,QVIS,Qhy,Qi4j,QiK,Qicycle,Qiqqa,Qmee,Qorvo,Qoura,Qraft,Qrcode,QuackQuack,Quadrooter,Qualitywall,QuanZhou,Quandoo,Quanergy,Quaro,Quartzy,Quatab,Quatrone,Qubole,QueryHome,QuickCharge,QuickType,Quickooks,Quicksprout,Quillivant,QuizFriday,QuizUp,Quizcraft,Quizup,QuoraTown,Quoradigest,Quoraian,Quoraite,Quoraites,Quorans,Quoraonians,Quorarian,Quoras,Quorean,Quoreans,Quorian,Quorians,Quosera,Quotev,QupZilla,Qupra,Quranism,Qurry,Qutee,Qwaftzefoni,R15S,R15V2,R16M,R2013a,R510JX,R51C,R558UR,RABINDRANATH,RADIAN6,RAEES,RAJKRISHNA,RAMAIH,RANSOMWARE,RASCI,RAT518HUD,RATHA,RATIONALLY,RAW511KUD,RBEI,RC125,RC390,RCNN,REBELLED,RECLTD,REDMI,REEEEEEEEE,RELAP,RENABLE,REPORDUCTIVE,RESV8,REUIM,REVPASH,RGIPT,RGPIT,RGSOIPL,RH342,RITEG,RIYAZ,RJ19LM,RJio,RKMVU,RKOI,RKSV,RLINS,RLWL,RLWL77,RMSd,RN3P,RNSIT,ROBOCON,ROEDA,ROMEDYNOW,RSCIT,RSNNS,RSSians,RSWL,RSorder,RTH230B,RTMNU,RTPF,RT_PREEMPT,RVNL,RWBY,Raanjhanna,Rabindrababu,RaceTogether,Rackons,RadPad,Radeep,Radhakishan,Radyance,Rafis,RaghuRam,Raheeq,RailsCast,Railwire,RainTPL,Rainerland,Rajasathan,Rajasurya,Rajinikath,Rajyasabha,Rajyashree,Rakkayi,Raktabija,Raktim,Ralphio,RamKrishna,Ramalingaraju,Ramamrutham,Ramamurthynagar,Ramasetu,Ramdeb,Rameswaran,Ramiyah,Rammya,Ramnarain,Ramsetu,Ramyana,Ramzor,RancherOS,Randawat,Randhan,RandomForest,RandomSkip,RandomTVShow,Randsfjorden,Randyll,Rangelovska,Ranipuram,RankNet,Ranogajec,Rapastinel,RareJob,Rarejob,Rasagola,Rasagullah,Rashmirathi,RaspiCam,Ratanbai,Rathakanneer,Rattenkrieg,Raulph,Ravelu,Ravindrababu,Ravula,Rawalpind,Rayar,Razadan,Raziman,RbCl,Rcis,ReLEx,ReLu,ReactJS,ReactNative,Reactjs,ReadNotify,RealSense,Realgram,Realiance,Realistate,Realpage,Reamma,Rebel5i,Rechargeitnow,RecordReader,RedMart,RedMi,Reddice,RedditCEO,RedirectCustomers,Redlink,Redmart,Redmi,Redmi3s,Redtape,Reelabs,RefCircle,Refferring,RegenX,Regers,Regonline,Rekapalli,Relance,Reliancetree,Remero,RemoteStylist,Renine,Renok,Reofect,Rephasement,Replenacell,RequestParam,ResarchGate,ResearchKit,Resful,ResoStart,ResourceS,Respawnables,Responser,ResultSource,Resumonk,RetailNext,Retaill,Retailtainment,Retrica,RetroPie,Returnship,Revrend,Rewalk,Rexit,Rexulti,Rgnul,Rhaeger,Rhonchi,Rhoticity,RhytmVOX,Richfeel,Rickstartedhishikeat,Ricoletti,Ricql,RideSafely,Rieki,RightSide,RimTim,RingYa,Rishul,Ritasha,Ritsesh,Riyashi,Roadstorm,Roanu,RoboWars,Robtics,RockMongo,RocketMail,Rockrider,Rockruff,Rojava,Rollwala,Romajidesu,Romaleos,Romedy,Romhack,RonWeasely,Ronsey,RoomOnCall,Roompartner,Roorkey,Rorito,Rosepaw,Roseship,Roshna,Rosnfet,Rotatum,Roundchat,Rounting,Routofy,Rs10000,Rs12100,Rs144,Rs1500,Rs15000,Rs30000,Rs5000,Rs50000,Rs7000,Rs90,Rsorder,RuPay,Rubymotion,Rudalis,Rudrax,Rudro,Ruhil,Ruhrpumpen,Rulinskas,Rumlow,Rummycircle,Rupay,Ruppee,Ruralar,RussianS,Russophone,Rutterdam,Rwitaja,RxE,S11320,S2DUDZ,S2O,S3E13,S3H,S4E2,S5E12,S5E13,S5E15,S6802,S7262,S7392,S7572,S7582,S898,S970,SABF,SAEINDIA2017,SAESUPRA,SAFe,SAIMS,SAMAJWADI,SAMER08D,SAMVIT,SANDIP,SAPBA,SAPTAMI,SAPUI5,SARADON,SARSO,SATISFATION,SATYUG,SAYEED,SB23W,SBCHQ,SBH80,SBICap,SBx,SCL6,SCRa,SCTW,SCl2,SDE1,SDE2,SDMCET,SDSLabs,SELFIE,SENTIA,SERVICS,SFIT,SFOD,SFrame,SGPAs,SGSITS,SHAREit,SHE3200,SHGB,SHIATS,SHIBOR,SHIVYOG,SHQ405WS,SHVS,SIESCOM,SIHMA,SIMBI,SIMILARITES,SIMPs,SIMSR,SIMSREE,SINARO,SINMQ,SIPDE,SISTI,SISW,SITAPUR,SIVAAY,SIlvertooth,SJMSOM,SJSOM,SJWs,SLAVEOF,SMA7,SMSAPI,SNAPCHAT,SNIST,SNUSAT,SO2H,SOMAIYA,SORTEX,SOp,SPIPA,SPITians,SPJain,SPOj,SPPU,SPURRED,SQLie,SRFP,SRIB,SRKs,SRMJEE,SRPK,SSBS39,SSCW,SSDfrom,SSIPMT,SSN4EGS411,SSb,STARBOY,STCG,STDR,STX38,SU30,SUBLITE,SUCCEDED,SUCIDE,SUHD,SUNCONCIOUS,SUNE,SUPW,SURESCRIPTS,SVE14AA12,SWEs,SWISSto,SWS10,SY0,SYABUS,SYNCSORT,SYNKOFLEX,SYSKA,SZ292M88,S_,S_IMEI,Saagipo,Saahasam,Saamai,Sabkegaane,SafePass,Safesearch,Saffronising,Safiur,Sagotour,Sailpoint,Sairat,Salahudeen,Salath,Salbai,Saleel,SalesCrunch,Salgaonkar,Salihin,Salorix,Samaji,Samajis,Samajvadi,Samasung,Sambala,Samdish,Samrudi,SamsungGalaxyS5,Samundra,Sandeepani,Sanedo,Sanij,Sankoch,Sankrityayan,Sanksrit,Sanmax,Sanrachna,Sanskari,Sanskritized,Sanyasin,Sarasveti,Sardex,Sarmat,Sarrainodu,Sarso,Sarvapally,SasOnline,Sashikala,Satakarni,Satbara,Sathvik,Satic,Satrchi,Satthwa,Satwik,Satyabama,Satyawati,Saugat,SavReader,Sawarim,Sawarkar,Sawtolo,Saxonland,Saybucks,Sazae,SbH3,SbH_3,ScallaDb,Scarif,Scerzo,SchalkLab,Schizoids,Schweizersabel,Scifile,Scikit,Scivac,Sclerocis,Scofild,ScoopWhoop,Scoopwhoop,ScreenUpdating,Screenhero,Screenster,Scripbox,Scriptcase,Sculprits,SdCard,SeaCodings,Seagh,Search123now,SearchLock,Searchline,SeatGiant,Sechdualing,Sechomaru,Secularising,Secureworks,Secureye,Seed4,Seekkuge,Seemandra,Seeviduva,SegNet,Selendroid,Selfserve,SellBuyBook,Sendgrid,Sendinc,Senheisser,Senseaware,SensoVision,Sensodine,Senstor,Senthilnathan,SenticNet,Sentiwordnet,Sentora,Seoprofiler,Sep18,Seperatiat,Sepsi,Sequencefileinputformat,Seringapatnam,Servamp,Servicejoy,Servicesource,Servisfirst,Sesimic,SessionM,Sethupathi,Sethupathy,Setturu,Setuu,SevenSeas,Sewol,Shabarimalaya,Shadja,Shahdah,Shahneela,Shaighi,Shakespeate,Shakitmaan,Shaksgam,Shalakha,Shamnu,Shanivara,Shankracharya,SharedTalk,Sharespost,Sharetribe,Sharktank,Shatnerverse,Shayaris,Sheenam,Shellsort,Shenegan,Shenegen,Sherkiy,Sherlcok,Sherperd,Shetti,Sheyda,Sheydvasser,Shhaideh,Shifuji,Shiities,Shikism,Shikshantar,Shikshayatan,Shildt,Shimply,ShipLove,ShipStation,Shipmentwatch,Shippudeen,Shippunden,Shirkhurma,Shirom,Shishupal,Shivaay,Shivajayanti,Shivanala,Shivkar,Shivsmarak,Shodam,Shokyu,Shollinganallur,Shoolini,ShopClues,Shopittoday,Shopkart99,Shopmate,ShopmeBook,Shopmonk,Shopnix,Shoppingnu,Shopply,Shoppybag,Shopsingh,Shopular,Shortfeeds,Shrap,Shreateh,Shreerangnathrao,Shreyash,Shriyak,Shubhratri,Shudhu,Shuttl,Shvartza,Shyp,SiF6,Siache,Sibm,Sigfox,Signoraware,Sihouettes,SimLink,Simarpreet,Simbalochan,SimilarWeb,Similarites,SimplyCLICK,SimplyInsured,Simuele,Sin37,Sin8a,Sinamet,Sindhudesh,Sinhasan,Sinsadong,Sinties,Sinuiji,Sinw,Sinx,Sinza,Sio2,Sioplas,Sirahna,Sisimpur,Sistemics,Sitamata,SiteFinity,SiteGenesis,SiteOre,Sitelock,Sivalik,Sivans,Sivilotti,Sixsigma,Siyuti,Sizr,Skandakumara,SkepticalScience,Skillpages,SkinVision,Skiped,Skiplagged,Sklearn,Skodio,Skofnung,SkyKick,SkyLux,Skybag,Skybags,Skywrath,Slavics,Slemma,Slidely,Slidify,Slumberger,Slutroulette,Smacktive,Smami,SmartChange,Smartha,Smartron,Smayan,Smilevo,Smokuit,SnackDown,Snackdown,SnapSnapGo,Snapchats,Snapchatters,Snaplogic,Snapzu,Snarvis,Sniardwi,SnipLime,SoaPUI,Soarlogic,Soberan,SocialTrade,Socialblood,Socialtrade,Socidi,Socitie,Sodapalooza,Softinator,Sohla,Solarcity,Sollama,Somatra,Somatrophin,SonarQube,Sonarqube,Sonicmaster,Sonpari,Sonscriton,Sooryavansham,Soppana,Sorbians,Sorkar,Soumadeep,SoundTrue,SpaceKnow,Spacemacs,Spardha,SparkHire,SparkPost,SparkSQL,Spartanpoker,Spartial,Spavista,Spectrun,Spelberoendehjalpen,Sphaerocerid,SpiceWorks,Spidercam,Spideroak,Spigal,Spiltzvilla,SpinalAnesth,Spinko,Spiralmouth,Splitwise,Spoj,Spongocoel,Spreadly,Sprectrophotometry,SpreeCommerce,SpringWell,Springtrap,Sqauts,SquareCash,SquareOff,Squareoff,Squarepace,SriDevi,Srimanthudu,Srinatha,Stachour,StackFlow,StackOverFlow,StackUp,Stackry,Stalkbook,Stamplay,StandardScaler,Stapedotomy,StarAlliance,StartApp,StartRating,Startapp,StartupBootCamp,StartupIndia,StatMaker,Statergies,Statusqo,Statvoo,StayUncle,Stayuncle,Stayzilla,Steemit,Stemcentrx,StikiPosts,Stphen,Stracural_Des,StrapHQ,Strapworks,Strasmore,Strategise,Streiker,Stretchmo,Stridhan,Studentify,StudentsChemistry,StudentsNeed,Studienkolleg,StudySoup,Stydia,StyleSeat,Stylo2,Su30,Subadar,Subbaraj,Subendometrial,Subhashchandra,SubliNova,Subtentorial,SubtlePatterns,Subtreasury,Succesfactor,Sudexo,Sudhaar,Suemoto,Sufmrae,Sugest,Suhash,SuiteCRM,Sukhadeo,Sukhibhava,Sulamaniya,Sulfosalicylic,Sulyvon,Suncross,Sundararama,Sundfor,Sunglassesweekend,Suniba,Sunyam,Super30,SuperGiants,SuperMeat,Suphapit,Supplants,Support_Number,Suppporters,Suprabhat,Suragel,Suratkhal,SurePost,Surpanaka,Surpanka,Surudi,Surveymonkey,Suryakanta,Suryakanth,Suryanamaskar,Suryanamaskara,Suryavansham,Suryavanshan,Susheem,Susma,Sussano,Susunia,Suttru,Suvichar,Swaasaga,Swacch,Swachcha,Swachh,Swaniti,SwappedIn,Swarajathi,Swarnjobs,Swasth,Swetta,SwiftOnSecurity,SwiftStack,Swiggy,Swipebusters,Swoggi,Sxiest,Syiria,Sylethrin,Symboisis,Symbosis,Symfony3,Symulink,SyntaxNet,Syrmo,Systemstic,Szymany,T00J,T100A,T100a,T150A,T150a,T1530,T1Payments,T1and,T231,T250Sl,T450s,T4est,T6i,T6s,T72CMG22P,T795,T830MP2,T860,T860MP2,TA10IWE,TA50IWE,TAILs,TAMILROCKERS,TATAbSky,TATKAL,TAship,TCM125,TCSL,TCWS,TDCH,TECHMAHINDRA,TECHPRENEUR,TEDxGDUF,TENTION,TERACOM,TESSOLVE,TEVATRON,TEchnical,TF33,TF64SIMC4,TFET,TFWS,TH9,THAAM,THAMILAN,THROUHOUT,THWglobal,THanh,TISSNET,TJSB,TLotR,TMISAT,TMKOC,TN13FIU01,TNSLPP,TNT25,TOEFLPBT,TOFFEL,TOFIL,TOYBOY,TPLINK,TPPE,TPUTH,TQWL,TRANSLTR,TRATAK,TROPO,TRRN,TRUNP,TSKK,TSPSC,TSTransco,TTRR,TU9,TVFPlay,TVprogram,TWQL,TWTR,TYBcom,TYdings,Taadana,Tabex,Tabuaeran,TacFone,Tacometer,Tagariyeans,Taggler,Taging,Tajdar,Takshzila,Talaaq,Talangana,Talavvun,Talebs,Talentedge,Talkspace,TallyHow,Talwade,TamBrahm,Tambrahm,Tambrahms,Tamihana,Tamilans,Tamilnaadu,Tamparam,Tanakch,Tankhwah,Tannoudji,Tantriks,TantrumXYZ,Tanvar,TapImmune,TapSense,Tapastic,Tapus,Tarder,Targaeryan,Targaeryen,Targaryan,Targate,Targeryen,Tarkov,Tashreef,Taskrabbit,Tasls,Tatacliq,Tataglia,Tated,Tathagat,Tatkaal,Tatsat,Taured,TaxiForSure,Taxmann,Tayyibah,Tcdi,Tchalla,TeXstudio,TeachRipon,TechM,TechMahindra,TechStartups,Techdegree,Techhelium,Techinfographics,Techmahindra,Technonogy,Teeeeeeeeeeeeeeeeeeeeeeeeeeeeeeeeeeeeeeeest,Teegeeack,Teeja,Teespring,Teewe,Telemainia,Telepat,TelexFree,Telnor,Telolet,Telugul,TemplateToaster,Tenpen,Tenseigan,TensforFlow,TensorFlow,Tensorflow,Teotoburg,Termodynamics,Terrahawk,Terrystips,Tessaract,Tessolve,TestYourVocab,Testbook,Testcontent,Testcracker,Testro,Testudaan,Tewani,Texila,Teximo,Texlive,TextFree,TextNook,Textnow,Textout,Tgc,Thaakidhu,Thaam,Thaird,Thalaiva,Thamba,Thanaka,Tharigopula,Thatscoop,Thawn,TheBroTalk,TheCW,TheDiamondMinecart,TheFoxClub,TheGuideX,TheIrony,ThePoint,TheProudLiberal,TheQot,TheRedPill,TheRichest,TheShoshinProject,TheSuggest,TheTake,TheWebDevPolls,TheWorld365,Thenkalai,Thenns,Theono,Theoritcally,Thepoliticalinsider,Theprice,Theranos,Therapeuticsmd,Theriyuma,Thi1s,Thikka,Thinkful,Thinkifit,Thinkvidya,Thiyya,Thokda,Thornline,Three6Mafia,Threptin,Thrillophilia,Thrombophob,Throwns,Thuderbird,Thumka,Thumsup,ThunderQuote,Thunderquote,Thuraipakkam,Thuz,Thymeleaf,Tichelman,TicketSwap,Ticketluck,Tieks,Tieli,Tigrinia,Tigun,TijAi,Tiketturindo,Timbuct,TimesNow,Timespro,Timesvr,Tinderfling,TinyLetter,TinyOwl,Tipalti,Tirchy,Tirifjorden,Tiruvananthapuram,Tismo,TitanDb,Tititcaca,Tmartn,Tnagar,Tockify,TodaysTix,Todolists,Togaf,Tokonami,Tokopedia,Toksee,Tolethelp,Tolexo,Toloni,Toluenesulfonic,Tommarow,Tommorowland,Tonalpohualli,Toneden,TopCoders,TopProspect,TopTVshows,TopTalent,Topicanative,TopperHeadon,Topslip,Toptal,Toptenz,Torakan,Torbox,Torquise,TorrzZan,Tosyl,TouchID,Toughian,Tourisum,Trackerfox,Trade1,TradeTiger,Tradeplus,Tradier,TradingMotion,Traffikon,Tranont,TranscribeMe,TransferWise,Translatability,Transtutors,Trapalhoes,Trascendental,TrashTech,TravelOnlineAdvisor,TravelXP,Travellingtrips,Traveloka,Tredence,Treknocom,TresVista,Tresorit,Tressury,Trezelle,Trifacta,Triluminos,Trimas,Trinseo,Tripleybyte,Tripmate,Tripoto,Tristup,Trivuwan,TrojenGuri,Truebill,Truecaller,Truecrdit,Truehd,TrulyMadly,Trumpcare,Trumpish,Trumpists,Trumpocalypse,Trupay,Truthfinder,Tsiparas,Tubemate,Tuboscope,Tubruk,Tugain,Tukdam,Tuktuki,Tulufan,Tuluvas,TunnelBear,Tunnelbear,Tupamaro,Turtuk,Tushek,Tutorvista,Tuvteya,TvOS,Tweetstorm,Twenty19,Twickkenham,Twistree,Twitcams,TwoTap,Txi,Tylenal,Tympanus,Tzinga,U0001f193,U0001f382,U0001f4a3,U0001f600,U0001f601,U0001f629,U0001f691,U0001f914,U00024d13,U214,U2415,U2417H,U530,UAspire,UBNs,UCBerk,UCEED,UDAFs,UDisk,UFaber,UGNX,UGUI,UGVCL,UH552,UI5,UIFN,UIScrollview,UISearchController,UISegmentedControl,UITabBar,UJJWALA,UM4,UN65JU6700,UNDOCKID,UNILAD,UNNAO,UOLO,UOV,UPESEAT,UPNEDA,UPPCS,UPPCs,UPSE,URLError,USACO,USAGC,USAans,USCIT,USD100mil,USD2000,USGAYTEENS,USICT,USans,UTMSPACE,UWash,UWashington,UWaterloo,UX310U,UXer,UXpin,Ubantu,UberBLACK,UberBlack,UberEATS,UberGo,UberJewellery,UberMoto,UberPOOL,UberPOP,UberPool,UberSUV,UberX,UberXL,Uberpool,Uberx,Ubisoff,Uchicago,UdChalo,Udta,Uento,Ufaber,Uganada,Ughyur,Ukreaine,Ulawun,Ulidavaru,Ultimatix,UltraAVX,Umrangshu,UnCollege,Unacademy,Unaoil,Unclos,Uncollege,Undergraduation,Understander,Undertale,Underwhat,Unella,Unhealing,Uniassist,Uniccos,Uniconnect,Unikrn,Unilateraly,Universalhunt,Universitis,Univerteam,Univet,Unsimulated,UofMich,UpCounsel,UpWork,Upakriya,Upanshu,Upapandavas,Upboard,Uppi2,Upsewpt,Upstox,Uptu,Upwork,Uranius,UrbanClap,UrbanEdgeNY,Ureka,Urgit,Urjent,Urjit,Urshanabi,Urukagina,UserEngage,UserTesting,Usnik,Ustraa,Usuru,UttamVyapar,Uttank,Uttrakahand,Uuniversity,Uwi,V144,V147,V149,V151,V156,VA74,VALAK,VANTABLACK,VARICOS,VASSA,VCAC510,VDMY,VDerma,VESIT,VETTAC,VGEC,VGG16,VIIT,VIKALP,VIMANA,VIPER12,VISHARAD,VISIONTADME,VITMEE,VIjay,VIswanathan,VJIET,VLKPY,VNAP,VOOT,VPAM,VPEMS,VPNBook,VPm,VRShared,VS400,VSCode,VSP_2017,VSRP,VSSUT,VShare,VTOP,VUD,VVCE,VVIPS,V_x,Vaayaadi,Vadakalai,Vadukut,Vaggeyakara,Vaginaplasty,Vailfivia,Vaim,VaioVGN,Vaishnavastra,VajiRam,Vajiram,Valak,Valampuri,Valliammai,Valryian,ValueLabs,Valuelabs,Vandertramp,Vangaveeti,Vanossgaming,Vantablack,Vanvas,Vaporizergiant,Vaporwarez,Vapouriser,Vardah,Vardamana,Vardayini,Vardhaka,Vargi,VastuShastri,Vasud,Vatal,Vaulin,Vayagra,Vazhakkad,Vedicsoft,Vedvyas,Veebha,Veerana,Veliyath,Vellipomaakey,Velvetcsse,Venett,Venkatamangalam,Venkitaramanan,Ventablack,Venturimeter,Venuetastic,Veritasium,Vetcor,VfsGlobal,Victan,Vidiu,Vidyalankar,Vidyavathi,Viepax,Vigyapan,Vijnatri,Vilara,Vimbly,Vipasana,Vipassna,Virali,Virdas,VirtusaPolaris,Virtusapolaris,Visaranai,Vishna,Vishwaguru,Vishweshwaran,VisionIAS,VisionIas,Visishtadvaita,Visishtadviatam,Vistara,Viswashwarayya,Visweswarrya,Viteee,Vithura,VivaVideo,Vivasan,Vivobook,Vivosmart,Vizianagarm,Vjit,Vmatic,Vnr,VoHSPA,VoLte,Vocabsolution,VoiceXml,VolTe,Volatge,Volegov,Volkawagon,VoxcribeCC,Vrikshasana,Vrishakethu,Vsco,VueJS,VueJs,Vulncat,VulnerabilityAssessmentandPenetrationtesting,Vultr,Vuzelaa,Vyalikaval,Vyappam,Vysag,Vyuha,Vyvance,W330X,W8961,W8968,W943C,WA65H4200HA,WALKOFFFAT,WARDHA,WASND,WB51,WBCHSE,WBJEEM,WBUTian,WBengal,WC15,WDUnlocker,WEBEL,WEBTOON,WECode,WGSHA,WHATSAPP,WHrs,WILP,WION,WKInterfaceLabel,WL108,WL11,WL18,WL27,WL31,WL77,WL82,WM50,WN722N,WN725N,WN822N,WNR2500,WOTHOVT,WOlf,WR740N,WR841N,WRAPCUPID,WSR6F,WSretail,WT72,WUPHF,WWhat,WXEntry,WYNK,Wageworks,Wakankar,Waknaghat,Wakrat,WalkMe,Wallapop,WalmartLabs,Wankhade,Wanyou,Warangle,Warcis,Warmduscher,Warnboro,Warrents,Wasallim,Wasiyat,Watsapp,Watshud,WattVision,Waveclues,Waxmyrtle,Waygook,Wazidpur,Wbcs,Wbjee,WeBuyUglyHomes,WebEngage,Webkul,Webnexs,Webpack,Websummit,Webtek,Webydo,Wechat,Wedding91,Weeknds,Wehre,WeiBo,WeiXin,Weikfield,Weisapple,WelcomeDM,Wellick,Werfault,Wetransfer,WhIch,WhWhat,Whaatsappweb,Whait,Whars,WhatAapp,WhatFix,WhatShould,Whatdo,Whatdoesitmean,Whath,Whatr,WhatsApps,WhatsDog,Whatsapps,Whatsdog,Whatsdogg,Whays,Wheatish,WheelchairJunkie,Wheere,Wheh,Wherw,Whete,Whichi,Whichs,Whih,Whihc,Whispherers,Whitestips,Whoesale,Whst,WhtDoUthnk,Whuch,Whydo,Whyis,Whysulphuric,WiIl,Wibbitz,Widsmlabs,Wikkelhouse,Wikoryl,WilRussia,WildFly,WillCall,Win10,Win8086,WinArcher,Windyty,Wingify,Wininit,Wishopoly,Wizlearn,Wjere,Wocchat,Wonderlandads,Wonkavision,WooTheme,WoodlandsTexas,Woodsplash,Wooplr,Wordperss,Work4Labs,WorkbookSettings,Workiva,WorldBreaker,WorldCraft,WorldReport,Worldpackers,Worldstrides,Woxsen,Wubbox,Wudalianchi,Wutan,Wynk,X205TA,X352,X540YA,X541U,X550LD,XAT17,XAt,XB250,XB30EX,XB30ex,XB450,XB50AP,XB650BT,XB950,XB950AP,XB950BT,XDV9080805010396,XENDER,XEOF4,XFlow,XHQ,XL2720,XL2720Z,XMLPullParsing,XOAB,XT1033,XT1225,XT1624,XUB,XVIIIs,XX211D,XX255D,XX301H,XXmm,XXxL,Xamidea,Xamrin,Xasten,Xaxt,Xcent,Xcerra,Xchrisone,XeF2O,XeF4,XeOn,Xender,Xenial,Xenoverse,Xhoan,Xiami,Ximb,Xime,Xioami,Xiomi,Xiruo,XlRI,Xmpp,Xojo,Xolizah,Xt1068,Xtrade,Y51,Y510p,Y52,Y55L,Y6Pro,Y700,YK11,YN622C,YN622N,YOJANA,YPayCash,Yaarab,Yaariaan,Yachty,Yamanaya,Yampurshas,YapChina,Yashaswi,Yatishwaranandaji,YeahMobi,Yehawanthpur,Yellowleg,Yemlur,Yimithirr,Yingwen,YoApp,YoKai,YoPappuSoDumb,Yocoin,Yoddha,Yogabed,Yogarshi,Yogdaan,Yogurtology,Yongcan,YouBroadband,Youdao,Youfit,Youth4work,YuFit,YuPhoria,Yuddham,Yudhistra,Yudishtira,Yultong,Yumist,Yumtang,Yuphoria,Yuvanashva,Yvideo,Z00VD,Z170A,Z5070,Z5400,Z630S,ZAPYA,ZE550,ZE550KL,ZE551ML,ZE551kl,ZEBRONICS,ZENFONE,ZHIHU,ZINCOVIT,ZOMATO,ZT5070,ZUKZ1,ZX110,ZX110A,ZZZQuil,ZZZquil,Zady,Zailet,Zanran,Zantax,Zapat,Zapressa,Zaptra,Zawara,Zbiddy,Ze_LOTR_Mines_of_Moria_6_3_v34,Zeading,Zeest,Zemanasci,Zemdegs,ZenFone,ZenPayroll,ZenWatch,Zendium,Zenefits,Zenfone,Zenhub,Zenifits,Zenify,Zenmate,Zenpad,Zenrx,Zergham,ZeroNet,Zerodha,Zeroni,Zhaodong,Zhihu,Ziadti,Zifi,Zimi,Zincovit,Zingat,ZipCall,ZipCloud,Zipmark,Ziptask,Zirakzigil,Zivame,ZnCl,Zocdoc,ZohoCRM,Zoiro,Zondle,ZooZ,Zooinverse,Zooloft,Zoomcar,Zoomcars,Zooqle,Zopper,Zpanel,Zubats,Zuha,Zwoor,Zylber,Zzzquil,a069,a16z,a276,a479,a555lf,a6300,a7000,a720is,a7ii,a7r,aFreeChat,a_,a_4,a____in,aaadhar,aadharcard,aaksh,aaloma,aanandha,aanika,aankho,aansoo,aantidepressant,aanythign,aapearing,aarathi,aarcitecture,aasra,aast,aatkuraippu,aatmakatha,aayaa,aayan,ab215tx,ab219tx,ab522tx,abadon,abaj,abandanded,abednego,abhiyaan,abhiyan,abilitities,able2study,abogae,abolisihed,abominabel,abondened,aboutDelta,abouthe,aboutlastnight,above17,absolutdata,abstractism,abundancestockadvisors,abyb,ac067nr,acaccommodate,academey,accedental,accelleraters,accileration,accived,accountablehq,acculate,accurial,acdemy,acds,acedamics,acene,acer1535,aceticacid,acetylglucosaminidase,achIeve,acidentaly,aciditi,acitrom,acocio,acr122u,acrete,acses,act1872,activitiesyou,actlly,acturial,actvivities,adMob,adapatations,adaptersuch,adayar,addanyproject,adderalls,addmefast,addmition,addresshome,addvertisement,adense,adfc,adhaar,adhoore,adhu,adishankaras,adivisor,adject,adjest,adjstments,administratior,admissin,admistion,admssn,admt,adolocence,adolscents,adooylabs,adportal,adroll,adset,adsmatte,aduate,advantagee,advantges,advencements,advertismet,advicable,advisabe,advisale,adwards,adxl345,aerosil,aerospaces,afarmer,afbc,afcat,afferens,affidvit,afftec,afroz,afsb,after1a,aftership,agastya,age40,agead,agecncies,aged4,aghora,agilist,aglasem,agnel,agnihotra,agnim,agnipariksha,agrabati,agreedDo,ahai,ahalife,ahembdabad,ahemdaba,ahemedabad,ahmadnagar,ahnt,aiadmk,aiats,aibnb,aicet,aimcat,aimpt,aipg,aipgmee,aipvt,air827,airbeam,airbnbmultichat,airconsole,aircrarft,airindia,airjordanhot,airlineprices,airnbnb,airoter,airpods,airwarrior,airwatch,airwheel,aitai,aitra,aiyibah,aizwal,akgec,akik,akistan,akshar,akurdi,alanganallur,albartraoz,album1994,alcers,alchievers,alcoholissm,alderfers,alecturer,alephti,alertcontrol,alessandrini,alevelor,alfaaz,alienus,allahbad,allbestlist,allepey,allepy,allgenericmedicine,allgero,allmyapps,allocatively,allotransplant,almound,alogorithms,alopathy,alovera,alphasights,alprax,alternativeto,alternetive,aluminis,aluminiuin,alura,amasuite,amazaon,amazing5,amazonians,amazonmedica,amazonsecrets,ambassodors,ambclasse,ambedhkar,ambitiou,ambiverts,amcat,amdocs,amendent,amensia,ameo,ameracan,americanamericaAmerican,amezon,amgetting,amidite,aminstitute,aminvolved,amirishetty,amiselimod,amitosis,ammyy,amomentincrime,amourshipping,ampann,ampire,amritapuri,amritha,amulyam,amunation,amygdaloida,anA1,analesys,anallingus,analsyis,analyast,analyticis,ananlysis,anarchast,anarchim,anatheism,anathor,and12th,and163,and1yr,andMongoDBb,andagi,andentreprenuerer,anderoid,andiaga,andman,androidjugaad,androidversion,andthing,andtold,anelevationof8975,angdai,angleA,angleAOD,angleB,angleBOC,anglicist,angular2,angularJS,anjem,ankleshwar,anneling,annotary,announcmnts,anomist,anonfiles,anonyms,anoque,anotharise,another_website_image,anotherfor,ansewring,anslysis,answerbazzar,antardasha,antaryami,antheme,anthrapology,anthya,antiTrump,anticholergenic,anticonceptive,anticonceptives,antifederalist,antiform,antig,antihumanism,antijudaism,antinationals,antiperistalsis,antipriming,antipumping,antitheists,antiv,antminer,anundoram,anuraakam,anxietydisorder,anxietyl,anybodt,anyboudy,anybuddy,anycalternative,anycustom,anymoresomeone,anyont,anypne,anywhee,aodress,aparticle,apartmentguige,apeirophobia,apenea,apertheid,apexdspa,aplartments,apocracy,apointees,apolyton,apoor,appertince,appfutura,appilcable,appilicable,appium,appjasmine,appjs,applock,applocker,applockers,applocks,applyng,appmakr,appnana,appns,appointes,apporoach,approxmiate,appspec,appstorepromotion,appyet,apriculture,apspdcl,aptittude,apttitude,apuzz,aquajogging,aquarguard,aquaterra,aquo,aquous,arakorai,aramean,arasan,aravaanis,aravam,aravana,archaival,archietecture,archinida,archiveofourown,arcsinx,ardiuno,areawise,argusoft,arhihant,aricent,arigatho,arisi,armits,arnavcreations,aromath,aroras,aroumd,arrowchat,arshini,arsi,artficaial,artfulcom,artilaries,artofproblemsolving,arvut,arxml,aryaka,asTom,asaduddin,asantes,ascenfant,aseman,asgardians,ashamashi,ashanas,ashvagandha,askaban,askmytargetmarket,asknerdy,askreddit,asodesk,asphalte,asprise,assammee,assemblylanguage,assistmarket,asssitant,assuarance,astologers,astraliya,astraunauts,astrogeology,astroindusoot,astrologian,astronots,astrophysicsfrom,astrunaut,asus_t00g,at15000,at90,at_quick_exit,atalji,atcomaart,atdmt,atescentral,atharved,athleisure,atibs,atiedxx,atlaf,atlaspublicrecords,atll,atmega32,atorny,atound,atouss,atransformer,atrempted,atsume,attackS,attaractive,attebergs,attendIng,atthanni,attractivness,attrantive,attribute__,atuba,atulya,atwhole,au003tx,au006tx,au009tx,au018tx,au111tx,au134tx,audiobookbay,audiomack,aukat,auli,auora,auqu,aurangzeb,aurdino,aurenzeb,auroroa,authenticjobs,autisitc,autocadd,autoencoder,autoencoders,autoforward,autoliker,autological,automatedbinary,automatemysmallbusiness,autometicaly,automotor,autoreleasepool,autospy,autosuperaci,autosweep,autotracker,autowini,auxochromes,avadh,avamanam,avanger,avanse,avarekai,avchat,avector,avenger150,averegly,avisae,avvelena,awa3,awakai,awaree,awaruite,awastha,awdesh,awdhesh,awesomebazar,awited,awnt,awwalun,axena,axima,axiscades,axix,axtria,axxomovies,ay008tx,ay011nr,ayondo,ayurvedically,ayuvedic,ayyub,azee,b034,b1for,b215,b6000,bIharI,ba021ax,ba040,babajob,babash,babblos,babur,babycell,babyhugz,bacalaureate,bachleors,bachular,backbites,backbonding,backdonation,backpackr,backpropagate,backronyms,baclinks,baclog,bacterical,badar1211,baddebt,badhazmi,bagavad,bahe,baherain,bahudha,baiyappanahalli,bakchod,bakchodi,balachander,balaguru,balancesheet,ballotage,ballsyic,ballwhite,balpaduthum,balram,banagalore,banalore,banashankari,banaswadi,bandbaajaa,bandhgala,bandhi,banfalore,bangaluru,baniya,bankbazaar,bankig,banmers,bannig,barabric,baramullah,baranch,barassi,baritenors,barma,barod,barrackpore,barvaria,basic6,bassanio,batassia,batchbook,batchlor,bathua,batrery,batsuits,batterywale,battlefield1,battwry,bazarlec,bazel,bazzinotti,bbaacddaaddabdaaaa,bbwcouple,bcklogs,bcme,bcom1st,be001tu,be005TU,beIng,bePMP,be___,beaglebone,beagleize,beahviour,bearkup,beatswitch,beautybox,becomec,beedie,beeminder,beenteen,beerus,befikre,before___,beforecars,beghairat,behaviouralism,behkne,belaguam,belata,belgavi,belings,below15000,below15k,bename,benaud,benefecial,benefital,benefots,beneftial,bengalore,benjen,benoa,benter,bentup,benwfit,benzaldehyd,benzodiazepenes,benzoid,benzoplast,beonprofitsystem,berhampur,berilliyum,berkuliah,bernays,berraco,besabar,bestfrnd,bestinternship,bestmakeupkits,bestmytest,bet9ja,bethween,betonmarkets,betrede,betterly,betweed,betweenAutomation,betwwn,beverified,bewakoof,bezmenov,bforex,bftech,bhaad,bhaang,bhaav,bhagvad,bhagwad,bhagyashree,bhahubali,bhakts,bhandana,bhangarh,bharathanatyam,bharathiyaar,bharatvarsh,bhatts,bhavageethe,bhavahara,bhayander,bhelata,bhild,bhinde,bhishma,bhms,bhodhidharma,bhogle,bhopura,bhowmik,bhringraj,bibasilar,bibechana,bichemical,bicylinder,bidadi,bidthehacker,bifemoral,bigOSpace,bigly,biharis,bilala,bilance,billava,billlionaire,billonaire,bilsir,binaryoptionautotrading,binatural,binaurial,bindhi,binifet,binitarian,binsar,biochemstry,biocon,bioderma,biodesalination,biofibre,biographics,bioluminiscence,biomechatronics,biomeical,biomometics,biopiracies,biostandups,biostatics,biotechnologis,biotecnnology,biotecnology,biotique,bipc,biprism,biquinary,birkland,biromantic,bitlink,bitman,bitmasking,bitrefill,bitsian,bitspilani,bivakar,bivalvia,bizbilla,bkbiet,blackmoney,blackseed,blackwhole,blasie,blastostyle,blendor,blergs,bleuflamme,blippar,blisscovered,blobanalysis,blockchains,blogpostingsiteslist,bloodraven,bloodshow,blopboard,bloser,bloting,blrintali,bluemix,blueprism,blueyedcass,bmsce,boAT,bocz,boddhuru,bodhgaya,bodysnatcher,boilres,bokaro,bolaji,bolemic,bolliwood,bombinator,bondandbowery,bondedtradeassistant,bonnisan,boobsize,boodai,boodhan,bookchor,bookeo,bookexchange,bookfi,bookmybai,bookmyshow,booksdeity,bookzz,boostrapped,bootfitter,bootfitters,bootsec,borange,borazole,borderlink,borderof,bornvita,boroline,borooah,borstar,boruto,bounches,bournvita,bouzoukia,bovonto,boxup,bozal,bozes,bpcl,bpharm,bpsc,brachymetatarsia,brahmanism,brahmasthra,brahmos,brainbench,brainbuddy,braineous,braingasmic,brainmeasures,brainyquotes,bramha,branchwise,brandedlogoworks,brayne,brazuca,breakmyshow,breathalyse,breeza,breiphol,brexit,brezza,bribik,brickbatting,briext,brightlogic,bringbacks,brisado,brithcove,brning,bro5,broadsoft,broghlie,brogrammer,broish,brokerlinking,brotherels,browines,browsingphones,broyhers,brrrrd,brydge,bryophyta,bs4,bschools,bscit,bseb,bsimall,bstc,bszaar,bt02,btclab,buckeyesruinating,buddiest,buddybuild,buddymantra,budli,buffersales,buildthecareer,buiscuit,buland,bulkplaza,bulsara,burikko,burkinis,burphing,businesspartners,buttermyresume,buyIng,buyancy,buymarijuanaonline,buyucoin,buywithme,buyyer,buzzumi,bvector,bvrit,bxb,byMir,byepass,byju,byjus,bymistake,byxorna,c000007b,c100si,c2305,c2h5oh,c3h8,c6H12O6,cAR,cAT,cBT,cO2,cVent,caccount,cadder,caesin,cafecuba,calabases,calebrate,calenderisation,call__,callistoctopus,calsium,caluculus,camgemini,campailer,campho,campuscommune,canaaites,cancerides,candana,candere,candesarten,canfy,cantile,caoching,capacitant,capaciyicve,capcitance,capegemini,capegimini,capf,capgemi,capise,capishe,capitallists,captchaclub,captialists,car24,caraque,carbon12,carcinogence,careat,careerand,careercup,caregory,carinosa,caripill,carks,carnotaurus,caror,carpainter,carpopedal,carrierbuilder,cars24,carsguide,carsim,cartar,cartoonised,carwale,cas9,cascoding,cashdesk,cashlu,casparian,cassion,casss,castism,categoey,categoricity,cateogery,catification,catogries,cattiest,caturmasa,cavador,cavitaion,cazpro,cbap,cbce,cbcs,cbdt,cbit,cbr250r,cbsc,cc3200,ccavenue,ccmt,ccnstitute,ccube,cdec,cdse,cegeps,cegratee,celcoius,celcon,celebarted,cellp,cenepollis,ceoSteveJobs,cephalocaudal,ceragem,cerber,cerber3,cerbera,cercopithecine,certifaction,certifiaction,certifyjobs,certiified,certiport,cessium,cestoda,cfbc,cgpanin,cgpet,cgpi,chaance,chadna,chainsmoker,chainsmokers,chaiyada,chajja,chakravarthy,chakravyuh,chakvi,challana,challent,chaloo,chalukya,chambelanes,chamces,champinonship,chanakaya,chandal,chandragupta,chandrayaan,channel131,chaptars,chapterwise,chaptes,charactertistics,chararcteristics,chargebee,charteristics,charukula,chatHead,chatcard,chatelier,chateva,chatnow,chavanni,cheAP,cheasing,chechik,checkacontract,checkbto,checklinksite,checkpoint_required,chellam,chellange,chemcad,chemicl,chemolithoautotrophs,chemotaxic,chenai,chequemate,cherenkov,cherlapally,cherophobia,cherrytrade,chesta,chevening,chevrolate,chhatisgarh,chhaupadi,chidiya,chij,chikamagaluru,chikangunya,chilka,chilke,chinathinksbi,chinlon,chinmaya,chipkalis,chipn,chiristmas,chitkara,chittor,chiyaan,chlorobutane,chlorosulfonation,chlorpropham,chnces,chncs,chngng,chodikanam,cholecystolithiasis,cholide,choopistha,choosx,choroids,chotanagpur,choubey,choudheri,chouki,chowka,chowky,chr6_cox_hap2,chromatographymass,chromebox,chromecast,chromium6,chromiumVI,chromly,chromophobia,chromoses,chromosomechromosome,chronemics,chronons,chronophantasma,chsl,chulita,chunt,churan,churchkey,churchofsatan,churma,chyawanprash,ci5,ci7,ciaz,cibersecurity,cicuits,cidic,ciem,cigarrates,cilexitil,cilory,cims,cinemalytics,cinemaparadizo,cinematization,cinematized,cinematographical,ciprinol,ciptadent,circ11,circ4,circ5,circ6,circlehubb,circleofmoms,circumcentre,circumradius,ciswomen,citd,citizn,civildroftman,civilengineer,civilengineering,civilsservice,ckskil,ckwl,cl160,cl2co,claculate,clarizen,clashers,class11,class11th,class12,class9,clax,cleanganga,cleanmaster,clearfunds,clearingUSMLE,clearmy,cleavaland,clickbait,clickbombing,clickbuzzer,clickfunnles,clikcing,clild,clindac,clinidipine,clip4sale,clobetasone,clothlines,cloudtail,clrs,clubmans,clumate,cm11,cm12,cm2g,cmda,cmmety,cmpny,cmposite,cnan,coachig,coastgard,coching,cocho,cockroache,cococola,cocroaches,cocubes,codeHS,codeacademy,codeathon,codecademy,codechef,codefights,codeforces,codehs,codejam,codejinn,codepen,codeschool,codesprint,codevita,codewars,codingdojo,codingparks,codiqa,coelomates,coenergy,coenosarc,coep,coeptis,cofficient,cogniflex,coherts,coinx,coldbloodedness,coldrink,coliving,collamer,collaped,collapsebot,collegedunia,colleterol,colletral,collges,colliods,coloumbs,colubroid,coluld,colz,comanci,comaped,combiflame,combiflames,combinally,combiwave,combodia,comduction,come350,comepetitive,comerse,cometchat,comibatore,comiited,comilla,comlpetely,commandent,commentedjson,commercing,commerzone,committiee,commonapp,commonfig,communising,communityOR,communitycertificate,compaitable,companu,compareRaja,compating,compenstated,competitives,compites,compitetive,compititors,completd,completeted,completeting,completting,compromisable,compuny,comsult,comtmnt,comutated,comviva,conational,conccurent,concelling,concercentration,conciousnes,concretism,condam,condensar,condent,conductometry,coneration,conferencce,confirguation,confirmtkt,conflics,conflicst,conforim,congac,congnizant,conisdering,conjucted,conjuruing,connectionn,connifers,conservativespirit,considence,consireding,constanct,constantantly,constantrateof8,constitutioin,constract,constructers,constructlively,consultency,consultz,contains12,contamined,contects,continiuty,contractiq,contrapunct,contraversive,contunuity,convInce,conventioal,converaion,conversationd,convertability,convertkit,convever,convicne,convter,cooldrinks,coolkicks,coompanies,coordinaate,copacker,copenhegan,coperatives,copilotsearch,copirighted,coplaner,coputing,copyscrn,cordlife,coreEL,coreJava,coredova,coreforcenergy,corei3,corevision,corresonding,corresspondence,corrispondent,corruped,corsera,cos2x,cos37,cos3a,cos4x,cos53,cos5x,cos9,cos9a,cosA,cosecA,cosecx,cosmicpetrochem,cosmine,cosquillas,costier,cosumption,cosure,cotA,cotidian,cotx,coulb,coulums,counciousness,counsultency,countall,countary,countdistinct,countriess,coupen,coupondunia,couponforsure,courrept,coursevin,cousIn,covalancy,covalency,covenents,covince,coww,coxkroaches,cpec,cph4,cphhlxb,cpwd,crDroid,crackISB,crafart,crateria,crawny,crazykenyan,creamon,creamylayer,crearine,creativeans,credilla,creditsudhaar,creehack,creenshots,creto,cricbuzz,crickter,crimimaly,criminalism,cringiest,cringworthy,crisil,crispr,critice,crizal,croneck,crossbrowsertesting,croston,crowdfire,crowdfunder,crowdresourcing,crowfunding,crpytography,crrack,crunchbase,crussing,crypt12,crypt8,cryptarithmetic,cryptocurrencies,cryptolocker,cryptwall,crytocurrency,csab,cske,csploit,ct7,ctistyl,ctmre,cuaro,cubbon,cubesmith,cuccina,cuetu,cultivaton,cupidcare,cuptask,cureinstant,curption,currilous,currunt,cuspate,custemer,customery,cutrves,cvils,cx275s,cxd,cyberbase,cybernations,cyberoam,cyberpolice,cyberpsychology,cyberstalk,cybervillager,cyclistlove,cyence,cymbopogon,cynaide,cyrius,cyton,cytoplast,d103tx,d3300,d3400,d3js,d5200,d5300,d5500,d7100,dIfference,dIsplay,dLHe,dPAL,daadi,daangar,dabana,dabbawalla,dadis,daesh,dahlberg,dahua,dailyKos,dailychanges,dailyfeats,dailyobject,daimeter,daio,dakshinachitra,dalmentation,damashii,danbilzerian,danceformed,dandeli,dandelitrip,dandruffs,danern,dangal,danteshwari,dapps,darakaraka,darbouze,darkspots,darkweb,darmstadtium,darsa,dasavathara,dasra,dataanalytics,datacamp,dataguru,datanyze,dataoutputstream,dataquest,datascience,datefields,davangere,davidtking,davu,dayananda,dcac,dceu,dctors,dcuments,ddlg,ddots,ddr4,deFOOing,deacent,deactivat,deacying,dealfind,dealignment,dealschintu,dealsnshops,deamnds,deanerys,deasel,deathlyhallows,deatial,debeak,debtless,decasulfide,decentive,dechoker,declorinate,decmber,decolourised,decoxide,decreses,decypt,dedicatly,deeeply,deelena,deepcrush,deeplearning4j,deepmind,deepweb,defacate,defit,deflagrates,deflux,defluxe,deframe,degag,degisn,degitized,dehydrohalogenation,deleteyouraccount,delhilite,delhite,delimedy,dellhi,delloite,deloitt,demandIng,demart,demiromantic,demisexuals,demoneitisation,demonestation,demonestisation,demoneticzation,demonetisation,demonetisations,demonetise,demonetised,demonetising,demonetize,demonetizing,demonetiztion,demonitasation,demonitisation,demonitised,demonitising,demonitization,demonitize,demonitizing,demonitizition,demonitozation,demonsation,demotenization,dendi,denimlandjeans,denodo,dentalworld,depfile,depillaring,deplorables,deppresed,depratures,depressIon,dergree,deriphyllin,dermaveen,dermotology,desIgn,deshbhakti,desiar,desicisions,desigirlsphone,desihner,deskdop,deskseo,desocialization,desphosphorylation,destracting,detEction,detctor,detectore,detened,detiorating,detransitioned,detransitioning,deuteromycota,devOps,developerment,developmemt,developoing,developphp,develpr,deveoper,deveplor,devison,devlpr,devnagari,devoleper,devolepments,devraj,dewo,dexomethasone,dezyre,dfccil,dfg9RLY,dfrac1,dgca,dgpa,dhaisar,dhanu,dhanvade,dharmi,dhaula,dhingana,dhisai,dhoha,dhomdhon,dhosasamyam,dhosha,dhoshas,dhulagarh,dia900mm,diagonising,diagonosis,diagrame,diagtrack,dialetics,diameyre,diaminohexane,diamomd,diamtrs,dianoetics,diasteriomers,diastrophism,dibromobutane,dicarbon,dichlorine,dichlorophenol,dichronism,dickrete,dicus,didposable,dierective,difaiend,difcult,diferenc,differce,differenceces,differencr,differenes,differennce,differentl,difficilt,difficuilty,difficultt,diffrenece,diffrrent,diffulcut,digibank,digicard,digitaladvertisingalliance,digitallly,digitalprofit,digitialization,digyton,dihydride,diminisher,dimithoxy,dimonatization,dimunution,dindigul,dinnerbox,dinosurs,diomand,dipartment,dipretion,diprotic,directlytheir,dirpy,dirtyandthirty,disadvantageds,disadvanteges,disanvantages,disasers,discardung,disdvantages,diseae,disert,disfortune,disgraphia,disgruntling,disincentivise,dismorphophobia,disordes,dispacment,dispersas,disphosphorus,disposits,dissertion,distabolise,distancce,distillated,distinations,distractedI,distribuiton,distributorbanradial,distrubiter,distrubs,disturbence,disvirgin,disvirgined,diswwasher,diverterted,dividisons,divieded,divisble,divisiblev,divxcrawler,diyanko,diyseo,djz,dlDo,dlinlk,dlvr,dmart,dns_probe_finished_nxdomain,doEs,dobuters,doc2vec,docDoc,doctoe,doctotor,documnts,docusign,doesKuwait,doeswe,dogecoin,dogskin,doiprove,dokha,dollarcell,dolomedes,doluma,domentization,domicility,domicl,dominoz,dongre,donlad,donnan,dontchaveceex,doordash,doordharsan,doorwork,dopeople,doppelg,doriya,dorkyard,dosam,dosham,doughed,doukr,douzo,dowloands,doxes,doxz,doyfreind,doynes,dping,dpps,dqua,dragonglass,dragonknight,dragonpox,dramalists,dramebaaz,drandruff,drango,draperdragon,draupadi,dravidan,dravyas,drdummer,dream11,dreamingmarket,dreamliners,dreamscreen,drishyam,driveredtogo,drjays,drodders,dropshipgs,dropshipment,dropshipstrategy,ds88,dsgnr,dsim,dsox,dsp2,dualite,duang,dubizzle,dubnation,dubsmash,dubsmashes,ducit,duclia,dummyaccount,dumpity,dunar,duodater,duol,duosam,dupal,duphastone,durameter,during1971,durjoy,durong,dusfunctional,dushka,duterte,dvdasa,dveloper,dvija,dvlpmnt,dwnloadng,dxomark,dxtorrent,dyaan,dyarchy,dyastolic,dyphenhidramine,dysacusis,dysasthesia,e353,e4500,e460,e4ebooks,eAsily,eBIZZ,eChinacities,eGyankosh,eKart,eLc,eLitmus,eMMc,ePUBs,eProperty,eUNUCH,eXtraordinary,eaadhar,eadly,eamples,earlear,earphonejax,easilyrent,easisest,easybillindia,eatalo,eathng,eatig,eaunty,ebarrasing,ebc1,eboiling,ebookee,ebookit,ebris,eccedentesiast,ecclesiasticus,ecet,echobot,echotexture,ecil,eclassesbyravindra,eclickz,eclypt,ecnomical,ecnomics,ecocentrism,ecocline,ecocritcism,ecolicense,ecommerse,econjobrumors,ecsastic,ectarian,ecuations,ecular,edWisor,ediitor,edisha,edomodo,edubirdie,edulous,edumor,eduncle,edupristine,edusastra,eduvidya,edwisor,eecutives,eelvet,eeply,eeru,eeth,eetings,effatha,effectineness,effectvely,efferdent,efficycle,eflu,egmat,egoc,egoisme,egrecharge,eharmorny,ehir,ehos,einthusan,einthusian,eize,ejabber,ekf,eklavya,ekranoplans,elaboratively,elaborators,elastich,elasticsupply,elastism,elaunav,elctromechanical,elePHPant,elecrophlie,elecrtical,electodes,electrical4u,electrodynamometer,electrolaser,electrolyse,electroncomponents,electronegetivity,electronices,electronicscomp,electroscopes,electrotastic,electrovalent,eleguible,elife,eligal,eligibity,eligiblible,elitify,elitimus,elitmus,elivered,ellectoral,ellitmus,elustrate,elvisco,emarged,emarrassed,emaxination,embargadora,embibe,emft,emg_prosthesis,emilectic,emirtaes,emitterbase,emjio,emjoyment,emkit,emmentaler,emographic,emoneypool,emontions,emotely,emotiv,empiregrid,employeeservicepinwithsmallrubylookingstonewhatyearisit,empolyes,empowr,emptively,empwr,emrging,encapricciao,encephalomalacia,encoeding,encouaged,encouragable,encrryted,endoneurium,endosporic,endrose,eneering,energiz,enering,enerring,enfied,enflied,enfps,enhauncer,enjoinder,ennikkum,enrepreneurs,entenced,enterpirse,enterprenuer,enterprenuership,enterprenur,enterpreurship,entorpy,entrancexam,entrepreneuship,entreprenues,entreprenure,enttepreneur,envenomated,enverra,enverras,environmnent,enye,eochapi,eosinophilis,epfo,epicarp,epicural,epifanio,epithalomian,epitranscriptomic,epravity,epsyclinic,equatedto,equatorin,equilibrioception,equilibrum,equimarginal,equityoverseas,erchance,erds,eridicate,erised,erosuon,erotta,erumble,ervile,erytop,erytroblastosis,es18,es18s,esProc,escapethecity,eschatocol,eserved,esferasoft,eslc,esophagal,espncricinfo,esql,esslingen,estatemarker,estatement,estimands,etechnologies,ethereum,ethirmarai,ethists,ethnicist,ethniticy,ethnorace,ethylphenidate,etizolam,etnicity,etoos,etoosindia,etorro,ettle,eudamonia,eukarotic,eurasiatic,eusthacian,euthanas,euthenesia,evadors,evaporatively,eveloper,evenafter,evenst,eventsdo,everestbasecamptours,eversing,everydai,everytown,eveteasers,eveteasing,evisa,evluate,evoid,evotracker,evvaru,ex110ap,exMormons,examfear,examinat,exampes,examtravel,exanplae,exaplain,exaquantum,excahange,excalmation,excerised,excese,excle,exclusiveoffer,excubator,exemplyee,exhubands,exiist,exmintn,exms,exp7in,expandation,expanditure,expaning,experimentallt,experimentaly,expertchoice,expertized,expertrating,expertsourcing,expin,expiraton,expiro,explodable,explosimeter,expressIon,expressdropship,expressjs,expungeable,exsam,ext5,extc,exterous,extratorrents,extratorront,extrovent,exusia,eynos,ezhavas,ezpopsy,ezroadtrips,f310,fInd,fa2,faadooengineers,faadu,fabsdeal,facIal,faceinhole,facetron,facialsdoctor,factorialize,fahrenhiet,faircent,fajan,fakeproducts,fallopin,falvoured,faminism,famoustylishnails,fanduel,fangdd,fansignal,fanspage,faound,farfetchs,faridbad,faridi,farm2stores,farms2stores,fassi,fastcharger,fastclus,fastudent,fatdiminisher,faternal,fathersrights,favim,fayol,fbsbx,fceux,fe0f4c12h,fe170cg,fe3c,feTile,fearness,feed_pyml,feedbackword,feedpost,feedspot,feedwiser,fees9,feetHedescendedata,fegree,fehling,femenology,fevikwik,fewh,ff14gilhub,fgfa,fghjaslfkhaks,fghts,fianle,fibbonaci,fibernet,fibromiyalgia,fictief,fictiion,fictioned,fiencee,fifa14,fighterJets,fightersof,fiiser,fiit,fiitJEE,fiiverr,fikry,filders,filelate,fileoutputstream,filmskills,filmybaba,filofaxes,fimywap,finacle,financaily,findAndGo,findbhk,findfocusgroups,findinfor,findmejob,fingreprint,finicity,finkeybe,finomena,finthebest,fintree,firealpaca,firebrigades,firecraker,firefoxpatch,fireign,firstcry,firstname_lastname,fisherface,fitbuyfollower,fitclown,fitrist,five5r,fixiegear,flOating,flatsigned,flavicauda,flawlessmillions,fleek,fleged,flert,flex2,flexcube,flightsiming,flimpist,flipagram,flipcart,flipcoupon,flippingly,flirtness,flitto,flixcart,flockof,floppydisks,flouxetine,flowriding,flowstate,fltreasurehunt,fluenty,fluxoetine,flyboard,flyboarding,flyme,fmab,fmfp,fmovies,foamglas,foap,focouse,foetalis,folarin,follicule,fonding,fonepad,foodclubs,foodpanda,foodtech,footmat,foozeball,for1080,for40,forTrump,forUSMLE,forall_,forden,forece,foreignkey,forfishingvideos,forget____,forgote,form16,form2017,formaction,formalties,forrent,forriding,forteresse,fortiguard,forumdiscussion,forvabout,fourcores,fourthsometimes,fouseytube,foxbarn,foxpush,fpritnf,frIend,frIends,frac13,frac23,frac43,frac45,fragmentaion,framebox,framify,frankfinn,fratmusic,freands,freeadvice,freebasics,freebeacon,freebookcity,freecharge,freecodecamp,freedomain,freedompop,freegovtjobsindia,freelancercareers,freeletics,freemyapps,freepostcodelottery,freerice,freesamaya,freescore,freescoreindia,freher,frehman,frequentists,frequrncy,freshere,freshier,freshseries,freshyear,fribromyalgia,friendzones,frieng,frigidare,frointer,fromdabloc,fromquora,frsher,frutify,fsldkfjsldkf,fssai,ftii,ftptoday,ftre,fucher,fuckboi,fuckboys,fuckedcompany,fuctionally,fudiciary,fukitori,fullering,fullform,fullmoviesadda,fullstack,fundingcircle,fundlined,fundsindia,fundum,fundz,funspeed,furinitue,furnishd,furtwangen,fusti,futtu,futuretimeline,fuve,fw190,fx34,fxkart,fxml,fyers,g1216b1n000,g370,g3w,g400s,g4play,g4plus,g5080,g531h,g580,g64,g8n,g900h,gCO2,gH2O,gIrl,gIve,gNIIT,gQuestions,g_spot,gaalis,gadgetcenter,gadus,gaiming,gajrela,galegroup,galileon,gallaru,gallileo,gamejam,gamersgift,gamesalad,gamesindustry,gamesir,gamesjobsdirect,gamusta,gandoo,gangstalkers,gaotie,garajehub,garanted,gargi,garhmukteshwar,garrix,garrotes,gaslighted,gaslighter,gate2016,gate2018,gatwayof,gavaskaer,gaytri,gazaba,gazatted,gbytes,gearbest,gearsgears,geckodriver,gecto,geedunk,geekbuying,geekforgeeks,geeksforgeeks,geforece820m,gements,genarate,genderfluid,generalizably,genexpert,geniesupply,genpact,genreation,genymotion,geoblocked,geod,geofilter,geogira,geosynclines,geq100,germanese,germaney,germent,germer,gerokronoliros,geroprotector,gesurveys,get_thread_area,getbootstrap,getchar_unlocked,getche,getmeinsure,getng,gfti,gfxtra,ggsipu,ghaat,ghabrahat,ghoda,ghostbathacker,ghyandhan,gichi,gicko,gidiview,gigafeature,gilderoy,giloy,gimmebyk,gingivoplasty,gionee,gionees6,girello,girlthat,gitam,giveawaylisting,gkm,gl552vw,glactose,glamouring,glenmark,glle,glms,global_feed,globalitarian,globaltestmarket,globophobia,globsyn,glucocil,glycate,glycosis,glyx,gmal,gmsk,gnetophyta,gniit,gnon,gnwl,go2checkout,goDookan,goarmy,godorful,gofrugal,gogetrunks,goherenext,gojee,gokano,gokulnath,golance,golgappa,goloka,gonochoristic,gonotheca,gonulcelen,goodUniversities,goodsie,goodstep,goodwell,goodyearaccountonline,googlelaunches,gooru,gorialla,gossped,gosupermodel,got149,gothra,govermnt,governmentand,goveronment,govetence,govnment,govtcollege,govtogether,gowipe,gowlidoddi,goztepe,gpat,gpsc,graduatation,gradudation,grafana,graffittibooks,grammarly,grammerly,gramsci,grandmango,grantwatch,granulocytosis,graphemics,graphlab,graphotactics,gravational,gravitationly,gravitonics,graylogs,graywake,grde,greantness,greencrunch,grefide,greybus,greymeter,griet,grishenkoff,grmmick,groafer,grofers,groupcommerce,grovement,growell,growlings,grx20,gsX,gsce,gsuit,gsuite,gt250r,gt730,gtbit,gtpl,guantity,guestposting,gugaon,gulte,gumasta,guptha,gurugaon,gutlee,guyzzzzz,gvrnmt,gwadar,gws_rd,gyanam,gyen,gynecosede,gynochomestia,gynoids,h1B,h1bullet,h265,h2cs,h2te,h3po2,h3po3,h3po4,h4ppyn355,hAir,hIgh,hIre,h_a_t,haappen,hackerRank,hackerearth,hackerrank,hackforums,hacnd,had516,hairat,hairfalls,hairtransplant,hajiilee,haldiram,halfbloods,hallunicating,hamboning,handdile,handlebreakup,handpain,hansraj,hapeen,hapinness,haplontic,hapoen,happaend,happanes,haprox,haptik,harambe,harbat,harderned,hardmod,hardnened,hardvard,haribhakti,haridham,hariyanvi,harshlier,harsi,harward,harzard,hashify,hastatic,hasznos,hatric,hauntd,havep,havto,hawrah,hayt,hazans,hb1ac,hberry,hbti,hcverma,headboy,headerfile,headsetc,headvoice,healthfirst,healthkart,healthprofs,healthtech,healthwarehouse,heartfulness,hebephile,hectres,hectrs,height5,heigou,heldentenors,hellbat,hellically,hellocomic,hellopoetry,helwett,hemachromatosis,hemicontinuity,hemmriods,hemotoxic,hempprotein,heptanol,heptapods,heptoxide,herbhiuse,herbut,heridatery,hermal,hermition,heronine,heroshima,herpyllus,heseb,heterophobe,heteropia,heterozyguos,hexaware,heyzap,hh4u,hhssain,hideme,hidraulogy,higenic,higherstudies,highpayed,highschoolalumni,higoto,himalyam,himsagar,hindustanmarkets,hindutani,hinjewadi,hipsterlogogenerator,hirarki,hireica,hireteammate,hirist,hirudaya,hisMBBS,historican,historicising,histronic,histrorical,hitfilm,hitleap,hiv1,hivaids,hkbk,hledays,hllor,hlpful,hmbrowser,hmmnnmm,hnlu,hobtop,hochschule,hogawarts,hohobnd,holachef,holacracy,holidaypirates,hollaween,hollsale,holocausting,hololens,holoportation,homebird,homefinance,homeofficecarriers,homeotherapy,homeotherms,homocheck,homogamous,homoiconic,homoromantic,honar,honeycone,honor5x,honorsociety,hoodtriotic,hookedonphonics,hoook,hootriotic,hooverwatch,hopsicle,hormonic,horsefield,hostar,hosteler,hostelsincity,hostles,hostnation,hostress,hotelmengement,hotjar,hotlisted,hotstar,hottiegram,hotwell,houcrux,hourrs,housebuildup,housejoy,houseofnames,hovawart,howeverI,howking,howthemarketworks,hpbe002tu,hpfanficarchive,hpned,hqq,hrblock,hreem,hrig,hseb,htc820,hucog,huitailang,humanitu,humnava,humnawai,hungrybags,huntsongs,hursband,husbandary,husserl,hv492,hvng,hw6,hwzt,hy8,hybridation,hybridyzation,hydarulic,hydrabd,hydrabed,hydranth,hydrocarbones,hydrocaualus,hydrolyte,hydrone,hydronitric,hydrorhizae,hydrosills,hydrotheca,hydroxydopamine,hyenias,hygrogen,hyouka,hyperchromic,hyperclubz,hypercoagulopathy,hypercondriac,hypereutectoid,hyperextention,hyperlasia,hyperloop,hypermesh,hyperproteinemia,hyperuric,hypnopedia,hypogamous,hypoiodite,hypotheticaly,hyprmesh,hysterorrhexis,hysys,hyteresis,i130,i140,i257,i257M,i537,i677,i7559,i8262,i9060imy,iAssurance,iBT74,iBeacon,iBeacons,iCAR,iCETS,iDownloads,iFruit,iFunny,iIIM,iIexpressed,iIlove,iLahi,iMeetzu,iMtech,iNautix,iOS10,iOS8,iOS9,iP2800,iPhone6,iPhone6s,iPhone7,iPill,iProf,iQR,iRulu,iStick,iTutor,iVectorize,iWriteEssays,iaioa,iamtexan,ianswer,ibeacon,ibecome,iboanswers,ibsnetaccess,ibuprofyn,ibuy,ic7,icecreame,ichangemycity,icho,ichristmaslight,icix,iclouds,idaltu,ideas42,ideles,idemi,idenfitfy,identificadtion,idexation,idfa,idfc,idha,ididwork,ieer,iert,ies2017,iesel,ifeelgoods,iflix,ifoa,ifunny,igbc,igims,ihav,ihavea,ihide,iiam,iiitd,iima,iimb,iimc,iimjobs,iincrease,iinie,iinvest,iisc,iiser,iisers,iisx,iitJEE,iitb,iitd,iitian,iitians,iitiimshadi,iitjam,iittm,ijser,ikigai,ilaahi,ilasik,ileasily,ilesh,illegalise,illetarate,illlness,illtreats,illuminatie,illuminaties,illumunati,illyusa,iloveny,ilts,ilulife,ilwale,imOnline,imadcompanypipingdiv,imagesbazar,imcbusiness,imelo,imessages,imggirate,imgsafe,imilarities,imile,imitaion,immd,immedeate,immuglobin,immurated,impactfull,impanon,impeachement,imperitives,impications,implemnt,implicarions,imporatnace,improved0,improveloading,improvemet,imstead,imthinkingto,in1st,inBoundio,inDinero,inLottery,inMobi,inTata,inTurkey,inUPESEAT,inanswered,inboxdollars,inbuilding,incanation,incapio,inclinattion,incloudplatform,includingexperience,incognitovpn,incresead,incubent,incult,indcidents,inddependence,indeer,indeers,indefenetly,indepandant,independene,indiabbc,indiadime,indiamp3,indiancupid,indianlisted,indiato,indignoues,indirectaly,individuval,indmaa,indogo,indominus,indoneasia,indowind,indrajit,indudstrial,industory,industrilised,industrybuying,indutal,induustries,ineffectibe,inegrated,inering,infinative,infinify,infinitivo,infinix,infnite,infodraph,infolisted,infosis,infosolution,infotrellis,infoudio,infrastrasture,infratects,infrcted,infromatics,inful,inges,ingineering,ingines,inglory,ingmoney,inicized,inidna,inincentivize,inlieu,inlovewith,inmails,inmaking,inmobi,innarested,inpassage,inpite,inplaceof,insadm,insas,inscale,insecuritys,inselly,insertWithOnConflict,insightly,insititute,insofe,inspicere,instacart,instadubaivisa,instafinancials,instagam,instagc,instagrame,instagrammer,instagramtop,instaigates,installallation,installerr,instamojo,instapage,insteasd,instgram,instide,institional,instituional,institutionals,instuite,instututes,int_,int_3,intagram,intelity,intelliJ,intelligble,intellipaat,intenship,interant,intercast,intercasts,interculturation,interdimensionl,intergalectic,interjector,intermate,internacionalistas,internmatch,internshala,interpool,intersed,interstellaer,intervarietal,intervension,interviewbit,interviewcake,interwin,intezer,intezers,intjs,intorvert,intps,intragency,intrensic,introvercy,introvertiveness,intrw,inuative,invadable,invansion,inventorier,inventshare,inversable,inverse_friendship,invertment,invesors,investexcel,invezta,invisionapp,iocl,iodimetric,iodometric,iolad,ionic2,ionizerr,ios7,ios9,ipfirewall,iphone5s,iphone6,iphone6s,iphone7,iphoneSE,ipill,ipjone,iprepare,iqoption,iraiva,iralos,iranianvisa,iresisable,iridov,iridum,irnss,irodov,irrespected,irreversibilities,iruna,is133,is1350,is21,isBest,isIit,isInteger,isThis,isWhois,isYield,isabs,isbr,isclosure,iscrete,isfet,isgusting,isitchristmas,isitgood,iskon,islamaphobic,islamicloansscustomersdesk,islamised,isomorphus,isopropene,isoscales,isotone,isoxazolines,ispend,isperse,ispose,istitutes,istributed,isturb,italianweb,itbp,itinindia,itnormal,itracker,itsadatenight,itsector,itserfi,itutor,itvery,ivorce,ivtl,ivypark,iwantmyname,iwanttotransfer,iwriter,j106tx,j120H,j200G,jAlLiKaTtu,jaadhagam,jaats,jabong,jadibuti,jagawar,jagi,jagjeet,jagjivan,jagriti,jajpur,jallikattu,jalpari,jamabandi,jambudvipa,jambudweep,jamnalal,jamsedpur,jan17,janakpurdham,janamashtami,janami,jandp,jaoi,japanofile,jasidih,jask,jatagam,jatakam,jaunsari,java8,javacpl,javacv,javeed,jawaan,jawarlal,jaxxx,jayalaitha,jayalalita,jazba,jbims,jbit,jecrc,jee2016,jeeadvance,jeemain,jeenka,jegeg,jelania,jenuinness,jesus2017,jewellrry,jewfull,jewnuts,jewocracy,jewplicate,jeyalalitha,jeyam,jhak,jhang,jhanjeri,jiepang,jieqin,jiib,jiit,jio4g,jio4gvoice,jiofi,jiomags,jiyr,jjews,jjsjam,jlpt5,jmfc,jntuh,jntuhmt,joIned,jobdreaming,jobsinchinese,join4movies,joinA,joinhoney,joinindianarmy,joininy,joinned,joinng,jokerquiz,jokewap,jomblo,jooko,joox,josaa,jpg_160x120,jqPlot,jsPanel,jsapi10,jsgrid,jslkdjfslkdjf,jugulodigastric,jumpr,june2016,jungwirth,junuior,jupitor,juran,jurnol,jusified,just12,justanswer,justbuylive,justdial,justfly,justifythis,justmop,jvoicexml,jyestha,jyothirmai,k027c,k101tx,k2O,k371,k400,k400R,k42f,k5000,k53e,k5note,k88h,k9protection,kIcked,kKK,kaabah,kaanathirunal,kaanoon,kabadiwalas,kabali,kabdiwala,kabil,kadambini,kadikoy,kafasa,kaggle,kaigi,kakamami,kalandar,kalasalingam,kalawati,kalburgi,kalijai,kalkata,kalmuhi,kalvari,kamaraj,kamarajar,kamaria,kamehame992,kamraa,kaneria,kangan,kangaride,kanodia,kanpai,karaikudi,karamchand,karanataka,karandak,kardlr,karnas,karnatak,karnel,karpura,karupaiya,karuvelam,karyomorphology,kasol,kasyap,katihar,katju,kauravas,kaushik602,kawah,kawase,kazakhs,kcbpl,kccitm,kedarkantha,keenmobi,keepsafe,kenaxis,kendta,kengeri,kerig,kesnanad,ketai,kethu,ketta,keulen,keyfacts,keylooger,keyped,khaana,khajit,khakra,khalaji,khandan,khandsari,khanvilkar,kharak,khardi,khardushan,kharta,khasi,khatris,khelmart,khelper,khemetic,khowing,khujli,khulle,khulwani,khurmatu,khux,kibana,kibbu,kibito,kickasstorrents,kickasstorrentsas,kicko,kickstarer,kiip,kikoriki,kilij,killallmen,killallwomen,killerstartups,kindneys,kingRoot,kingroot,kingsguard,kinner,kinners,kinnor,kippee,kirchaff,kirchoff,kissanime,kissasian,kissless,kissmanga,kitKat,kitchkarma,kiteboating,kitewheel,kitwall,kiwix,kleppner,klitos,kmehnaaz,kmno4,kmspico,knav,knowafest,knowleable,knowyourcustomers,kochar,kochuveli,koisk,kolenkow,kometa,konnakol,konoichi,konwledge,koogle,kostha,kotakmahindra,kothimbir,kovam,kphb,kpinga,kpit,kpopcollege,kproxy,krazybee,krazybutterfly,krebscycle,kripacharya,krishi,kristoto,kritya,krke,kseen,kshar,kshmr,ksom,kufutee,kuklorest,kumada,kumbhakonam,kunafe,kundabuffer,kunjinkao,kunthi,kuraivathilai,kurseong,kurud,kushfehmiyan,kuzhi,kv2,kvpy,kworker,kyber,kyeboard,l1b,l210,l440,l840,l8ke,lIfestyle,lSC,laaltain,labortary,lactometer,ladooo,laertes,lagani,lagaya,lagertha,lahari,lakshdeep,lallapalooza,lambda_c,lamborhini,lamis,lanciano,landran,langda,langely,languates,languich,lanthsnides,laots,lappymaster,laprascopic,laproroscopic,laptab,laracast,laracasts,laravel,largen,lassaigne,lastseen,latinize,lauberge,launchindian,laundrapp,laungauage,laurasia,laureated,laurettaelmer216,lawerys,lawyeraffidavit,layiye,lborg,ldpc,leTv,leadlander,leadquizzes,leadreship,leafly,leapdroid,leapforce,leapure,learnengg,learnvest,leasekey,leastexpensive,leaveraged,leboncoin,leccturate,lecturtes,leeco,legarro,legitemet,lekkalu,lelijiye,lenaski,lenevo,lenovo3300,lenskart,lentient,leopons,leptotene,leq3,lesswrong,leutinent,lexingtonlaw,lezyne,lf5900,lgstylo,lhmc,liabilties,liasioning,libGDX,liberalsociety,libertatians,licentie4u,liense,lieutanant,lifebydesign,lightcones,lignt,likeTypeScript,like______cup,likealittle,likebucket,likeif,likhari,likhe,lim_,limerice,limeroad,limits_,limits_0,lingayat,lingayatism,lingayats,linkedln,linkef,linkis,linkreferral,linustechtips,liqiid,liquefactive,liquidprice,lissajious,lissn,listenonrepeat,litering,lithostatic,litrate,litti,livelocks,livepure,livertransplanthospitals,livesphere,livibg,livon,ljes,lkck,lkh,lkprogram,lmvnt,ln1,lncosx,lndigenous,lnir,lnmiit,lnsinx,loafe,lobism,localtrains,log_,logicical,logloglogx,logmedo,logotournament,logshipping,logstash,lokacart,lokapal,lokmanya,lokpaal,loksabha,lokshabha,longeval,longife,longroom,lonleley,lonmin,lookaheads,looklet,losr,lost12,lostgeneration,lottoland,lovebombed,loveculator,lovestatus,lovless,lowcastes,lowflation,lowpage,loyaty,lpddr4,lphone,lrdi,lsun,ltds,luannkeller0647,luccas,luccha,lucidchart,lufax,lukmi,lumbersexual,lumia720,luminati,luminouseshop,lumosity,luxurydesignerwholesale,lyadh,lybrate,lyft,lyricsmint,lyrivs,m1m2,m20x,m2Dicor,m2XY,m335,m350,m365,m375,m40x,m445,m4V,m50x,mBps,mInutes,mIstake,mRNAin,mRoads,mVR,m_a_k_,maarukatte,maavu,mabletech,maccoughney,machiavellianism,macreconomics,macrodroid,macroproposition,macropusoctopus,macrosystem,madbid,madeeasy,madeene,madheshi,mafool,magadh,magaziine,magha,maghrebians,magicbricks,magisk,magizhchi,magkantot,maglevs,maglve,magnetons,magnumcashadvance,mahabaratham,mahabharatha,mahagathbandhan,mahagenco,mahalaya,mahalwari,mahammed,mahamritunjay,mahapuranas,maharasshtra,maharshtra,maharstra,mahaveer,mahinra,mahol,mahummed,maidsin,mailgun,main__,mainstreming,maintenanes,majboor,majboori,majoritty,makbuja,makenchemstore,makewebvideo,makingspaceforothers,makymytrip,malasiya,malasma,malayalis,malbaris,maleki,malesia,malicously,malkapur,mamc,mamke,mammaliaforme,mammone,mamra,managementt,managemrnt,manchitra,mandizzle,mangalik,mangalorean,mangobaaz,manisfestation,manisterial,manorath,manose,manspaining,manspreading,manstein,mansturbation,many2one,mapKIT,mapR,mapmyindia,mapoleon,mapr,marajauan,marathahalli,marathalli,marcerator,marchpane,marckson,maremaids,marijuhana,markandey,marklogic,markmanson,marrIed,marraid,marrge,marride,marshmellw,marsmus,marwaris,maryapoda,masculoskeletal,mashima,masquitos,masspings,mastani,masterbuate,masterbuting,masterkminds,mastrabutation,mastribute,mastrubration,mastubrate,masturabate,masturbate3,masturbuation,masturbute,matariswanam,materialconnexion,materialtree,mathamathics,mathematicsl,mathemtics,mathikere,mathlete21,mathway,matram,matrimonies,matunga,maunally,maxImum,maxbounty,maxmise,maxymiser,mayka,mba2016,mbaIT,mbipc,mclr,mcops,md101,mdes,me15,meang,meanwhat,meausred,meaww,mecatronics,mecatronique,mechanicalengg,mechcanical,mechnically,mechtronics,medels,mediahuman,medicacl,medical2016,medicalwhich,medicational,medidation,medigo,medior,meditataion,medoid,medpro,medvisity,meetmydoctor,meetuguraai,megaboom,megameters,megarays,megasese,megavenues,meggering,megruli,mehanical,mehrab,meking,meldonium,mem_pct,membarrier,memoizing,memoring,memory_management,meninist,mensrights,mensurating,menustral,meopen,meotic,merajob,mercari,mercilent,meridiaw,meritstore,mermans,mersalaayitten,mesgger,meshach,meshichist,mesomeric,mesosomes,mesothelia,messagess,messageswe,messegeb,messengr,messng,meswak,metabolator,metacharple,metadynamics,metahuristic,metahuristics,metaliks,metallurgicall,metallurical,metamers,metamorpho,metavision,meteorism,meteorjs,meteoroligical,methamatics,methanal,methanoic,methene,methords,methylcyclohexanol,methyle,methylglucoside,methylpropane,methylpropanoic,meticously,metricstream,metrino,mettl,meursault,mevo,mfcc,mfuonline,mg2940,mgf2hn,mgh_1,mgh_2,mh370,mhcet,mhchem,mhrd,mhtcet,mi4i,miased,miceowave,microUSP,microbilogy,microfunding,microibiology,microleak,microloading,micromaster,micromolecules,micronrobotics,micropsi,microservice,microservices,microtesla,microtips,microworkers,microxerox,midical,midnightexpressions,mifi2,migaloo,miix,milaanj,millimolars,milloniare,minance,mindathey,mindtree,minerd,minibazar,mininet,minodoxil,minuteswhst,miracally,mirrorles,mirrorlesss,mirrors100,misadministering,misantrope,misdeameanor,misgendered,mishappening,mishlinger,mishri,misprescribed,missan,missent,mitacs,mitid,mitochondia,mitshubishi,mitznefet,miui8,miyota,mkcg,mloecules,mmasturbation,mmath,mmean,mmh2o,mmmoffice,mmsystem,mnit,mnnit,mobilefun,mobiwiki,mod27,modafilin,modafinilstar,modatr,model_logistic_regression,modelagency,modelandtalentagency,modellings,moderniization,modflow,modhi,modinagar,modratr,moecule,mogadati,moghal,mogicians,mogule,mohamaatam,mohammmad,mohen,mohenjodaro,mohmmad,moistured,moivate,mokbang,mollars,momentarly,momery,monetique,moneyb,moneyworks4me,monginis,monitlais,monitormojo,monkvyasa,monocomand,monoglode,monoqi,monosaccarides,monosachharides,monosemous,monosulfide,monotopism,monsterindia,monsterusers,moocs,moojuvani,moonga,mophetil,moqups,morghulis,morguage,morjim,mornIng,morphines,mortility,mortlaity,mortya,mosambi,mosigma,motabilization,moteip,motilal,motivatonal,motoCorp,motoG,motog,motog2,motog4,motovlogging,motrocycle,mottan,motvitation,mourya,mouthshut,mouthswab,movhash,moviaxis,moviekareview,moviekorner,movietv,mp3va,mp4mania,mpdf,mpferbund,mpharmacy,mphasis,mpmc,mponline,mppsc,mpwh,mrchatronic,mrks,mrssage,msdos5,msme,msofficelivesupport,msqr,mstat,msupply,mt6753,mtek,mtruck,muApt,muapt,mudhoji,mudhra,mufft,mukhattar,mukunda,multibaggers,multicams,multiethical,multiful,multigate,multistores,multlibrand,multvitamin,mumabi,munjal,munnilaiyasaisol,murari,murmurapp,murthys,musceles,muscleblaze,mushrif,musiclly,musictheory,musigma,musixmatch,muskil,muskurahato,musterbate,musturbating,mutarotaion,mutatable,mutlicellular,mutra,mv_1,mv_2,mwir,mxnet,myADD,myIP,myMail,myOwnMother,myPassport,myRio,my_fun,mycandylove,mycraftycloset,myfirstsite,myfishcart,myfitnessPal,mygola,mylaw,myloancare,myminifactory,mymp3songs,mynampix,myntra,myopractic,myospaz,myproblem,mypromovideo,mypromovideos,myredbooks,mysocialfollowing,mysopho,mysthenu,mystore99,mystoryfan,mystri,mytacs,mytaxcafe,mytrustedwill,myunidays,myus,myvideospromo,mywedding,n204tx,n2o4,n3540,n3700,n4110,nSBI,na2o,na3po4,naac,naache,naaligai,naanum,naatkal,nacn,nacro,nadenum,nadiad,naega,nagarik,nagpal,naham,naidus,naiki,nakayamai,naksha,nalsar,name__,nametests,namnu,nandrorapid,nandyala,nanja,nannayi,nanoGALLERY,nanodegree,nanodegrees,nanophysics,nanostar,nanotechnologist,naotes,napal,narayanguda,narayna,narcissic,naron,narrsasist,nascomm,natchathiram,natestretchandmore,nathuram,natrully,nattyornot,naturebox,naturopahty,naturoveda,nauticals,navKey,navaneethan,navarathri,naveets,navigateURL,navik,navodaya,navrabeads,nawaj,nawazuddin,nazarwale,nazification,nbfcs,ncache,nda1,nearbuy,neceesary,necesaay,need2know,needkey,needmesomealonetime,neeing,neera,neerapplication,neered,neerig,neerings,neerng,neet1,neet1and353,neet2,neet2016,neeti,negan,negativeand,negativethings,negore,negotiablesales,nehwal,neoantigens,neocleuz,neoreactionaries,nepalhimalayastrekking,nerdwallet,nering,neriyathum,nerizedentov,nerl,nerring,nersborg,nessasory,nestoria,netwaiting,neucleuotid,neurodivergent,neurogaming,neuromama,neurophaphy,neurospine,neurosurgeries,neutrinoes,neutrions,neverHave,newswebsite,nexa,nexplanon,nface,nflshopjerseys,nghu,ngrok,nhMu,nhfdc,niammy,niblett,nibre,nicholass,nicmar,nictone,nieghour,nielit,niering,nigama,nightwears,nigropallidal,niico,niits,nikha,nikumbh,nimai,nimcet,nio10th,nipplegasm,nirgun,nisekoi,niser,nishany,nitches,nitd,nitian,nitians,nitie,nitk,nitroacetanilide,nitroacetaniline,nizampet,nkataa,nliu,nlu,nmch,nmims,nmmu,nmos,nna1,nnering,nngraph,nnliche,nntool,noachide,noblesdesigners,nobroker,nobzol,nodia,nodosis,noetics,nofap,nofrill,nokia105,nomenclated,nomically,nomist,nomitate,nonagons,noncanonized,nondisturbing,nonelectrolytes,nonfatigue,nonfoliated,nonmaintaing,nonreusable,nonseverance,nontech,nonviewers,nonvirgin,noopept,noramal,norerhindrone,noresource,normaaly,normcore,normway,nortonsetupcare,noskipws,nosteam,nostratic,notaphilist,notbelieve,note4g,note5,notebandi,notheast,notospy,nov16,noveles,nowmov,nowtimes,nowyoutube,npcil,nptel,npti,nrf5122,nrkt,nrutil,nseindia,nsit,nspawn,nsunda,nsurlsession,ntech,nthan,ntrico,nuceli,nuco,nudding,nueroscience,nuerosurgeon,nukari,nukeliarize,nulified,nuluxe,num2word,numasmatics,numbai,numbee,numbersa,numbertank,numbet,numourously,nurmagomedov,nursingnjob,nurtigain,nutanix,nutribullet,nutrigain,nutritionfacts,nutties,nuwanda,nvAlt,nvalues,nvectors,nvsp,nx8,nyctophobic,nykaa,nythng,oCPC,oCPM,oLoz,oPiNiOn,oagles,oaintings,obatampuherbal,oberver,oberving,obesession,obiee12c,observationist,obvliviate,ocajp,ocationally,occipetal,occuied,occupance,occupywallst,oceansize,ocery,oces,ociological,ociopath,ocjp,octacore,october2016,odacity,ode23,odja,odollam,odontolite,odoo9,ofCumulative,ofH,ofIndo,offbook,offcampusing,offcampusjobs4u,offcloud,offeronia,offmapporn,offrole,offsipiring,ofph6,ofupgrading,ogmobi,oighoijlakjglaksjglksadjglkasjglsadkglsagjsa,ointernet,okha,olaplex,olderly,olderwomendating,oliophobic,oliveboard,olympiard,omberi,ombothu,omeName,omeValue,omega_5,omega_k,omgili,omnitropic,omnolent,omoclavicular,omorashi,onazepam,onboarded,oncogen,ondoor,onecoin,onehourindexing,onelus3,onenightstand,oneplus,oneplus3,onepromocode,onesee,onfinish,onhas,onlinedataentryjob,onlinemajority,onlinersa,onlinesbi,onlymobiles,onmeter,onmogul,onown,onsitego,onsocial,onsomeone,ontwik,open2kart,openAI,openMP,openalpr,openbay,openbittorrent,openload,openme,openmy,opennlptoolkit,openopt,openxcell,opereating,opertator,ophisticated,ophthalmophobia,opical,opninon,opportunitis,opposal,opprrunities,opputunities,optIons,optimitic,optionfor,optios,optn,orBSNL,orSimplySAVE,oracleSQL,orangemaids,orangescrum,orapikka,orbot,orcall,orderyourchoice,ordiinance,oreals,orecognize,orels,orewa,orfox,organalis,organophophorous,organsiastion,organsystem,originalFilename,orignalsoft,orthoboric,orthocentre,orthofill,orthographics,ortivo,osciilloscope,osell,osmol,osmophiles,osmp3,osnt,osquery,ostioblast,ostrobogulous,oswal,otoke,otosan,otrivin,ottakring,oulmate,oump,ourncr,outdoorbillboard,outes,outfiters,outomatic,outpowers,outsets,overarated,overattachment,overchildish,overconsolidated,overloding,overpopulates,overseases,oversmart,overswitch,ovotestis,ovreseas,ownloaded,oyehappy,oyeshop,oylther,ozee,p073tx,p077TX,p1a42,p1m,p207TX,p5w,p680,pHCMC05,pKw,pShudro,paased,paasword,paatti,paav,paaying,pacharisi,pachasa,pacjage,padhai,padhopadhao,padmanabha,padmapper,pagefever,paharganj,paidnaukari,paijama,paindu,painpoints,paintmywalls,paiza,pakisthani,paladion,palasiya,paligrimage,palika,palk,pallavas,pallonji,panchakam,panderm,panheads,panjiyan,panroma,pansexuals,pantium4,pantnagar,pantodac,papasamyam,paperbooks,papernotebook,parabrahman,paradiplomacy,parajumbles,parallellogram,paralymics,paramagnet,paramaour,paramilltary,paranavigar,paranitro,paranoria,parant,paraphasia,paratism,paraverbal,pardah,parentune,paresham,parhlo,pariharam,parikshit,parivartan,parlend,parllel,parmish,parmount,parnts,parrikar,parsebank,partenering,partenrship,parthenocarpy,partipation,partitiate,partshopper,partstouched,parttion,parvas,parveeb,parwal,pasaout,passagi,passoinate,passportHbd,pastlight,pastramie,pasturised,patanamtitta,patanjalis,pataudi,patchup,patellectomy,paternities,pathalogy,pathpartner,paticipated,patiyala,patnabeats,patrachar,patreon,patriachy,patriate,patriated,patronous,pattetn,patym,paulip,paumacariyam,paurnamasa,pavlok,pavri,payTm,paydivvy,payfac,payflow,paynhire,paytm,payumoney,paywave,pc3l,pcDuino,pcmb,pcmc,pcme,pcod,pcsj,pdfdrive,pdpu,peachmode,peanis,pecentile,pedastols,pedestor,pedestrianising,pedophille,pedophillish,peeka,peekabo,pehlgam,pekak,pelvicalyceal,pemdulum,penins,peninsulares,peniwt,penninsual,pensin,pentachromat,pentadactyl,pentakills,pentanone,pentasulphide,pentatonix,pentinum,peofessional,peophet,peopleclick,peopleware,peparing,pepperfry,pepsodent,peptidisin,peradox,percantile,percenatge,percentiler,percentilers,percivable,perdictive,perfecfly,performancs,pericoronal,perigon,perisarc,perisomatic,permagnate,permantley,permiculite,perminutefor45,permises,permnantly,pernex,perosonal,perrhenate,persantage,persecond,personalitty,pervitin,pesit,pessat,pestachio,pesu,peterbourgh,pethas,petl,petrola,petrolling,petrotech,peyarecham,pgdbf,pgdem,pgdfa,pgdie,pgpx,phab,phabplus,phabricator,phalasruti,phaltan,pharmD,pharmaceuitical,pharmacistical,pharmacy2home,pharmavigilance,phasetest,phenique,phenotoin,phicomm,philipin,philophobia,philosopgy,phisicaly,phoenitics,phone2leads,phonoe,phoritto,phormictopus,phosphoester,phosphorene,photoShop,photocontamination,photocop,photographyy,photogtaphs,photosybthesis,phototropin,photovoltic,phsychiatrist,phycitrist,phycrophiles,phycrotroph,phyicists,phylosopher,phyotherapy,physchic,physcologists,physgun,physiacytrist,physian,physicalled,physicits,physicsts,phython,phytot,phytotropin,pi4,pi6,picaroworld,pichai,picsart,picthure,pigmentosus,pikki,pimporn,pinapansin,pinary,pinegap,pinshoppr,pip3,pipedrive,piperlongumine,piramal,pirateering,pirme,pisqautaqua,pitampura,pitchdeck,pitweiler,pixabay,pixate,pixelblock,pixeom,pixxed,pizoelectric,pizzagate,pkpass,pkx,plabs,placament,placememnt,placemens,placments,plaement,planeret,plannIng,planningpoker,plantera,plastoglobules,platella,platellae,platfoms,plazmatio,plcd,plcr,pleAse,pleasesuggest,pleatue,pletelets,pleven,pliot,plitics,ploitical,plotly,plugpoint,plutino,pmch,pmec,pmjdy,pmkvy,pml4e,pmos,pneumoni,pnuematics,pocso,podah,poddar,podhinilae,poductivity,pogchamp,poikilotherms,pointclicktailor,pointerpointer,poisont,poission,pokecoin,pokecoins,pokedates,pokegym,pokemkon,pokemongo,pokestop,pokestops,polae,polarisability,poleaxes,polgyny,policyadvisor,polindrome,polkacafe,polyamorously,polyamorphism,polyarmory,polyergy,polyfuse,polygenes,polygots,polyhalite,polyhouse,polymetrics,polymixin,polymorpism,polyone,polypack,polypacks,polysynths,polytecnic,polytics,pomegrenate,pompmall,pondicheery,ponorgraphic,poojary,poonul,popcorntime,popperism,popperrism,popsticks,popurl,porntunel,pornwords,portblair,portea,portruding,poruing,possasive,possibilism,possiblism,possobility,postcolonialists,postgradutate,postimage,postmates,postmoney,postnup,postpositives,posttoself,posttussive,potassiumcyanidecarecenter,potasssium,potenuse,poteras,pothys,potometer,pouranic,pourette,pourse,powerBI,powerPoint,powerbackup,powerdiode,powerhorse,powernaps,powerparts,powerprep,powress,pparameter,ppdt,pppppppppppppppppppppppppppppppppppppppppppppppppppp,pqrst,pqwl,practo,pragnya,pragramming,pramote,pramotion,pranc,pransa,prapare,praposed,prasadams,prasth,praticable,pravite,prayam,prblms,prdcts,preboards,precaval,preclimax,predesh,preferial,prefessor,preganent,preganews,prelimns,prelingual,premapped,premaritally,prenote,preoartion,preparetion,prepartory,preperty,prerequites,presendial,presentive,pressario,pressery,presstitudes,prestess,prestitute,preziosa,prgrmmng,pricehyd,priceworthy,prikritie,primarykey,prime3s,primewire,printerest,prisamatic,privatewriting,priveiew,priviousyrs,proadvisor,probabity,probiotically,probltm,probrlem,procapil,procentual,processto,procurenent,procus,prod2016,prodapt,prodcue,producedst,productioj,professionalinternetpersonality,professionls,professorials,profilejobs,profilizer,profitables,profounding,proggiest,programmnig,prokerala,promposal,propan,propan1ol,propangada,propasal,properely,properitor,propertiership,propertyking,propgation,propogaanja,propotinal,proseccos,prosis,prosopamnesia,prosseces,prostatomegaly,protabol,protegent,proteinx,proterty,protestng,prothalomian,protienex,protienx,protima,protineX,protinex,protisits,protocentral,protochordates,protonmail,protoscience,prototxt,protous,protozoo,protuguese,provenanced,provocativenessof,provode,proxifeir,proximodistal,pruthi,prvcy,pschylogy,pset4,pseudoAryan,pseudodementia,pseudoforce,pseudointellectuals,pseudopaida,pseudotannins,psiog,psiphon,psiphone,psom,pssed,pssesive,pssword,psuedaphedrine,psychatist,psychitrist,psychography,psychologiclly,psycholology,psychpaths,psycosis,psylocibin,pu1,pubfact,publIc,puche,pullela,pulseIn,pulzz,punchnama,punchti,punfound,puppysketch,pur5u1t,purchasea,pureit,purhases,purious,pushalive,pushkaralu,putanginamo,puush,puzhungal,pvm7pro,pwaning,pyGoogle,pychopath,pypoplasia,pyraboric,pyroligneous,pyschopaths,pyspark,python2x,pyxll,q1010i,q1011,q157,q158,q350,q372,q73,q_serif,qainfotech,qaqc,qasid,qatar2022,qater,qatsi,qfter,qingding,qiymat,qliksense,qmet,qork,qorma,qoura,qpolitical,qsv,qtion,quaantitative,quadible,quadraticly,quadravalent,quadricyle,quadrillionaire,quadripeds,quadrocoptors,qualifcatn,quamquam,quandoo,quantatative,quantitaive,quantopian,quantz,quara,quared,quarelled,quaro,quasiperfect,queefe,quenchant,quesstionarres,questionbrain,questionsgiven,quetro,queur,quickblox,quidquid,quiku,quiray,quitina,quizup,quor,quorans,quorian,quoro,quotev,quratos,qzss,r2dee2,raadha,rabbitMQ,racetams,racoontown,radiotelescopes,raduation,radyance,raedon,raees,rafdeal,raffeo,ragister,rahstra,railwire,raineyday,rajagiri,rajahmundry,rajaji,rajajinagar,rajamahendravaram,rajivsheth,rajsree,rakshabandhan,rakshas,rakti,ralations,ralways,ramaih,ramapuram,ramayanam,rameshwar,rameshwaram,ramgaraj,rampukar,randomForest,randomforest,rangbhoomi,rangeless,rangevof,rankability,rankwise,raoed,raphons,rapo,rarting,rasagullah,rashtriya,rasoi,rastashark,rastrakuta,ratanjot,ratemyprofessor,ratemyprofessors,rathidecor,rattleback,ravula,rawnuts,raxors,rayati,raymarching,razorhead,rbI,rbse,rc200,rcp3,rdec,reCAPTCHAs,reacharge,reachex,reactJS,readimade,reado,readsome,realD,realating,realex,realince,realinfojobs,realsexism,realtykart,realvision,reappeal,reapper,reapplIed,reaserchs,reasignment,reasked,reasking,rebins,rebrandings,rebutton,recarnation,receuitment,reciple,reckitt,recognizible,recollapse,recombobulate,recommendetion,reconcillation,reconigze,recreationalist,recruitment2016,rectpuls,rectruiting,recuirt,recyify,rederive,redesigners,redfruit,redimi,redmee,redmi,redmii,redrightrepublic,reduceable,redundable,redyance,reeasons,reeboting,reeload,refelectory,referhire,reflectIve,reflectionless,refrigrant,regesiter,registration_ids,registrion,regmine,regrert,regulum,regurding,reimann,reinforcent,rejectIon,rejectedmy,reklamasi,relatiosnhip,relatshionship,relefe,relesead,religional,relpacing,relugiously,remaxys,remberg,rememberall,remitguru,remlved,removee,renderToStaticMarkup,renderToString,rendil,rene957,renine,renounded,renteazy,repeatation,repetation,repinding,repitative,repleceability,reportbrain,repulic,repulser,requirea,requirenet,requistes,requitrments,resIgn,resercher,residdence,residentadvisor,residentship,resiprocating,resperation,resporation,restaurantbosses,restitutive,resulty,retaired,retalk,retention_time,reticulums,returnwealth,reuirements,reunificaton,reveanue,revesion,review42,reviewmycdr,revokeoffer,revoltpress,revolutiob,revolutuion,rewari,rewrit,rezult,rged,rgipt,rgpv,rhcsa,rheopectic,rheostatic,rhomobile,riboses,ricecooker,richarddawkins,rickselevationafter45,rienforced,rigved,rivian,rjpowell,rksv,rlfriend,rlgn,rlitz,rmedies,rness,rnkd,roadrunnr,robbry,roboadvisors,robocar,robocon,rocketless,rohingya,rojgar,rolezinhos,rolify,rollwala,romanticaly,romedy,rommmates,roomwhats,root3,rootmy,rootscope,roposo,roronoa,rotatum,rotodynamic,routor,roxycodone,royapettah,rquires,rrdonelly,rrrewind,rs1000,rs25000,rs4000,rs500,rs60000,rs7,rs8,rshavn,ruPay,rubeus,ruchenyusen,rudly,rudras,ruestions,rufused,rukmini,rumali,rumm,runningout,rupani,ruparel,rupeeinbox,rupeess,rupess,ruppee,ruppes,rushmypassport,rustom,rvce,rvest,rvities,rvnl,ryotwari,rzea,rzeppa,s101tu,s103tx,s2e3,s5282,s5e8,s660,s7edge,sInce,sItes,sUyJVM,sa2class,saajana,saavn,sabarimala,sabiqunal,sabotted,sabyasachi,sachins,sadaka,sadiron,safal,safelisted,safemail,saffola,sahajanandindustries,sahibag,sahivalue,saiyyan,sajakah,sakaldiwipi,salaman,salamano,salaryof,salected,salefee,salesforcce,salvius,salycylic,samajwwadi,samayal,sambrani,samcat,samgung,sammydress,sampradhaayam,samundar,samvadi,samvant,samvat,samwhich,sanchita0306,sandard,sanddornbalance,sangati,sangheli,sanjeevni,sankhedi,sanksrit,sanskari,sanskars,sansodisidavanu,santoshsavakar,sanyaas,sanyal,sanyogita,sapiosexual,sappoting,sapui5,sarak,saraswat,sarfaesi,sargeathletics,sarif,sarojini,sarrainodu,sarre,sarsobiz,sartaline,sarvangaasana,sarvepelli,sasemira,sasikala,satelight,satelttite,sathakam,satiricial,satirization,satisfacation,satisfide,satishfied,satkne,satyaniketan,satyarth,savefrom,savemyass,savemyuncle,saverin,sawaro,saxicola,sayba,sayhi,sbbj,scabicides,scalr,scamadviser,scamadvisor,scanset,scapetovacations,scenecent,sceneria,schapo,scheldule,schemetic,scheweser,schizocarpic,schizoids,schizophrenial,schlling,schmatic,scholardhip,scholarshipexperts,scholarsip,schoolpaper,schorlarships,schrodinges,schwekendiek,science19,scienceengineering,scientifacally,scientisits,scikit,scind,scinentist,scocialism,scoopwhoop,scootry,screenedrenters,scribblemaps,scripbox,scriptsize,scsm,scuderi,seacodings,seadas,sealioning,seats1,seawifs,sec128,sec2a,secenerio,secondvendor,secration,sectumsempra,secure1st,securifi,seeapornmovie,seedinfotech,seedo,seedrs,seekforfunds,seemai,segreat,seijurou,selectionprocedure,selendroid,selenology,selfharmers,selfman,selfstudy,sellenium,sellibyclecles,sellmyapp,semenal,semiovale,senctioned,sendgrind,sendig,sendmoney24,sendmybag,sendorfer,sensen,sensilization,senson,sentellas,senthamil,sentiment140,sentment,sepecific,sequare,serieusly,serpo,sertalline,sertifikat,serveUss,servicenow,servicerpc,servosystem,sessionals,sessionstorage,sethupathi,settlebankdebt,settopbox,setuped,sevelopment,sexstorian,sexualityacceptable,sfotwar,sftudents,sggstd,sgpa,shaanig,shabbeehf1,shacket,shadhanand,shahani,shaitans,shambhu,shanfa,shapoorji,sharbati,share786,shareae,sharedtalk,sharelatex,shareslide,sharetally,sharetrading,sharklasers,sharmas,shate,shating,shatri,shattergate,shayaries,shekhina,shepeshef,shesaidbeauty,sheshardripuram,shibpur,shifuji,shikh,shimatta,shirpur,shishou,shishu,shistosoma,shiuld,shivaay,shivagange,shkreli,shlemeil,shlimazl,shmee150,shoefitr,shoethere,shoku,shoolini,shop2cash,shophealthy,shopmitr,shopping2cart,shopware,shoroom,shortrun,shouf,shouldIdo,shourie,shouttoday,showIng,showflipper,shreem,shrutika,shskarvals,shubhra,shubz,shudhajatagam,shva,shyish,siachen,sibings,sibm,sickular,siddantha,siddhu,sidechick,sidedly,siesmologist,sifa,sifilis,sigaltstack,sightness,siginficance,significans,sigpending,sikkimese,sikuli,siliconvalley,sim808,simarjit,simcash,simics,similirities,simplebloodsugarfix,simplenote,simplyeyeglasses,simplylearn,simplymarry,simplyuniquestyle,simsree,simulatable,simuntaneously,sin18,sin190,sin22,sin30,sin5,sin7a,sin81,sin90,sinA,singaore,singapoure,singularitis,sinhagad,sinhna,sinial,sininging,sirenlike,sirotiya,sirsi,siruvarmalar,sisha,sistes,sitagliptine,sitcore,sitemap_en,sitemap_fr,sitemap_index,sitesmatrix,sititation,situatiation,siumai,siwes,sixdollarclick,sizmek,sjtu,skagoots,skidrowreloaded,skillrack,skinnybodycare,skinpp,skintags,skinventory,skipable,sklearn,skopos,skurfing,sky3ds,skycrapper,skylake,skyligth,slIde,slacing,sldkjfsd,slenderMan,slicepay,slienced,slipguage,slovania,smackering,smartasset,smartband,smartbird,smartestdon,smartpipesolutions,smartstream,smartv,smartvalu,smashtechs,smashword,smatphones,smelfies,smicker,smilefoundationindia,smmci,smmtraffic,smogons,smsgps,smude,smwhere,snapc,snapchats,snapchchat,snapdel,snapmobl,snapscore,snapstory,snapstreak,snapstreaks,snowfoxcr,snowzilla,snuglite,snusat,socIal,social2search,socialblood,socialchaal,socialgraph,sociallism,socialmediaexaminer,socialtrade,socl2,soclose,soden,sofawale,softbricked,softmax,softpub,sohum,soilids,sokrat,solivar,sololearn,solopreneures,solutiontalk,solvemedia,solverminds,somaiya,somebodyyy,somelses,somenames,someoneguide,someplacesomewhere,somethIng,somva,somvar,sonatur,sonepat,sonipat,soonfor,soori,sopmore,sorgel,soriosis,sorrouding,sosin,soudi,soundMAGIC,soundacious,soundmagic,soupless,sourashtra,sourashtrians,sourcerer,southasian,soved,sowisely,spaceX,spacemarket,spaghettification,spartania,spatik,spavista,spcfc,spearsman,specIfIc,specialdeals,specificatons,spectables,speridian,sphagitis,sphyngomanometer,spicel,spiceorder,spidercam,spiliting,spillatore,spipa,spirolactone,spoj,spondilytis,sponsorchat,sportamanship,sportsdear,sportsstsr,spproxy,springdata,springdrive,sprinklr,sprinrt,spure,sqdpcme,squareoff,squareyards,squawka,squueze,srgry,srikrishnadevaraya,srinivazon,sriniwas,srmJEE,srpk,srtfi,srve,ssadl,ssbf,sscportal,ssles,sssc,stairbuilder,stairbuilders,stairhead,stakeholdership,stalkees,standex,stanfy,staqu,starmusiq,starshina,starsports,starthq,startupNow,startupnation,starups,statent,statergy,statiscs,statista,statistian,statolatry,statrtin,stayzilla,stdnt,stdnts,stdole32,stdxii,steemit,steinhauer,stepsibling,steptophyta,sterength,sterion,sterlise,sterotyphy,stessful,sthai,stickybits,stiklal,stiphen,stockstotrade,stomatas,stomuch,stonerindia,stopocock,storeguide,stottler,stqc,straIn,stracture,stragetigic,straightending,strainbrain,strangewarning,strans,strarving,strattalk,stratup,streameye,strechmarks,streimels,streseed,stripout,strolly,strucrure,structrural,structuraly,stshop,sttatus,stteled,studeing,studence,studentlist,studentsto,studient,studiup,studyIng,studycentres,studyiing,stueldent,stuffhole,stugots,stunninglyer,stupuit,stuterring,stutes,styIish,styawati,styleforum,su16,sualin,subcentimeter,subconsciouse,subdealers,subendometrial,subgi,subjectwise,sublumation,submarsible,subminals,subquantic,subscriptionproduct,subsects,subsurfaces,subtills,subtiltles,successfcators,suceded,sudershana,sugaer,sugamsauda,sugarboy,sugarmill,suggstion,sukimasuki,sulfhemoglobinemia,sulfurc,sultamethoxazole,sultanpur,sum_,sumbited,sumeru,summariz,summly,sunburn10,sundals,sundarban,sunfeast,sungheung,sunmica,sunrock,suntek,suntime,sunyit,super30,superbcrew,supercompany,superconnector,supercook,superforecasters,superglues,supermatket,supermoons,supernetting,superover,superpay,superpharmameds,superprof,superscore,supersoild,superspeciality,superspecialty,supersu,suplementry,supplementry,supplled,supportedin,supposadly,suprimum,supriyaxsingh,suraksha,surathkal,surejel,surfcanyon,surfce,surperminis,surprsie,surrive,surstr,suryashtakam,sushirrito,sushirritorito,sussessful,sutd,suveys,suvidha,suvidya,suzlon,sv_lan,svaldbard,svnit,svt14126cxs,swacch,swach,swebbo,sweetlegs,swets,swipebuster,swisscoatt,switchuser,swtor2credits,swyamsevak,syallbus,syllablus,syllabusdesk,symmap,symmetricity,synchondrosis,syncronaised,syngene,syntaxnet,syntel,syseble,systemaccounting,systematicly,systemc,t150a,t200a,t250si,t430,t8775a1009,tACS,tRUMP,t_2g,taalam,taanam,taane,taash,tabeviewer,tachnology,tadapna,taharrush,takek,takesurveysforcash,takhts,takinng,takumar,talati,talenthouse,talkspace,tallentex,tamakam,tamilmovierockers,tamilrockers,tamoor,tamperable,tan20,tan40,tan60,tan80,tanhx,tankoscope,tanla,tapinfluence,tapitoo,tapmi,taquero,taramani,tarrgeted,tarteist,tasajo,tashkeel,tashreef,taskrabbit,tasls,tathanak,tatipaka,taurin,tautomerization,taxibot,taycation,tbeory,tbook,tc1g,tchnology,tckt,tcookieid,teachmenow,teamapart,teamas,teamkiller,teasoning,techEEE,techinfoworld,techmahindra,techmalia,technicallly,technicalsupport,technoglogy,technozion,techologys,techyuga,tecna,teczine,teeevo,teenger,teepeeing,teertha,teespring,teespy,teewe,telationship,telebroadcast,telecomtube,telegrame,teleiophile,teleomere,telexfree,telier,tellar,temboo,tempPath,temporarlily,temprture,tenderisation,tendoniti,tennanite,tennantite,tenseigan,tensorflow,terisis,terreria,terretorial,terrex,terrirorial,testabliss,testbook,testmysite,testostreone,testsys,testtakers,testudine,tethyan,tetraaminocopper,tetraboric,tetrachlorodibenzo,tetrachromat,tetrapack,tetraphosphorous,tetraphosphorus,teubingen,teuria,tevitalianstyle,texila,textFieldShouldClear,textbooknova,tfhe,th10,th11,th8,th9,thIrd,thaachi,thaachuko,thadomal,thaelessimia,thaelsemia,thaika,thanaka,thanatophobia,thangameengal,thankzzz,thanoo,thanthi,the1stmovement,theFirehoseProject,theMeaning,theOddOne,thebetafamily,thebetterindia,thechive,thecools,thedartmouth,thedcdesigns,thedeepest,thedieline,thefoundation,thefunded,thefwa,thegreatcourses,theidealmeal,theintercept,theitheaven,thelabor,thelearningpoint,theoratical,theoreme,theorims,theprocedure,thereTell,thereforeindia,thereptileclassifieds,theriuma,thermoflask,therodynamics,thesaurusus,theta0,thetaL,thetaU,thetmometer,thetoptens,thevouter,thewebsitebaba,thickshake,thinkingto,thinkvidya,thinkwithgoogle,thiocyanide,thisiswhyimbroke,thrombo,throwaround,thumbatthu,thunderquote,thundershock,thwglobal,thymines,tibilis,ticketmeout,tidyverse,tienannita,tieouts,tifr,tigermoms,tillich,tiltrotors,timaeus,timepassing,times462,timesjob,timesjobs,timesnow,timespro,timestimes,timetoload,tinsukia,tintu,tinyletter,tipsnfix,tjori,tkdiff,tkink,tmisat,tms320c6713,to7pm,to9999,tochopherol,tocky,todefence,todoist,togloomy,togruta,tohla,toip,tokyoxvanitys,tolani,tolike,toluna,tomade,tomesetto,toogit,toolbarimages,toothist,top7,topcoder,topest,topper2016,topperlearning,topwear,torjan,torock,torqouise,torrentz2,tortional,totka,touchbar,toured1,tournez,tovibez,towaards,tqwl,traceabiliity,trackimei,tradeadexchange,tradeaway,tradebusiness,tradeo,tradingeconomics,tradtnl,traicionar,trainne,tranformee,trangenders,tranistor,transabled,transbian,transcribeme,transfarmer,transferwise,transfluid,transmediatically,transmissin,transpirational,transplantion,transportmantra,transtplant,tranversal,tratak,travelblogging,traveln,travelxp,travencore,trearment,treeviewer,trekkable,trematoda,trendhunter,trennbaren,tretin,trgt,trialkylborane,tribromoacetic,trichlorophenol,trichologists,tricks4me,trilaning,trilectic,triloca,trimetric,trinke,trinkst,tripadvisior,triphenylmethyl,tripitaka,triplicane,tripoles,triprotic,tritransitive,triumeq,trning,trousseaus,truebass,truecaller,truecarpool,truedesk,truewhile,trugolf,trusorer,trustedinstaller,trustedproxies,trustlessness,truthism,truththeory,tsardom,tsiranapox,tspsc,tterlinschrift,ttha,ttrr,ttspor,tubeblaster,tubemate,tudying,tukde,tumblrplug,tumri,tundi,tunefind,tuping,turbidty,turbohaler,turboviraltraffic,turcite,turnedinto,turtler,tutior,tutor2student,tutorialslot,tutoruniverse,tuxcut,tuztas,tvfplay,tvtorrents,tw4t,twed,twerkers,twinparadox,twrds,twuntu,tymk,typeADD,typea,typeor,typeracer,uDUI,uIU,uSed,u_p_c,ubcontinent,uberEATS,uberPool,uberSUV,ubereats,ubside,ubsisten,ubuntu14,uceed,ucms,udacity,uddmy,udemy,udemydownloader,udeniya,udrs,udta,ufficiently,ugaadhi,ugain,uglifyjs,uhcl,uheng,ui5,ukhand,ukhasana,ukvi,ulhasnagar,ulwe,umblock,ummarizing,umobile,umplings,unacademy,unaccademy,unadd,unarrived,unblurring,unbold,unbounce,unbrickable,uncatalysed,uncher,unchip,unclonable,uncollapse,undeegraduate,undeprevilledged,under50,undergraduation,undergrounded,underoing,underroot,understrand,undertale,undeterminably,undetstand,undhiyu,undied,undregradute,unenroll,unet,unetical,unfactored,unfile,unfolllowed,ungy,unhack,unicupsy,unifunds,uniquetravel,uniqui,unisim,unistd,unitobject,unittest_results,universirty,universiry,universitiat,univerty,unknowledgeability,unknowngly,unkonwm,unlearnable,unlethal,unlinke,unmateralistic,unnotified,unpainful,unpastuerized,unphonetic,unpop,unpreferred,unprivate,unproportionate,unreport,unreveak,unroute,unseccessful,unseperate,unshrink,unsort,unspiked,unsplash,unspreadable,unstalling,untags,untearable,unthan,untieourhands,untilsignout,untime,untouchbility,unvigintillion,unvrsity,unvsty,unwaiveringly,unwanted72,unwrinkle,uora,uotside,upaay,upcmet,updateByPrimaryKey,updrade,uperpower,upervised,upes,upfrnt,upjers,uplikes,uppcl,uppercaste,uppercastes,upsclive,upsee,upvoter,upwork,uranic,urasanai,urbanclap,urbanladder,urbanpro,urgals,urjit,uruli,urvived,usIng,usblyrics,usceptible,usd100k,usediull,usekit,userfarm,userflows,usertesting,usingSennheiser,usinig,usisng,usmele,usoclient,uspended,uspharmacy24,ustainability,usuries,uterian,utts,utual,utualito,utuber,uuth,ux306ua,v143,v149,v1max,vCPM,vILT,vIdeos,vIsa,vLance,vTSI,vaacum,vacasations,vacatn,vachi,vadanti,vadapalani,vahan,vaijanti,vajiram,vajirams,vajrasan,vakilsearch,valak,valerat,valkiere,valleyspeak,valonqar,valuecart,valut,valyrian,vandermeulen,vanguardsmoke,vantablack,vapourisation,vapourises,varakh,varansi,vardah,vargin,variaton,varifing,varsh,varvy,vasanai,vasthane,vastru,vasuda,vasundhara,vatregistration,vatsa,vattalappam,vavou,vaxxers,vdhl,veccing,vechiluar,vedalam,vedantu,vedicsoft,veedja,veerabrahmaiha,veerangana,vegrtable,vehiclles,vejk,veniversum,venmo,venturimeter,venuzeula,veooz,verbrato,verdiensten,verfify,vericocele,verififcation,veritaserum,vermiphobia,vernance,vertebrated,vesit,vesrsion,vestoma,vetereans,vgp19v36,vhora,viabrate,vichitra,videis,videocore2duo,videograbby,vidhan,vidiocall,vidyamandir,vidyapeth,vigilantcitizen,vigyan,vijayanagar,vijayanagara,vijaynagar,vikatan,vikrit,viluvalu,violances,vipassna,vipra,viraldisk,viralmost,viricide,vishakapatnam,vishakapatnum,vishwanathan,visualgo,vitarra,vivaha,vizianagaram,vjim,vjti,vlane,vlsm,vmatrix,vmmc,vmnet,vndrs,vnsa,voLTE,vocaless,vocalics,vocaroo,voiceferous,volcanicity,voldmart,voltemeter,voltric,vomitings,vonmises,voot,votercard,voyurl,vpsn,vrischika,vsauce3,vt20,vt30,vtop,vtuplanet,vvison,vxf,vyuhas,w3school,w800d,w830,waIt,wabco,wagah,wagholi,wahlin,wahtsapp,wairauite,waitforcert,wakad,wakhra,wallapop,wallwt,walthpire,wanhao,wanobe,wardha,warlife,warly,warrenharper28,washio,wasseypur,watchcount,watchos,watchpeopledie,watney,wattsapp,wavii,wayangforce,wayb,waymakes,wbJEE,wbcs,wbcssc,wbjeem,wbpsc,wbut,wdin,weaponolgy,wearhop,webRTC,webassign,webdevloping,webdynpro,webmention,webnexs,webpack,webscrap,webscrapping,websoftex,webssite,webstudy,webuy,wefiapp,wefixmoney,weighlifiting,weightt,weiight,welingkar,wellingkar,wenyanwen,wepay,westbengal,wetdog,wgwag,whaff,whalebait,whastup,whatapp,whatapps,whatches,whatisthe99,whatsApp,whatsaap,whatsapps,whatsdog,whatspp,whatssap,whatssup,whattsapp,whave,whean,whemn,wheregoes,wheystar,whipsong,whiskeymilitia,whiteoats,whitetruffle,whohub,wholekorea,whormhole,whoscored,whovisited,whquestion,whtsapp,whtsdog,wickr,widal,wifipassword,wifislax,wikiasked,wikibuy,wildtree,willfong,willthis,wilp,wind8,window10,windows10,windows10pro,winkaler,winkes,wintelweb,winyter,wiprow,wirelesscommunication,wiresshark,wistia,witchTextOn,with1bhk,with320,withADD,withADHD,within2,withstant,witjout,witwew,wizardchan,wizzit,wlci,wn725n,wockhardt,woje,wolowitz,womenRequal,wonderlandads,wooplr,wooroll,word2vec,worisome,workIng,workaway,workex,worrking,worthfull,worthytojoin,wothy,wouldm,wowchat,wowecoin,woxsen,wr740n,wrightia,writetous,writometer,wrongplanet,wtiter,wtso,wtsof,wuerzburg,wuhuakeshuo,wunderkit,wurtz,wwiiveterans,wynk,wyong,x19year,x265,x299,x55l,x83c,xCHM,xNTJs,xamarin,xbeard,xceligent,xcoins,xdating,xdman,xender,xerophiles,ximb,xime,xioamidevices,xiomi,xlri,xmlrunner,xmodgames,xmovies8,xontrolled,xsandy,xsin,xsinx,xslx,xt830c,xtab,xtape,xtrade,xtz125,xuv500,xx149d,xxxyyyzzz,xye,y14,y16,y2mate,y3144,y50,yaazha,yaazhai,yadong,yahaya,yahooID,yajurved,yakhni,yakshini,yamam,yamane,yammas,yanbing,yande,yappiest,yashpal,yasminzy,yathra,ycophantic,ydse,yearers,yearhow,yearite,yepme,yerwada,yeshi,yeshwanthpur,yeshwantpur,yeshyip,yesmovies,yeungzhau,yfollowing,ygeia3,yiest,yiking,yirongfu,ylogy,ymbolism,ymdb,ynonym,yocoin,yodlee,yogies,yojna,yomimasu,yomiuri,yongnuo,yooungsters,yoscv,yoshop,yottaflop,yourcareer,yourdost,yousician,youthforindia,youthfunda,yringe,ystok,yuddh,yudhishthira,yuniqe,yuphoria,yureka,z3560,z820,z97,zPosition,zachia,zapd,zarfund,zawar,zdravstvuyte,ze550ml,ze551ml,zemansky,zenfone,zenfone2,zenmap,zenphone,zepo,zeroMQ,zerocensorship,zerodha,ziaur,ziffi,zigma,ziosk,zipautomobile,zitterbewegung,zodcaps,zomato,zonbie,zoologic,zoomand,zpaq,zunt,zwak,zwakke,zycus,zygotene,zyropathy,,’,,«Вероятность,­,²°,²θ,²−,³¹,³√,ºДºщ,½°,½í±,â,âºí,ää,çã,í‘,ė,ĩ,ň,Śā,şı,ƫҿϞɮ☉,ǎ,ǐ,ǔ,ț,ɐŧ,ɖ∀ཡز∂,ɜ,ɽφʉʛƕ,ʾ,ΙΧΣ,Μαυρώνης,Ξ,Π,Ρ,γεροκρονόληρος,εἶμεν,π°,παράκλητος,π−,χ,χαντρα,ψ,ϵ,Але́хин,Алекса́ндр,Алекса́ндрович,Гиркинюгенд,Доктор,Кандидат,Наук,Спасибо,благодаря,взрывоопасного,военного,годноты,да,здравствуйте,конечно,необыкновенно,нет,ожесточенное,пиздеч,потенциально,противостояния»,рученюсенька,сот,столкновение,фантастюсенькая,אייס,בריר,יְהוֹיָקִים,מכונת,קפה,שדה,أبهى,أي,إن,اخ,اخي,اذا,استشفر,استغفر,اشعر,افعل,الأملح”,الرضى,الشباب,العصر,العظيم,الله,امتحان,ان,ايشبو,ايع,باقر,بالسعادة,بیا,تشكيل,ج,خلوة,خواهش,رؤؤؤؤؤؤؤؤؤؤعة,ز,زب,س,سبحانه,سعيد,سنة,سوسيس؟,ص,عايز,علي,عمران‎‎,عندما,عيد,لجنة,لسينيغاثقادواظا,لكي,للمـرء,ماذا,مـفـسـدة,مفسدة,مولد,مين,میکنم,نام,نمت,هامبورجر,و,والـجـدة,والفـراغ,ورسان,وصیت,يعني,अंत्योदय,अग्रवाल,अनुशासन,अपने,आंकड़ा,आएगा,आत्माअभिमानी,आपने,आवश्यकता,इन,इसका,उस,उसपर,ऋभवः,एक,एकता,ऐसा,ऐहंकार,औरत,करते,का,कामरागविवर्जितम्,काय,किया,कीजिए,कोई,क्लैब्यं,खाली,गा,गाजर,गीत,च्,जगह,जवाब,जाता,जिस,जीवन,जो,तक,ती,तो,थी,दिखाई,दिखाना,दिन,दिवाली,दीवाली,दुखृन्करणे,दुष्प्राप्य,दूर,देती,दो,धर्मकोटी,नाम,निश्चित,नींव,नीचा,पर,परदा,परमांगतिं,परिचर्यात्मकम्,पशुगमन,पाँच,पूर्ण,प्र,प्रगट,प्रतिवेदन,प्रविशेषण,प्रसंग,फाँसी,बेदबी,बेहराल,बैठकर,बड़ा,भरो,भाऊ,भ्रमण,मत्परः,माथा,मानेंगे,मावस,में,या,योग,रही,रामः,राष्ट्रीय,रिक्त,लंडूरे,लिखिए,लड़की,वर्णन,वह,वात,वासिष्ठ,विषीदन्तमिद,शंन,शब्द,शब्दों,शेर,सद्ध्या,समवेताः,समुपस्थितम्,सहजं,सहस,सहिष्णुता,सिंह,सुकृतः,सुहस्ताः,से,स्थान,स्वभावजम्,हटा,हलवा,ही,है,है।,हो,ह्,ॐ,फ़जेती,३६,জ্যাড্যাপহ,সহনাতিত,ਬੱਬਰ,ਸ਼ੇਰ,କିରି,ଧାଇଁ,அனுதாபங்கள்,அனைவருக்கும்,ஆ,ஆத்தாடி,ஆழ்ந்த,இங்கு,இல்லாத,இல்லாமை,எல்லாமும்,எல்லோரும்,காத்தாட,கோ,சார்ந்தோர்,ண,தமிழ்,ந,நிலை,ன,பாவாடை,பெறவேண்டும்,முன்னிலையசைச்சொல்,யாழ,ர,ற,ல,ள,ழ,வெற்றி,வேண்டும்,అరవం,ణ,న,మూజువాణి,ಗೂಟ,ತತ್ಸಮ,ತದ್ಭವ,ಬಗಣಿ,ಮಾರುಕಟ್ಟೆ,ಮಾರುಕಟ್ಟೆ”,ജസ്റ്റിസ്,ടധോഏഛ,മൺചിരാത്‌,ตแล้วกัน,ทวิชา,ทองอาถรรพ์,บ่วงวิมาลา,บ่วงสไบ,รางรักพรางใจ,สาปสังคีต,หมุนเวลาตาย,หลงกลิ่นจันทร์,เรือนเวลา,แรงรักไฟมาร,โซ่เวรี,ไฟน้ำค้าง,ไฟรักไฟพยาบาท,ไฟสิ้นเชื้อ,ដែរ,ផង,ḵ,ṛ,ṭ,ệ,ị,ộ,ữ,ἐμβαίνομεν,​,​​,‎,‎₹,‏,‑,‘भेदभाव’,‘தமிழ்’,‘നേർകാഴ്ച്ചകൾ’,‘‘”,‘’,“±”,“ذليل”,“श्चश्चश्च”,“…,“不知天高地厚”,“吃香喝辣”,“天人”,“如果不靠欺骗自己，还能靠什么支撑自己走下去”,“星野拍摄”,“有钱就是任性,“杂”,“毕竟”,“用中文的話,“脑子进水”,“脑袋抽筋”,“膜”,“超市想诱导你购买不需要的东西”,“逢二进一”,“高级黑”,“북쪽앟관자키”,”السيف,”内脏,••,…”,……,…………,‪,‬,⁠⁠⁠,⁡,⁡〖,₹,ℝ²,→∞,−−,∓,∖,√√√√,∧¬,∨∀,≜,⌉−,⏰,♎️,⚪,⚪⚪⚪,➰,⺈,「勿忘初心」,「智子は直子に頼んでほしいといっています」,「气质」,〖,〗,〽,あいそうがいい,あんた、何やってんの？,が,このたびはご愁傷さまでございます,さあひる,し,ず,それでもまだ,たら,づ,とくとくポイント,どの,どのくらい,なんだよ、こいつは。,のか,のだ,ば,ふ,まな,もう一度うそをついたら、あなたの首をもらう…以上。,もったいないです。,を,んだ,シ,フ,ㅋ,ㅐㅌㄴㄴㅇ,㎡,一不做二不休,一是一，二是二,一百回,丁冉,三本大学,不了了之,不允许持卡人进行的交易,不太好,不好意思,不小心碰到别人,与人方便,与己方便,专科,个,中国最出名的演员有谁？,之与,乐赋唱随,也是醉了,二本大学,亮瞎了,什么,从我们身边消失了,令,任せてほしい,会,会不会有不懂中文的人去翻译然后回答这个问题,伝説常に先,伤不起,你对中国的印象如何？,你说我说中文会不会有人看得懂,使,例如,信仰,修改狼,修身,傻逼,其他,冒,冷笑話,几,出してある,出している,分久必合合久必分,制,动车,南無妙法蓮華経,即将开奖,又一,友達以上,另一,叫,可以,吐槽,吝啬,吴刚伐桂,呵呵,啦,啪啪啪啪,嘚瑟,夏天,外国人,多少,夢見,大历,大吉大利？,天下為公,太不好,太好了,失皮,女漢子,好き,好萌阿,如何收场,字喃,存在即是合理的,学位课，选修课,学校の運動会,安荧莉,安菁莉,宋,宋杰琴,宪政主义,寒冷的西伯利亚,封建成功,将就,小幸运,小气,小香风,尖閣諸島,平天下,平平淡淡才是真,弱虫僕と君と花,形から入る,很好,心中,必修课,怀疑,恋人未満,恬莉,意思意思,我孤独，但我不寂寞,我家小哥,我是法轮大法,我有一个二货朋友,我本人,我每天很高兴,我自己,才,打关系,打招呼,打著民主反民主“,扣帽子,抜け感,押一付三，先付后用,搬砖工人,改善,放心,整序变量,文言文,无语,日本手話語族,旮沓,时尚达人,暧昧,月光族,有意栽花花不成无心插柳柳成荫,有目共睹,有緣無份,有规律可循,杨雅静,枯萎,核型多角体病毒,格局,極度乾燥しなさい,横向卷轴,步步惊心？,武汉大学,歪果仁,比如,没出息,治国,海外グループ会社,海外子会社,消失了在我们身边,港澳居民來往內地通行證,游戏,漢字,潘迪華,澎湃激昂的高音唱法,烤鸭,煥森,熱氣,爱不释手,猫腻,玩坏,玲莉,画,画画,痴汉,真情,真感情,睨んでる,磨杵成针,礼义廉耻,福州一中学校,空城计,窩艾尼,竟然,笑点,粘人,精神,精神赵家人,缘分,美国,美图秀秀）,老干妈,胖口,能,脑洞大开,脸,腰疼”,膜法师,自分を愛する,自欺欺人,色迷迷的,莫妮卡,莫斯科郊外的晚上。一个静悄悄的无风之夜。,菁菁,螳螂捕蝉,装逼,親しみやすい,譬如朝露，去日苦多,让,译文,贰,走关系？,这是被战火践踏过的土地，从今天起，我们要缅怀那片长满鲜花的草地。,逆天,逆転の法則,這是什麽,逢十进一,遗世独立,那年那兔那些事儿,釣魚島,钢之炼金术师,长夜难明赤县天，百年魔怪舞翩跹,開了,阿,隐忍,隔壁老王,隙がない,雅晶,雅静,霍比特人,非洲,面,飛簷走壁,骂人,骚客,高铁,鴻日,鸡精,鹵水,黄雀在后,黎权锋,鼠,齐家,그런데,근데,니콜라스에게,동,됐어요,될까요,분위기,불타오르네,슬마,심하잖아,이정현,친구해도,쾌지나칭칭나네,하지만,한글,,,,﻿,！？,（核平统一）,（白左）,（陰陽師）,），,）？,￦¥§¤㊙㊗,￼\n"
     ]
    }
   ],
   "source": [
    "dec_map = pickle.load(open('../dataset/processed/dec_map.pkl', 'rb'))\n",
    "\n",
    "EMBEDDING_SIZE = 300\n",
    "embedding_matrix = generate_embedding_matrix(glove, dec_map, EMBEDDING_SIZE)\n",
    "\n",
    "pickle.dump(embedding_matrix, open('../dataset/processed/embedding_matrix.pkl', 'wb'))"
   ]
  },
  {
   "cell_type": "markdown",
   "metadata": {},
   "source": [
    "<br>\n",
    "↑↑↑↑↑ WOW ↑↑↑↑↑\n",
    "\n",
    "(TensorFlow is in this list LOL)\n",
    "\n",
    "<br>"
   ]
  },
  {
   "cell_type": "code",
   "execution_count": null,
   "metadata": {
    "collapsed": true
   },
   "outputs": [],
   "source": []
  },
  {
   "cell_type": "markdown",
   "metadata": {},
   "source": [
    "## Encode original training data frame and store it"
   ]
  },
  {
   "cell_type": "code",
   "execution_count": 79,
   "metadata": {
    "collapsed": true
   },
   "outputs": [],
   "source": [
    "enc_map = pickle.load(open('../dataset/processed/enc_map.pkl','rb'))"
   ]
  },
  {
   "cell_type": "code",
   "execution_count": 80,
   "metadata": {
    "collapsed": true
   },
   "outputs": [],
   "source": [
    "def preprocess_df(df, enc_map):\n",
    "    \n",
    "    def process_frame(frame):\n",
    "        question_pair = [frame['question1'], frame['question2']]\n",
    "        frame['question1'] , frame['question2'] = enc_question_pair(question_pair, enc_map)\n",
    "        return frame\n",
    "    \n",
    "    return df.apply(process_frame, axis=1)"
   ]
  },
  {
   "cell_type": "code",
   "execution_count": 81,
   "metadata": {},
   "outputs": [
    {
     "data": {
      "text/html": [
       "<div>\n",
       "<table border=\"1\" class=\"dataframe\">\n",
       "  <thead>\n",
       "    <tr style=\"text-align: right;\">\n",
       "      <th></th>\n",
       "      <th>id</th>\n",
       "      <th>question1</th>\n",
       "      <th>question2</th>\n",
       "      <th>is_duplicate</th>\n",
       "    </tr>\n",
       "  </thead>\n",
       "  <tbody>\n",
       "    <tr>\n",
       "      <th>0</th>\n",
       "      <td>0</td>\n",
       "      <td>[51654, 78987, 102919, 100306, 59879, 100306, ...</td>\n",
       "      <td>[51654, 78987, 102919, 100306, 59879, 100306, ...</td>\n",
       "      <td>0</td>\n",
       "    </tr>\n",
       "    <tr>\n",
       "      <th>1</th>\n",
       "      <td>1</td>\n",
       "      <td>[51654, 78987, 102919, 100532, 87334, 27885, 3...</td>\n",
       "      <td>[51654, 108355, 74886, 76929, 102919, 25059, 7...</td>\n",
       "      <td>0</td>\n",
       "    </tr>\n",
       "    <tr>\n",
       "      <th>2</th>\n",
       "      <td>2</td>\n",
       "      <td>[23764, 60151, 24046, 77536, 102919, 99611, 87...</td>\n",
       "      <td>[23764, 60151, 25426, 99611, 57626, 77537, 598...</td>\n",
       "      <td>0</td>\n",
       "    </tr>\n",
       "    <tr>\n",
       "      <th>3</th>\n",
       "      <td>3</td>\n",
       "      <td>[51782, 54842, 24046, 83663, 106607, 3, 23764,...</td>\n",
       "      <td>[19480, 102919, 94634, 107786, 5, 78987, 67523...</td>\n",
       "      <td>0</td>\n",
       "    </tr>\n",
       "    <tr>\n",
       "      <th>4</th>\n",
       "      <td>4</td>\n",
       "      <td>[51706, 87563, 67391, 77374, 107396, 93176, 3,...</td>\n",
       "      <td>[51706, 71670, 108355, 101600, 77374, 96368, 6]</td>\n",
       "      <td>0</td>\n",
       "    </tr>\n",
       "  </tbody>\n",
       "</table>\n",
       "</div>"
      ],
      "text/plain": [
       "   id                                          question1  \\\n",
       "0   0  [51654, 78987, 102919, 100306, 59879, 100306, ...   \n",
       "1   1  [51654, 78987, 102919, 100532, 87334, 27885, 3...   \n",
       "2   2  [23764, 60151, 24046, 77536, 102919, 99611, 87...   \n",
       "3   3  [51782, 54842, 24046, 83663, 106607, 3, 23764,...   \n",
       "4   4  [51706, 87563, 67391, 77374, 107396, 93176, 3,...   \n",
       "\n",
       "                                           question2  is_duplicate  \n",
       "0  [51654, 78987, 102919, 100306, 59879, 100306, ...             0  \n",
       "1  [51654, 108355, 74886, 76929, 102919, 25059, 7...             0  \n",
       "2  [23764, 60151, 25426, 99611, 57626, 77537, 598...             0  \n",
       "3  [19480, 102919, 94634, 107786, 5, 78987, 67523...             0  \n",
       "4    [51706, 71670, 108355, 101600, 77374, 96368, 6]             0  "
      ]
     },
     "execution_count": 81,
     "metadata": {},
     "output_type": "execute_result"
    }
   ],
   "source": [
    "df_preprocessed = preprocess_df(df_train, enc_map)\n",
    "\n",
    "# remove these two useless columns\n",
    "del df_preprocessed['qid1']\n",
    "del df_preprocessed['qid2']\n",
    "# df_preprocessed.to_csv('../dataset/processed/processed_training_data.csv', index=False)\n",
    "pickle.dump(df_preprocessed, open('../dataset/processed/processed_training_data.pkl', 'wb'))\n",
    "\n",
    "df_preprocessed.head()"
   ]
  },
  {
   "cell_type": "code",
   "execution_count": 82,
   "metadata": {},
   "outputs": [
    {
     "data": {
      "text/html": [
       "<div>\n",
       "<table border=\"1\" class=\"dataframe\">\n",
       "  <thead>\n",
       "    <tr style=\"text-align: right;\">\n",
       "      <th></th>\n",
       "      <th>test_id</th>\n",
       "      <th>question1</th>\n",
       "      <th>question2</th>\n",
       "    </tr>\n",
       "  </thead>\n",
       "  <tbody>\n",
       "    <tr>\n",
       "      <th>0</th>\n",
       "      <td>0</td>\n",
       "      <td>[23764, 67644, 102919, 46320, 38836, 75635, 27...</td>\n",
       "      <td>[51782, 66706, 32348, 61525, 63874, 82310, 551...</td>\n",
       "    </tr>\n",
       "    <tr>\n",
       "      <th>1</th>\n",
       "      <td>1</td>\n",
       "      <td>[44301, 24046, 75099, 53208, 74688, 104093, 56...</td>\n",
       "      <td>[23764, 85288, 64034, 67644, 74688, 104093, 5]</td>\n",
       "    </tr>\n",
       "    <tr>\n",
       "      <th>2</th>\n",
       "      <td>2</td>\n",
       "      <td>[51654, 59812, 78987, 102919, 57975, 107459, 1...</td>\n",
       "      <td>[51654, 108812, 97376, 84831, 103496, 4]</td>\n",
       "    </tr>\n",
       "    <tr>\n",
       "      <th>3</th>\n",
       "      <td>3</td>\n",
       "      <td>[51706, 72147, 86784, 3]</td>\n",
       "      <td>[51654, 72154, 4]</td>\n",
       "    </tr>\n",
       "    <tr>\n",
       "      <th>4</th>\n",
       "      <td>4</td>\n",
       "      <td>[23764, 3, 100158, 4]</td>\n",
       "      <td>[23764, 102954, 60151, 24046, 100158, 4]</td>\n",
       "    </tr>\n",
       "  </tbody>\n",
       "</table>\n",
       "</div>"
      ],
      "text/plain": [
       "   test_id                                          question1  \\\n",
       "0        0  [23764, 67644, 102919, 46320, 38836, 75635, 27...   \n",
       "1        1  [44301, 24046, 75099, 53208, 74688, 104093, 56...   \n",
       "2        2  [51654, 59812, 78987, 102919, 57975, 107459, 1...   \n",
       "3        3                           [51706, 72147, 86784, 3]   \n",
       "4        4                              [23764, 3, 100158, 4]   \n",
       "\n",
       "                                           question2  \n",
       "0  [51782, 66706, 32348, 61525, 63874, 82310, 551...  \n",
       "1     [23764, 85288, 64034, 67644, 74688, 104093, 5]  \n",
       "2           [51654, 108812, 97376, 84831, 103496, 4]  \n",
       "3                                  [51654, 72154, 4]  \n",
       "4           [23764, 102954, 60151, 24046, 100158, 4]  "
      ]
     },
     "execution_count": 82,
     "metadata": {},
     "output_type": "execute_result"
    }
   ],
   "source": [
    "df_preprocessed = preprocess_df(df_test, enc_map)\n",
    "# df_preprocessed.to_csv('./dataset/processed/processed_testing_data.csv', index=False)\n",
    "pickle.dump(df_preprocessed, open('../dataset/processed/processed_testing_data.pkl', 'wb'))\n",
    "\n",
    "df_preprocessed.head()"
   ]
  },
  {
   "cell_type": "code",
   "execution_count": null,
   "metadata": {
    "collapsed": true
   },
   "outputs": [],
   "source": []
  },
  {
   "cell_type": "code",
   "execution_count": null,
   "metadata": {
    "collapsed": true
   },
   "outputs": [],
   "source": []
  },
  {
   "cell_type": "markdown",
   "metadata": {},
   "source": [
    "## Let's do a short experiment see if our embedding matrix works or not\n",
    "\n",
    "Does vector : \" London -> Paris \" contains semantic relationship and can approximate relationship of \" England -> France \" ?"
   ]
  },
  {
   "cell_type": "code",
   "execution_count": 87,
   "metadata": {},
   "outputs": [
    {
     "name": "stdout",
     "output_type": "stream",
     "text": [
      "29653 37162 18011\n",
      "France   dist =  5.64297987282\n",
      "Paris   dist =  6.27527457426\n",
      "England   dist =  7.1538742503\n",
      "French   dist =  7.24948883275\n",
      "Lyon   dist =  7.3931232693\n"
     ]
    }
   ],
   "source": [
    "from math import sqrt\n",
    "\n",
    "print(enc_map['London'], enc_map['Paris'], enc_map['England'])\n",
    "\n",
    "London = embedding_matrix[enc_map['London']]\n",
    "Paris = embedding_matrix[enc_map['Paris']]\n",
    "England = embedding_matrix[enc_map['England']]\n",
    "target = Paris - London + England\n",
    "\n",
    "distances = np.zeros(embedding_matrix.shape[0])\n",
    "for i,vec in enumerate(embedding_matrix):\n",
    "    distances[i] = sqrt(np.sum(np.square(vec-target)))\n",
    "\n",
    "bests = np.argsort(distances)[:5]\n",
    "for best in bests:\n",
    "    print(dec_map[best], '  dist = ', distances[best])"
   ]
  },
  {
   "cell_type": "markdown",
   "metadata": {},
   "source": [
    "It works !"
   ]
  },
  {
   "cell_type": "code",
   "execution_count": null,
   "metadata": {
    "collapsed": true
   },
   "outputs": [],
   "source": []
  },
  {
   "cell_type": "markdown",
   "metadata": {},
   "source": [
    "## How to use this embedding matrix afterward (Example in Keras)\n",
    "\n",
    "Note:\n",
    "\n",
    "Since some weird words is not embeddable, so we random assign a random value vector to related word. Although this workaround might have some problems such as : the random assigned vector is probably being very close to other non-related word vector, which makes our model mis-understanding the meaning of such word. But at least our model has ability to identify if two words are same or not.\n",
    "\n",
    "翻譯蒟蒻 (translation) :\n",
    "\n",
    "因為我們選定的不少字不存在於 embedding file 裡面，而我們的處理方法是直接隨機給予一個 embedding vector ，這雖然會讓我們的 model 誤認為這些字與某些其他字有相關性，但至少這樣的做法讓我們的 model 有能力辨認兩個字是不是一樣的。"
   ]
  },
  {
   "cell_type": "code",
   "execution_count": null,
   "metadata": {
    "collapsed": true
   },
   "outputs": [],
   "source": [
    "# a short example how to embed encoded text into word vector\n",
    "\n",
    "def model():\n",
    "    \n",
    "    '''This model example is for Keras'''\n",
    "\n",
    "    # hyper-parameters that should be passed as function argument\n",
    "    \n",
    "    vocab_size = len(enc_map)\n",
    "    vocab_dim = EMBEDDING_SIZE # in my case is 300\n",
    "    text_length = 1 # how many words are we going to feed in one time\n",
    "\n",
    "    \n",
    "    '----------------------------------------------------------------------------'\n",
    "\n",
    "    \n",
    "    # embed our encoded question to embedded vector\n",
    "\n",
    "    encoded_question_input = Input(shape=(text_length,))\n",
    "\n",
    "    x = Embedding(output_dim = vocab_dim, \n",
    "                  input_dim = vocab_size, \n",
    "                  init = 'glorot_uniform',       # to be honest, I don't know what is this\n",
    "                  input_length = text_length, \n",
    "                  weights = [embedding_matrix]   # our embedding_matrix\n",
    "                 )(encoded_question_input)\n",
    "\n",
    "    text_embedded = Reshape((vocab_dim*text_length,))(x)\n",
    "\n",
    "    # maybe other input source\n",
    "\n",
    "    other_input = . . . \n",
    "    other_input_dim = . . .\n",
    "\n",
    "    # feed to RNN model\n",
    "\n",
    "    x = merge([text_embedded, other_input], mode='concat', concat_axis=-1)\n",
    "    x = Reshape((1, vocab_dim*text_length + other_input_dim ))(x)\n",
    "    x = GRU(128)(x)\n",
    "    out = Dense(vocab_size, activation='softmax')(x)\n",
    "    \n",
    "    # compile the model\n",
    "    \n",
    "    model = Model(input=[encoded_question_input, other_input], output=out)\n",
    "    # choose objective and optimizer\n",
    "    model.compile(loss='categorical_crossentropy', optimizer=RMSprop(lr=1e-3, clipnorm=clipnorm))\n",
    "    \n",
    "    return model"
   ]
  },
  {
   "cell_type": "code",
   "execution_count": null,
   "metadata": {
    "collapsed": true
   },
   "outputs": [],
   "source": []
  },
  {
   "cell_type": "code",
   "execution_count": null,
   "metadata": {
    "collapsed": true
   },
   "outputs": [],
   "source": []
  }
 ],
 "metadata": {
  "kernelspec": {
   "display_name": "Python 3",
   "language": "python",
   "name": "python3"
  },
  "language_info": {
   "codemirror_mode": {
    "name": "ipython",
    "version": 3
   },
   "file_extension": ".py",
   "mimetype": "text/x-python",
   "name": "python",
   "nbconvert_exporter": "python",
   "pygments_lexer": "ipython3",
   "version": "3.5.0"
  }
 },
 "nbformat": 4,
 "nbformat_minor": 2
}
