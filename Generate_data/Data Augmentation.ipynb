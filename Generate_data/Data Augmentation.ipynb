{
 "cells": [
  {
   "cell_type": "markdown",
   "metadata": {},
   "source": [
    "## Data augmentation\n",
    "\n",
    "Since many question pairs has same qid involve, "
   ]
  },
  {
   "cell_type": "code",
   "execution_count": 1,
   "metadata": {
    "collapsed": true
   },
   "outputs": [],
   "source": [
    "import numpy as np\n",
    "import pandas as pd\n",
    "import re\n",
    "import pickle\n",
    "import json"
   ]
  },
  {
   "cell_type": "code",
   "execution_count": 2,
   "metadata": {},
   "outputs": [
    {
     "data": {
      "text/html": [
       "<div>\n",
       "<table border=\"1\" class=\"dataframe\">\n",
       "  <thead>\n",
       "    <tr style=\"text-align: right;\">\n",
       "      <th></th>\n",
       "      <th>id</th>\n",
       "      <th>qid1</th>\n",
       "      <th>qid2</th>\n",
       "      <th>question1</th>\n",
       "      <th>question2</th>\n",
       "      <th>is_duplicate</th>\n",
       "    </tr>\n",
       "  </thead>\n",
       "  <tbody>\n",
       "    <tr>\n",
       "      <th>0</th>\n",
       "      <td>0</td>\n",
       "      <td>1</td>\n",
       "      <td>2</td>\n",
       "      <td>What is the step by step guide to invest in sh...</td>\n",
       "      <td>What is the step by step guide to invest in sh...</td>\n",
       "      <td>0</td>\n",
       "    </tr>\n",
       "    <tr>\n",
       "      <th>1</th>\n",
       "      <td>1</td>\n",
       "      <td>3</td>\n",
       "      <td>4</td>\n",
       "      <td>What is the story of Kohinoor (Koh-i-Noor) Dia...</td>\n",
       "      <td>What would happen if the Indian government sto...</td>\n",
       "      <td>0</td>\n",
       "    </tr>\n",
       "    <tr>\n",
       "      <th>2</th>\n",
       "      <td>2</td>\n",
       "      <td>5</td>\n",
       "      <td>6</td>\n",
       "      <td>How can I increase the speed of my internet co...</td>\n",
       "      <td>How can Internet speed be increased by hacking...</td>\n",
       "      <td>0</td>\n",
       "    </tr>\n",
       "    <tr>\n",
       "      <th>3</th>\n",
       "      <td>3</td>\n",
       "      <td>7</td>\n",
       "      <td>8</td>\n",
       "      <td>Why am I mentally very lonely? How can I solve...</td>\n",
       "      <td>Find the remainder when [math]23^{24}[/math] i...</td>\n",
       "      <td>0</td>\n",
       "    </tr>\n",
       "    <tr>\n",
       "      <th>4</th>\n",
       "      <td>4</td>\n",
       "      <td>9</td>\n",
       "      <td>10</td>\n",
       "      <td>Which one dissolve in water quikly sugar, salt...</td>\n",
       "      <td>Which fish would survive in salt water?</td>\n",
       "      <td>0</td>\n",
       "    </tr>\n",
       "  </tbody>\n",
       "</table>\n",
       "</div>"
      ],
      "text/plain": [
       "   id  qid1  qid2                                          question1  \\\n",
       "0   0     1     2  What is the step by step guide to invest in sh...   \n",
       "1   1     3     4  What is the story of Kohinoor (Koh-i-Noor) Dia...   \n",
       "2   2     5     6  How can I increase the speed of my internet co...   \n",
       "3   3     7     8  Why am I mentally very lonely? How can I solve...   \n",
       "4   4     9    10  Which one dissolve in water quikly sugar, salt...   \n",
       "\n",
       "                                           question2  is_duplicate  \n",
       "0  What is the step by step guide to invest in sh...             0  \n",
       "1  What would happen if the Indian government sto...             0  \n",
       "2  How can Internet speed be increased by hacking...             0  \n",
       "3  Find the remainder when [math]23^{24}[/math] i...             0  \n",
       "4            Which fish would survive in salt water?             0  "
      ]
     },
     "execution_count": 2,
     "metadata": {},
     "output_type": "execute_result"
    }
   ],
   "source": [
    "df_train = pd.read_csv('../dataset/raw/train.csv', delimiter=',')\n",
    "df_test = pd.read_csv('../dataset/raw/test.csv', delimiter=',')\n",
    "df_train.head()"
   ]
  },
  {
   "cell_type": "code",
   "execution_count": 4,
   "metadata": {},
   "outputs": [
    {
     "name": "stdout",
     "output_type": "stream",
     "text": [
      "Max qid =  537932\n"
     ]
    }
   ],
   "source": [
    "def get_max_qid(df):\n",
    "    max_qid = 0\n",
    "    for idx,frame in df.iterrows():\n",
    "        qid1 = int(frame['qid1'])\n",
    "        qid2 = int(frame['qid2'])\n",
    "        if qid1>max_qid:\n",
    "            max_qid = qid1\n",
    "        elif qid2>max_qid:\n",
    "            max_qid = qid2\n",
    "    print('Max qid = ', max_qid)\n",
    "    return max_qid\n",
    "\n",
    "max_qid = get_max_qid(df_train)"
   ]
  },
  {
   "cell_type": "code",
   "execution_count": 7,
   "metadata": {},
   "outputs": [],
   "source": [
    "def group_questions(df):\n",
    "    group_id = 0\n",
    "    group_list = np.repeat(-1, max_qid)\n",
    "    \n",
    "    for idx,frame in df.iterrows():\n",
    "        qid1 = int(frame['qid1'])\n",
    "        qid2 = int(frame['qid2'])\n",
    "        \n",
    "        if int(frame['is_duplicate'])==1:\n",
    "            # if both has no group, add new group\n",
    "            if group_list[qid1]==-1 and group_list[qid2]==-1:\n",
    "                group_list[qid1] = group_id\n",
    "                group_list[qid2] = group_id\n",
    "                group_id += 1\n",
    "\n",
    "            # if both has group, join the group \n",
    "            elif group_list[qid1]!=-1 and group_list[qid2]!=-1 :\n",
    "                idxes_to_be_joined = np.where(group_list==group_list[qid2])[0]\n",
    "                group_list[idxes_to_be_joined] = group_list[qid1]\n",
    "\n",
    "            # only q1 has group , than add q2 to q1's group\n",
    "            elif  group_list[qid1]!=-1:\n",
    "                group_list[qid2] = group_list[qid1]\n",
    "\n",
    "            # only q2 has group , than add q1 to q2's group\n",
    "            elif  group_list[qid2]!=-1:\n",
    "                group_list[qid1] = group_list[qid2]\n",
    "                \n",
    "    return group_list\n",
    "    \n",
    "group_ids = group_questions(df_train)"
   ]
  },
  {
   "cell_type": "code",
   "execution_count": 12,
   "metadata": {},
   "outputs": [
    {
     "data": {
      "text/plain": [
       "149650"
      ]
     },
     "execution_count": 12,
     "metadata": {},
     "output_type": "execute_result"
    }
   ],
   "source": [
    "sum(group_ids!=-1)"
   ]
  },
  {
   "cell_type": "code",
   "execution_count": 14,
   "metadata": {},
   "outputs": [],
   "source": [
    "group_dict = {}\n",
    "for i in range(np.max(group_ids)+1):\n",
    "    group_members = np.where(group_ids==i)[0]\n",
    "    if len(group_members)>0:\n",
    "        group_dict[i] = group_members"
   ]
  },
  {
   "cell_type": "code",
   "execution_count": 26,
   "metadata": {},
   "outputs": [],
   "source": [
    "import itertools\n",
    "\n",
    "def enumerate_all_positive_cases(group_dict):\n",
    "    \n",
    "    def enumerate_inside_group(group):\n",
    "        return list(itertools.combinations(group, 2))\n",
    "    \n",
    "    return np.vstack(enumerate_inside_group(group_dict[group_id]) for group_id in group_dict)\n",
    "\n",
    "all_pos_pairs = enumerate_all_positive_cases(group_dict)"
   ]
  },
  {
   "cell_type": "code",
   "execution_count": 27,
   "metadata": {},
   "outputs": [
    {
     "name": "stdout",
     "output_type": "stream",
     "text": [
      "228548\n"
     ]
    }
   ],
   "source": [
    "print(len(all_pos_pairs))"
   ]
  },
  {
   "cell_type": "code",
   "execution_count": null,
   "metadata": {
    "collapsed": true
   },
   "outputs": [],
   "source": []
  },
  {
   "cell_type": "code",
   "execution_count": null,
   "metadata": {
    "collapsed": true
   },
   "outputs": [],
   "source": []
  },
  {
   "cell_type": "code",
   "execution_count": null,
   "metadata": {
    "collapsed": true
   },
   "outputs": [],
   "source": []
  }
 ],
 "metadata": {
  "kernelspec": {
   "display_name": "Python 3",
   "language": "python",
   "name": "python3"
  }
 },
 "nbformat": 4,
 "nbformat_minor": 2
}
