{
 "cells": [
  {
   "cell_type": "markdown",
   "metadata": {},
   "source": [
    "## Some ideas\n",
    "\n",
    "1. 我們有已經 label 成 same question 的 data ，那我們也許可以另外 train 一個 model 可以根據 input 的句子 sequential 生成新的\"換句話說\"句子?\n",
    "2. curriculum learning\n",
    "3. Ensombling:\n",
    "\n",
    "        a. Naive RNN\n",
    "        b. xgboost\n",
    "        \n",
    "\n",
    "---\n",
    "\n",
    "1. Since we already have data that labelled as same question paris. Is it possible for us to train another model which can sequetially generate a same question string depends on the input? "
   ]
  },
  {
   "cell_type": "code",
   "execution_count": 1,
   "metadata": {},
   "outputs": [
    {
     "name": "stderr",
     "output_type": "stream",
     "text": [
      "Using TensorFlow backend.\n"
     ]
    }
   ],
   "source": [
    "import numpy as np\n",
    "import pandas as pd\n",
    "import re\n",
    "import pickle\n",
    "import json\n",
    "import matplotlib.pyplot as plt\n",
    "import random\n",
    "\n",
    "from keras.layers.embeddings import Embedding"
   ]
  },
  {
   "cell_type": "code",
   "execution_count": 3,
   "metadata": {
    "collapsed": true
   },
   "outputs": [],
   "source": [
    "dec_map = pickle.load(open('../dataset/processed/dec_map.pkl','rb'))\n",
    "enc_map = pickle.load(open('../dataset/processed/enc_map.pkl','rb'))\n",
    "embedding_matrix = pickle.load(open('../dataset/processed/embedding_matrix.pkl','rb'))\n",
    "\n",
    "df_train = pickle.load(open('../dataset/processed/processed_training_data.pkl','rb'))\n",
    "df_test = pickle.load(open('../dataset/processed/processed_testing_data.pkl','rb'))"
   ]
  },
  {
   "cell_type": "code",
   "execution_count": null,
   "metadata": {
    "collapsed": true
   },
   "outputs": [],
   "source": []
  },
  {
   "cell_type": "code",
   "execution_count": 4,
   "metadata": {},
   "outputs": [
    {
     "data": {
      "text/html": [
       "<div>\n",
       "<table border=\"1\" class=\"dataframe\">\n",
       "  <thead>\n",
       "    <tr style=\"text-align: right;\">\n",
       "      <th></th>\n",
       "      <th>id</th>\n",
       "      <th>question1</th>\n",
       "      <th>question2</th>\n",
       "      <th>is_duplicate</th>\n",
       "    </tr>\n",
       "  </thead>\n",
       "  <tbody>\n",
       "    <tr>\n",
       "      <th>0</th>\n",
       "      <td>0</td>\n",
       "      <td>[19354, 32666, 44207, 42906, 23164, 42906, 304...</td>\n",
       "      <td>[19354, 32666, 44207, 42906, 23164, 42906, 304...</td>\n",
       "      <td>0</td>\n",
       "    </tr>\n",
       "    <tr>\n",
       "      <th>1</th>\n",
       "      <td>1</td>\n",
       "      <td>[19354, 32666, 44207, 43024, 36339, 10433, 3, ...</td>\n",
       "      <td>[19354, 46871, 30660, 31592, 44207, 9371, 3022...</td>\n",
       "      <td>0</td>\n",
       "    </tr>\n",
       "    <tr>\n",
       "      <th>2</th>\n",
       "      <td>2</td>\n",
       "      <td>[8861, 23291, 8972, 31895, 44207, 42532, 36339...</td>\n",
       "      <td>[8861, 23291, 9512, 42532, 22036, 31896, 23164...</td>\n",
       "      <td>0</td>\n",
       "    </tr>\n",
       "    <tr>\n",
       "      <th>3</th>\n",
       "      <td>3</td>\n",
       "      <td>[19400, 20710, 8972, 34717, 45992, 3, 8861, 23...</td>\n",
       "      <td>[7257, 44207, 39954, 46574, 5, 32666, 27075, 2...</td>\n",
       "      <td>0</td>\n",
       "    </tr>\n",
       "    <tr>\n",
       "      <th>4</th>\n",
       "      <td>4</td>\n",
       "      <td>[19372, 36439, 27001, 31811, 46391, 39195, 3, ...</td>\n",
       "      <td>[19372, 29136, 46871, 43570, 31811, 40880, 6]</td>\n",
       "      <td>0</td>\n",
       "    </tr>\n",
       "    <tr>\n",
       "      <th>5</th>\n",
       "      <td>5</td>\n",
       "      <td>[3, 8972, 20710, 19889, 4393, 17404, 4381, 353...</td>\n",
       "      <td>[6, 19889, 44949, 4393, 7, 12388, 20852, 21315...</td>\n",
       "      <td>1</td>\n",
       "    </tr>\n",
       "    <tr>\n",
       "      <th>6</th>\n",
       "      <td>6</td>\n",
       "      <td>[16669, 8972, 23153, 3]</td>\n",
       "      <td>[19354, 33011, 4, 20158, 20852, 28784, 29664, ...</td>\n",
       "      <td>0</td>\n",
       "    </tr>\n",
       "    <tr>\n",
       "      <th>7</th>\n",
       "      <td>7</td>\n",
       "      <td>[8861, 23291, 8972, 22036, 19889, 30182, 3]</td>\n",
       "      <td>[19354, 41727, 8972, 27111, 44492, 22036, 1988...</td>\n",
       "      <td>1</td>\n",
       "    </tr>\n",
       "    <tr>\n",
       "      <th>8</th>\n",
       "      <td>8</td>\n",
       "      <td>[19367, 27111, 47026, 45728, 3, 32277, 36339, 4]</td>\n",
       "      <td>[19367, 27111, 47026, 45728, 5, 32277, 36339, 6]</td>\n",
       "      <td>0</td>\n",
       "    </tr>\n",
       "    <tr>\n",
       "      <th>9</th>\n",
       "      <td>9</td>\n",
       "      <td>[12442, 3, 4350, 8972, 30538, 35578, 4637, 4, 5]</td>\n",
       "      <td>[8861, 27111, 8972, 30538, 12442, 6, 29400, 29...</td>\n",
       "      <td>0</td>\n",
       "    </tr>\n",
       "  </tbody>\n",
       "</table>\n",
       "</div>"
      ],
      "text/plain": [
       "   id                                          question1  \\\n",
       "0   0  [19354, 32666, 44207, 42906, 23164, 42906, 304...   \n",
       "1   1  [19354, 32666, 44207, 43024, 36339, 10433, 3, ...   \n",
       "2   2  [8861, 23291, 8972, 31895, 44207, 42532, 36339...   \n",
       "3   3  [19400, 20710, 8972, 34717, 45992, 3, 8861, 23...   \n",
       "4   4  [19372, 36439, 27001, 31811, 46391, 39195, 3, ...   \n",
       "5   5  [3, 8972, 20710, 19889, 4393, 17404, 4381, 353...   \n",
       "6   6                            [16669, 8972, 23153, 3]   \n",
       "7   7        [8861, 23291, 8972, 22036, 19889, 30182, 3]   \n",
       "8   8   [19367, 27111, 47026, 45728, 3, 32277, 36339, 4]   \n",
       "9   9   [12442, 3, 4350, 8972, 30538, 35578, 4637, 4, 5]   \n",
       "\n",
       "                                           question2  is_duplicate  \n",
       "0  [19354, 32666, 44207, 42906, 23164, 42906, 304...             0  \n",
       "1  [19354, 46871, 30660, 31592, 44207, 9371, 3022...             0  \n",
       "2  [8861, 23291, 9512, 42532, 22036, 31896, 23164...             0  \n",
       "3  [7257, 44207, 39954, 46574, 5, 32666, 27075, 2...             0  \n",
       "4      [19372, 29136, 46871, 43570, 31811, 40880, 6]             0  \n",
       "5  [6, 19889, 44949, 4393, 7, 12388, 20852, 21315...             1  \n",
       "6  [19354, 33011, 4, 20158, 20852, 28784, 29664, ...             0  \n",
       "7  [19354, 41727, 8972, 27111, 44492, 22036, 1988...             1  \n",
       "8   [19367, 27111, 47026, 45728, 5, 32277, 36339, 6]             0  \n",
       "9  [8861, 27111, 8972, 30538, 12442, 6, 29400, 29...             0  "
      ]
     },
     "execution_count": 4,
     "metadata": {},
     "output_type": "execute_result"
    }
   ],
   "source": [
    "df_train.head(10)"
   ]
  },
  {
   "cell_type": "code",
   "execution_count": 5,
   "metadata": {
    "collapsed": true
   },
   "outputs": [],
   "source": [
    "def enc_question(question, enc_map):\n",
    "    \n",
    "    if type(question)!=str or question==\"\":\n",
    "        return [enc_map['<ST>'], enc_map['<ED>']]\n",
    "    \n",
    "    def map_wrod(word):\n",
    "        return enc_map[word] if word in enc_map else enc_map['<RARE>']\n",
    "         \n",
    "    \n",
    "    # identify special characters that separate words : (space) ' ! \" ? @ ^ + * / . , ~ ( ) [ ] { } & | ` $ % = : ; < >  \n",
    "    separator = '(?=[\\s\\'!\"?@\\^+*/\\.,~\\(\\)\\[\\]\\{\\}\\&\\|`\\$\\%\\=:;\\<\\>]|$)'\n",
    "    single_word = '[\\S]+' # non-empty is enough here\n",
    "    \n",
    "    words_list = re.findall(single_word+separator, question)\n",
    "    \n",
    "    return [enc_map['<ST>']] + [map_wrod(word) for word in words_list] + [enc_map['<ED>']] \n",
    "    \n",
    "    \n",
    "def dec_question(question, dec_map):\n",
    "    return [dec_map[enc_value] for enc_value in question]"
   ]
  },
  {
   "cell_type": "code",
   "execution_count": 55,
   "metadata": {},
   "outputs": [
    {
     "data": {
      "image/png": "[encoded data removed]",
      "text/plain": [
       "<matplotlib.figure.Figure at 0x1cc94f266d8>"
      ]
     },
     "metadata": {},
     "output_type": "display_data"
    },
    {
     "data": {
      "image/png": "[encoded data removed]",
      "text/plain": [
       "<matplotlib.figure.Figure at 0x1cc8e7f5d30>"
      ]
     },
     "metadata": {},
     "output_type": "display_data"
    }
   ],
   "source": [
    "len_counter = [0]*238 # longest question is 237 words long\n",
    "\n",
    "for i,data in df_train.iterrows():\n",
    "    q1 = eval(data['question1'])\n",
    "    q2 = eval(data['question2'])\n",
    "    \n",
    "    len_counter[len(q1)-2] += 1\n",
    "    len_counter[len(q2)-2] += 1\n",
    "        \n",
    "\n",
    "plt.plot(len_counter)\n",
    "plt.show()\n",
    "\n",
    "plt.plot(len_counter[0:40])\n",
    "plt.show()"
   ]
  },
  {
   "cell_type": "markdown",
   "metadata": {},
   "source": [
    "#### so, use 30 words as length of model input/output"
   ]
  },
  {
   "cell_type": "code",
   "execution_count": 6,
   "metadata": {
    "collapsed": true
   },
   "outputs": [],
   "source": [
    "def change_to_list_and_clip(data, clip_st_ed=False):\n",
    "    \n",
    "    clip_len = 30\n",
    "    \n",
    "    if clip_st_ed:\n",
    "        data['question1'] = eval(data['question1'])[1:-1]\n",
    "        data['question2'] = eval(data['question2'])[1:-1]\n",
    "    \n",
    "    if len(data['question1'])<clip_len:\n",
    "        data['question1'] = data['question1'] + [enc_map['<ED>']] * (30-len(data['question1']))\n",
    "    else:\n",
    "        data['question1'] = data['question1'][:30]\n",
    "        \n",
    "    if len(data['question2'])<clip_len:\n",
    "        data['question2'] = data['question2'] + [enc_map['<ED>']] * (30-len(data['question2']))\n",
    "    else:\n",
    "        data['question2'] = data['question2'][:30]\n",
    "        \n",
    "    return data"
   ]
  },
  {
   "cell_type": "code",
   "execution_count": 8,
   "metadata": {
    "collapsed": true
   },
   "outputs": [],
   "source": [
    "df_transformed = df_train.apply(change_to_list_and_clip, axis=1)\n",
    "pickle.dump(df_transformed, open('../dataset/processed/df_train_hubertLin_version.pkl', 'wb'))"
   ]
  },
  {
   "cell_type": "code",
   "execution_count": 9,
   "metadata": {
    "collapsed": true
   },
   "outputs": [],
   "source": [
    "df_transformed = pickle.load(open('../dataset/processed/df_train_hubertLin_version.pkl', 'rb'))\n",
    "\n",
    "diff_questions = df_transformed.where(df_transformed['is_duplicate']==0).dropna().reset_index(drop=True)\n",
    "same_questions = df_transformed.where(df_transformed['is_duplicate']==1).dropna().reset_index(drop=True)\n",
    "\n",
    "pickle.dump(diff_questions, open('../dataset/processed/df_train_diff_hubertLin_version.pkl', 'wb'))\n",
    "pickle.dump(same_questions, open('../dataset/processed/df_train_same_hubertLin_version.pkl', 'wb'))"
   ]
  },
  {
   "cell_type": "code",
   "execution_count": 10,
   "metadata": {
    "collapsed": true
   },
   "outputs": [],
   "source": [
    "df_transformed = df_test.apply(change_to_list_and_clip, axis=1)\n",
    "pickle.dump(df_transformed, open('../dataset/processed/df_test_hubertLin_version.pkl', 'wb'))"
   ]
  },
  {
   "cell_type": "code",
   "execution_count": null,
   "metadata": {
    "collapsed": true
   },
   "outputs": [],
   "source": []
  },
  {
   "cell_type": "markdown",
   "metadata": {},
   "source": [
    "## model time!"
   ]
  },
  {
   "cell_type": "code",
   "execution_count": 1,
   "metadata": {},
   "outputs": [
    {
     "name": "stderr",
     "output_type": "stream",
     "text": [
      "Using TensorFlow backend.\n"
     ]
    }
   ],
   "source": [
    "import numpy as np\n",
    "import pandas as pd\n",
    "import re\n",
    "import pickle\n",
    "import json\n",
    "import matplotlib.pyplot as plt\n",
    "import random\n",
    "\n",
    "from keras.layers.embeddings import Embedding"
   ]
  },
  {
   "cell_type": "code",
   "execution_count": 2,
   "metadata": {
    "collapsed": true
   },
   "outputs": [],
   "source": [
    "dec_map = pickle.load(open('../dataset/processed/dec_map.pkl','rb'))\n",
    "enc_map = pickle.load(open('../dataset/processed/enc_map.pkl','rb'))\n",
    "embedding_matrix = pickle.load(open('../dataset/processed/embedding_matrix.pkl','rb'))"
   ]
  },
  {
   "cell_type": "code",
   "execution_count": 3,
   "metadata": {
    "collapsed": true
   },
   "outputs": [],
   "source": [
    "def holdout(df, ratio=0.025): # we have 400,000 training data, 10000 for validation is enough\n",
    "    def gen_suffle_idx(arr):\n",
    "        random.shuffle(arr)\n",
    "        return arr\n",
    "    \n",
    "    holdout_size = int(len(df)*ratio)\n",
    "    idxes = gen_suffle_idx(np.arange(len(df)))\n",
    "    holdout_idxes = idxes[:holdout_size]\n",
    "    train_idxes = idxes[holdout_size:]\n",
    "    \n",
    "    df_train = df.iloc[train_idxes].dropna().reset_index(drop=True)\n",
    "    df_val   = df.iloc[holdout_idxes].dropna().reset_index(drop=True)\n",
    "    \n",
    "    return df_train, df_val\n"
   ]
  },
  {
   "cell_type": "code",
   "execution_count": 6,
   "metadata": {
    "collapsed": true
   },
   "outputs": [],
   "source": [
    "from keras.layers import Input, GRU, Reshape, Dense, merge, Dropout, BatchNormalization, LSTM, MaxoutDense\n",
    "from keras.models import Model\n",
    "from keras.optimizers import RMSprop\n",
    "\n",
    "from keras.layers.noise import GaussianNoise\n",
    "\n",
    "from keras.callbacks import EarlyStopping\n",
    "\n",
    "def naive_model():\n",
    "\n",
    "    # hyper-parameters that should be passed as function argument\n",
    "    \n",
    "    EMBEDDING_SIZE = 300\n",
    "    vocab_size = len(enc_map)\n",
    "    vocab_dim = EMBEDDING_SIZE # in my case is 300\n",
    "    text_length = 30 # how many words are we going to feed in one time\n",
    "    clipnorm = 1\n",
    "    \n",
    "    lstm_output = 64\n",
    "\n",
    "#     gru = GRU(256, dropout=0.2)\n",
    "    gru = LSTM(lstm_output, dropout=0.3, recurrent_dropout=0.3)\n",
    "    \n",
    "    # embed our encoded question to embedded vector\n",
    "\n",
    "    encoded_question_input1 = Input(shape=(text_length,))\n",
    "\n",
    "    x = Embedding(output_dim = vocab_dim, \n",
    "                  input_dim = vocab_size, \n",
    "                  init = 'glorot_uniform',       # to be honest, I don't know what is this\n",
    "                  input_length = text_length, \n",
    "                  weights = [embedding_matrix]   # our embedding_matrix\n",
    "                 )(encoded_question_input1)\n",
    "    x = GaussianNoise(0.1)(x)\n",
    "    text_embedded1 = Reshape((1,vocab_dim*text_length))(x)\n",
    "    gru1 = gru(text_embedded1)\n",
    "\n",
    "    \n",
    "    # embed our encoded question to embedded vector\n",
    "\n",
    "    encoded_question_input2 = Input(shape=(text_length,))\n",
    "\n",
    "    x = Embedding(output_dim = vocab_dim, \n",
    "                  input_dim = vocab_size, \n",
    "                  init = 'glorot_uniform',       # to be honest, I don't know what is this\n",
    "                  input_length = text_length, \n",
    "                  weights = [embedding_matrix]   # our embedding_matrix\n",
    "                 )(encoded_question_input2)\n",
    "    x = GaussianNoise(0.1)(x)\n",
    "    text_embedded2 = Reshape((1,vocab_dim*text_length))(x)\n",
    "    gru2 = gru(text_embedded2)\n",
    "    \n",
    "\n",
    "    # feed to RNN model\n",
    "    x = merge([gru1, gru2], mode='concat', concat_axis=-1)\n",
    "\n",
    "    x = Dropout(0.2)(x)\n",
    "    x = BatchNormalization()(x)\n",
    "\n",
    "#     x = Dense(60, activation='relu')(x)\n",
    "    x = MaxoutDense(lstm_output//2)(x) # ex: MaxoutDense(output_dim=1,nb_feature=3,input_dim=1)\n",
    "    x = Dropout(0.2)(x)\n",
    "    x = BatchNormalization()(x)\n",
    "\n",
    "    out = Dense(1, activation='sigmoid')(x)\n",
    "    \n",
    "    # compile the model\n",
    "    \n",
    "    model = Model(input=[encoded_question_input1, encoded_question_input2], output=out)\n",
    "    # choose objective and optimizer\n",
    "#     model.compile(loss='binary_crossentropy', optimizer=RMSprop(lr=1e-3))\n",
    "    model.compile(loss='binary_crossentropy', optimizer='nadam')\n",
    "    \n",
    "    return model"
   ]
  },
  {
   "cell_type": "code",
   "execution_count": 7,
   "metadata": {},
   "outputs": [
    {
     "name": "stderr",
     "output_type": "stream",
     "text": [
      "C:\\Users\\User\\Anaconda3\\lib\\site-packages\\ipykernel_launcher.py:32: UserWarning: Update your `Embedding` call to the Keras 2 API: `Embedding(embeddings_initializer=\"glorot_uniform\", output_dim=300, input_length=30, input_dim=47245, weights=[array([[-...)`\n",
      "C:\\Users\\User\\Anaconda3\\lib\\site-packages\\ipykernel_launcher.py:47: UserWarning: Update your `Embedding` call to the Keras 2 API: `Embedding(embeddings_initializer=\"glorot_uniform\", output_dim=300, input_length=30, input_dim=47245, weights=[array([[-...)`\n",
      "C:\\Users\\User\\Anaconda3\\lib\\site-packages\\ipykernel_launcher.py:55: UserWarning: The `merge` function is deprecated and will be removed after 08/2017. Use instead layers from `keras.layers.merge`, e.g. `add`, `concatenate`, etc.\n",
      "C:\\Users\\User\\Anaconda3\\lib\\site-packages\\keras\\legacy\\layers.py:460: UserWarning: The `Merge` layer is deprecated and will be removed after 08/2017. Use instead layers from `keras.layers.merge`, e.g. `add`, `concatenate`, etc.\n",
      "  name=name)\n",
      "C:\\Users\\User\\Anaconda3\\lib\\site-packages\\keras\\legacy\\layers.py:529: UserWarning: The `MaxoutDense` layer is deprecated and will be removed after 06/2017.\n",
      "  warnings.warn('The `MaxoutDense` layer is deprecated '\n",
      "C:\\Users\\User\\Anaconda3\\lib\\site-packages\\ipykernel_launcher.py:69: UserWarning: Update your `Model` call to the Keras 2 API: `Model(outputs=Tensor(\"de..., inputs=[<tf.Tenso...)`\n"
     ]
    }
   ],
   "source": [
    "model = naive_model()"
   ]
  },
  {
   "cell_type": "code",
   "execution_count": null,
   "metadata": {
    "collapsed": true
   },
   "outputs": [],
   "source": []
  },
  {
   "cell_type": "markdown",
   "metadata": {},
   "source": [
    "#### Train on all data directly. Overcome the imbalance problem by directly assign weights for each class label"
   ]
  },
  {
   "cell_type": "code",
   "execution_count": 8,
   "metadata": {
    "collapsed": true
   },
   "outputs": [],
   "source": [
    "test_set_pos_label_ratio = 0.1746\n",
    "\n",
    "weights = {\n",
    "    0: 1.309028344,\n",
    "    1: 0.472001959\n",
    "}\n"
   ]
  },
  {
   "cell_type": "code",
   "execution_count": 9,
   "metadata": {},
   "outputs": [],
   "source": [
    "df_transformed = pickle.load(open('../dataset/processed/df_train_hubertLin_version.pkl', 'rb'))\n",
    "\n",
    "df_transformed, df_validation = holdout(df_transformed, ratio=0.025)\n",
    "\n",
    "X_train = [np.vstack(df_transformed['question1']), np.vstack(df_transformed['question2'])]\n",
    "y_train = np.vstack(df_transformed['is_duplicate'])\n",
    "\n",
    "X_val = [np.vstack(df_validation['question1']), np.vstack(df_validation['question2'])]\n",
    "y_val = np.vstack(df_validation['is_duplicate'])\n"
   ]
  },
  {
   "cell_type": "code",
   "execution_count": null,
   "metadata": {
    "collapsed": true
   },
   "outputs": [],
   "source": [
    "test_set_pos_label_ratio = 0.1746\n",
    "\n",
    "pos_labels = df_transformed['is_duplicate']==1\n",
    "pos_label_ratio = sum(pos_labels)/len(pos_labels)\n",
    "weights = {\n",
    "    0: (1-test_set_pos_label_ratio) / (1-pos_label_ratio),\n",
    "    1: test_set_pos_label_ratio/pos_label_ratio\n",
    "}\n",
    "\n",
    "validation_weights = np.repeat(weights[1], len(y_val))\n",
    "validation_weights[y_val.reshape(len(y_val))==0] = weights[0]"
   ]
  },
  {
   "cell_type": "code",
   "execution_count": null,
   "metadata": {},
   "outputs": [
    {
     "name": "stdout",
     "output_type": "stream",
     "text": [
      "Train on 394183 samples, validate on 10107 samples\n",
      "Epoch 1/1000\n",
      "394183/394183 [==============================] - 359s - loss: 0.4102 - val_loss: 0.3579\n",
      "Epoch 2/1000\n",
      " 82176/394183 [=====>........................] - ETA: 275s - loss: 0.3347"
     ]
    }
   ],
   "source": [
    "callbacks = [\n",
    "    EarlyStopping(monitor='val_loss', patience=3, mode='min', verbose=1)\n",
    "]\n",
    "    \n",
    "try:\n",
    "    model.fit(X_train, \n",
    "              y_train,\n",
    "              class_weight=weights,\n",
    "              epochs=1000, \n",
    "              batch_size=768,\n",
    "              shuffle=True,\n",
    "              validation_data=(X_val,y_val,validation_weights), \n",
    "              callbacks=callbacks,\n",
    "              verbose=1)\n",
    "except KeyboardInterrupt:\n",
    "    print('\\nEarly stop by user')"
   ]
  },
  {
   "cell_type": "code",
   "execution_count": null,
   "metadata": {},
   "outputs": [],
   "source": [
    "from sklearn.metrics import log_loss, accuracy_score, roc_auc_score\n",
    "\n",
    "pred = model.predict(X_val)\n",
    "\n",
    "pred[pred==1] = 0.999999\n",
    "pred[pred==0] = 0.000001\n",
    "\n",
    "print('log_loss=',log_loss(y_val, pred))\n",
    "print('roc_auc=',roc_auc_score(y_val, pred))"
   ]
  },
  {
   "cell_type": "markdown",
   "metadata": {},
   "source": [
    "commonly overfit around loss ~ 0.34"
   ]
  },
  {
   "cell_type": "code",
   "execution_count": null,
   "metadata": {
    "collapsed": true
   },
   "outputs": [],
   "source": []
  },
  {
   "cell_type": "markdown",
   "metadata": {},
   "source": [
    "#### Train on batch , uses unsampling/downsampling to gaurantee the pos/neg labels are balanced"
   ]
  },
  {
   "cell_type": "code",
   "execution_count": 3,
   "metadata": {
    "collapsed": true
   },
   "outputs": [],
   "source": [
    "diff_questions = pickle.load(open('../dataset/processed/df_train_diff_hubertLin_version.pkl', 'rb'))\n",
    "same_questions = pickle.load(open('../dataset/processed/df_train_same_hubertLin_version.pkl', 'rb'))\n",
    "\n",
    "diff_questions, diff_val = holdout(diff_questions)\n",
    "same_questions, same_val = holdout(same_questions)"
   ]
  },
  {
   "cell_type": "code",
   "execution_count": 26,
   "metadata": {},
   "outputs": [
    {
     "name": "stdout",
     "output_type": "stream",
     "text": [
      "Train on 404290 samples, validate on 10000 samples\n",
      "Epoch 1/1000\n",
      " 73728/404290 [====>.........................] - ETA: 309s - loss: 0.5912\n",
      "Early stop by user\n"
     ]
    }
   ],
   "source": [
    "batch_size = 512\n",
    "\n",
    "def gen_suffle_idx(arr):\n",
    "    random.shuffle(arr)\n",
    "    return arr\n",
    "\n",
    "def data_gen():\n",
    "    a = np.arange(batch_size)\n",
    "    while True:\n",
    "        \n",
    "        rand = [random.randint(0,len(same_questions)-1) for i in range(batch_size//2)]\n",
    "        pos_selected = same_questions.ix[rand]\n",
    "        rand = [random.randint(0,len(diff_questions)-1) for i in range(batch_size//2)]\n",
    "        neg_selected = diff_questions.ix[rand]\n",
    "        \n",
    "        selected  = pos_selected.append(neg_selected).reset_index(drop=True)\n",
    "        selected = selected.ix[gen_suffle_idx(a)]\n",
    "\n",
    "#         batch_size = len(sanity_check)\n",
    "#         a = np.arange(batch_size)\n",
    "#         selected = sanity_check.ix[gen_suffle_idx(a)]\n",
    "        \n",
    "        q1 = np.array([data['question1'] for i,data in selected.iterrows()])\n",
    "        q2 = np.array([data['question2'] for i,data in selected.iterrows()])\n",
    "        \n",
    "        # randomly swap two training question pair\n",
    "        swap_idxes = [random.randint(0,len(selected)-1) for i in range(batch_size//2)]\n",
    "        for i in swap_idxes:\n",
    "            q1[i] , q2[i] = q2[i] , q1[i]\n",
    "        \n",
    "        y = np.array([data['is_duplicate'] for i,data in selected.iterrows()])\n",
    "\n",
    "        yield [q1, q2], y\n",
    "\n",
    "def gen_validation(size):\n",
    "    \n",
    "    a = np.arange(size)\n",
    "    \n",
    "    rand = [random.randint(0,len(same_val)-1) for i in range(size//2)]\n",
    "    pos_selected = same_val.ix[rand]\n",
    "    rand = [random.randint(0,len(diff_val)-1) for i in range(size//2)]\n",
    "    neg_selected = diff_val.ix[rand]\n",
    "    \n",
    "    selected  = pos_selected.append(neg_selected).reset_index(drop=True)\n",
    "    selected = selected.ix[gen_suffle_idx(a)]\n",
    "\n",
    "    q1 = np.array([data['question1'] for i,data in selected.iterrows()])\n",
    "    q2 = np.array([data['question2'] for i,data in selected.iterrows()])\n",
    "\n",
    "    y = np.array([data['is_duplicate'] for i,data in selected.iterrows()])\n",
    "\n",
    "    return [q1, q2], y, class_weights\n",
    "    \n",
    "callbacks = [\n",
    "    EarlyStopping(monitor='val_loss', patience=10, mode='min', verbose=1)\n",
    "]\n",
    "    \n",
    "try:\n",
    "    validation_data = gen_validation(10000)\n",
    "    model.fit_generator(data_gen(), 50, epochs=1000, validation_data=validation_data, callbacks=callbacks)\n",
    "except KeyboardInterrupt:\n",
    "    print('\\nEarly stop by user')"
   ]
  },
  {
   "cell_type": "markdown",
   "metadata": {},
   "source": [
    "loss 約 converge 在 0.49~0.5"
   ]
  },
  {
   "cell_type": "code",
   "execution_count": null,
   "metadata": {
    "collapsed": true
   },
   "outputs": [],
   "source": []
  },
  {
   "cell_type": "code",
   "execution_count": null,
   "metadata": {
    "collapsed": true
   },
   "outputs": [],
   "source": [
    "for i in range(20):\n",
    "    q = diff_questions.ix[i]\n",
    "    x1 = np.array([q['question1']])\n",
    "    x2 = np.array([q['question2']])\n",
    "    print(model.predict([x1,x2])[0][1])\n",
    "    "
   ]
  },
  {
   "cell_type": "code",
   "execution_count": null,
   "metadata": {
    "collapsed": true
   },
   "outputs": [],
   "source": [
    "# def predict(i,q):\n",
    "    \n",
    "#     x1 = np.array([list(q['question1'])])\n",
    "#     x2 = np.array([list(q['question2'])])\n",
    "#     return model.predict([x1,x2])[:,1]\n",
    "\n",
    "# df_test.head()\n",
    "# for i in range(10):\n",
    "#     df = same_questions\n",
    "#     print(dec_question(df.ix[i]['question1'], dec_map))\n",
    "#     print(dec_question(df.ix[i]['question2'], dec_map))\n",
    "#     print(predict(i,df.ix[i]))\n",
    "#     print(df.ix[i]['is_duplicate'])\n",
    "#     print('\\n')"
   ]
  },
  {
   "cell_type": "code",
   "execution_count": 15,
   "metadata": {},
   "outputs": [],
   "source": [
    "model.save('../model/HubertLin_naive_LSTM120.model')"
   ]
  },
  {
   "cell_type": "code",
   "execution_count": null,
   "metadata": {
    "collapsed": true
   },
   "outputs": [],
   "source": []
  },
  {
   "cell_type": "markdown",
   "metadata": {},
   "source": [
    "#### customized testcase"
   ]
  },
  {
   "cell_type": "code",
   "execution_count": 24,
   "metadata": {
    "collapsed": true
   },
   "outputs": [],
   "source": [
    "def enc_question_pair(question_pair_list, enc_map, capsulate_st_ed=False):\n",
    "\n",
    "    def enc_question(question):\n",
    "\n",
    "        if type(question)!=str or question==\"\":\n",
    "            if capsulate_st_ed:\n",
    "                return [enc_map['<ST>'], enc_map['<ED>']]\n",
    "            else:\n",
    "                return []\n",
    "\n",
    "        def map_wrod(word):\n",
    "            if word in enc_map:\n",
    "                return enc_map[word]\n",
    "            elif word in rare_words:\n",
    "                idx = np.where(np.array(rare_words)==word)[0][0]\n",
    "                return enc_map['<RARE' + str(idx) + '>']\n",
    "            else:\n",
    "                rare_words.append(word)\n",
    "                return enc_map['<RARE' + str(len(rare_words)-1) + '>']\n",
    "\n",
    "        # identify special characters that separate words : (space) ' ! \" ? @ ^ + * / . , ~ ( ) [ ] { } & | ` $ % = : ; < >  \n",
    "        separator = '(?=[\\s\\'!\"?@\\^+*/\\.,~\\(\\)\\[\\]\\{\\}\\&\\|`\\$\\%\\=:;\\<\\>\\-]|$)'\n",
    "        single_word = '[^\\s\\-]+' # non-empty is enough here\n",
    "\n",
    "        words_list = re.findall(single_word+separator, question)\n",
    "\n",
    "        if capsulate_st_ed:\n",
    "            return [enc_map['<ST>']] + [map_wrod(word) for word in words_list] + [enc_map['<ED>']] \n",
    "        else:\n",
    "            return [map_wrod(word) for word in words_list]\n",
    "        \n",
    "    # This array is a local cache that identify those non-encoded rare words. \n",
    "    # We'll assign identical index (in this question pair) for each of rare words\n",
    "    rare_words = []\n",
    "    \n",
    "    return enc_question(question_pair_list[0]) , enc_question(question_pair_list[1])\n",
    "    \n",
    "    \n",
    "def dec_question(question, dec_map):\n",
    "    return [dec_map[enc_value] for enc_value in question]\n",
    "\n",
    "def clip_length(data, clip_st_ed=False):\n",
    "    \n",
    "    clip_len = 30\n",
    "    \n",
    "    if clip_st_ed:\n",
    "        data[0] = eval(data[0])[1:-1]\n",
    "        data[1] = eval(data[1])[1:-1]\n",
    "    \n",
    "    if len(data[0])<clip_len:\n",
    "        data[0] = data[0] + [enc_map['<ED>']] * (30-len(data[0]))\n",
    "    else:\n",
    "        data[0] = data[0][:30]\n",
    "        \n",
    "    if len(data[1])<clip_len:\n",
    "        data[1] = data[1] + [enc_map['<ED>']] * (30-len(data[1]))\n",
    "    else:\n",
    "        data[1] = data[1][:30]\n",
    "        \n",
    "    return data"
   ]
  },
  {
   "cell_type": "code",
   "execution_count": 38,
   "metadata": {},
   "outputs": [
    {
     "name": "stdout",
     "output_type": "stream",
     "text": [
      "['Which', 'is', 'the', '<ED>', '<ED>', '<ED>', '<ED>', '<ED>', '<ED>', '<ED>', '<ED>', '<ED>', '<ED>', '<ED>', '<ED>', '<ED>', '<ED>', '<ED>', '<ED>', '<ED>', '<ED>', '<ED>', '<ED>', '<ED>', '<ED>', '<ED>', '<ED>', '<ED>', '<ED>', '<ED>']\n",
      "['Where', 'was', 'training', '<RARE0>', '<ED>', '<ED>', '<ED>', '<ED>', '<ED>', '<ED>', '<ED>', '<ED>', '<ED>', '<ED>', '<ED>', '<ED>', '<ED>', '<ED>', '<ED>', '<ED>', '<ED>', '<ED>', '<ED>', '<ED>', '<ED>', '<ED>', '<ED>', '<ED>', '<ED>', '<ED>']\n",
      "\n",
      "Predicting is same question proba = [[ 0.15064879]]\n"
     ]
    }
   ],
   "source": [
    "a = df_test.ix[100]\n",
    "q1 = dec_question(a['question1'], dec_map)\n",
    "q2 = dec_question(a['question2'], dec_map)\n",
    "print(q1)\n",
    "print(q2)\n",
    "\n",
    "pred = model.predict([np.array([a['question1']]), np.array([a['question2']])])\n",
    "print('\\nPredicting is same question proba =', pred)"
   ]
  },
  {
   "cell_type": "code",
   "execution_count": 30,
   "metadata": {},
   "outputs": [
    {
     "name": "stdout",
     "output_type": "stream",
     "text": [
      "['What', 'is', 'your', 'favorite', 'food', '<ED>', '<ED>', '<ED>', '<ED>', '<ED>', '<ED>', '<ED>', '<ED>', '<ED>', '<ED>', '<ED>', '<ED>', '<ED>', '<ED>', '<ED>', '<ED>', '<ED>', '<ED>', '<ED>', '<ED>', '<ED>', '<ED>', '<ED>', '<ED>', '<ED>']\n",
      "['Which', 'is', 'your', 'favorite', 'one', '<ED>', '<ED>', '<ED>', '<ED>', '<ED>', '<ED>', '<ED>', '<ED>', '<ED>', '<ED>', '<ED>', '<ED>', '<ED>', '<ED>', '<ED>', '<ED>', '<ED>', '<ED>', '<ED>', '<ED>', '<ED>', '<ED>', '<ED>', '<ED>', '<ED>']\n",
      "Predicting is same question proba = [[ 0.58142167]]\n"
     ]
    }
   ],
   "source": [
    "q1 = 'I am a good man'\n",
    "q2 = 'A good man is me'\n",
    "\n",
    "q1 = 'What is your favorite food'\n",
    "q2 = 'Which is your favorite one'\n",
    "\n",
    "sp1 = q1.split(' ')\n",
    "sp2 = q2.split(' ')\n",
    "\n",
    "enc1, enc2 = enc_question_pair([q1,q2], enc_map)\n",
    "enc1, enc2 = clip_length([enc1,enc2])\n",
    "print(dec_question(enc1,dec_map))\n",
    "print(dec_question(enc2,dec_map))\n",
    "\n",
    "pred = model.predict([np.array([enc1]), np.array([enc2])])\n",
    "print('Predicting is same question proba =', pred)\n"
   ]
  },
  {
   "cell_type": "code",
   "execution_count": null,
   "metadata": {
    "collapsed": true
   },
   "outputs": [],
   "source": []
  },
  {
   "cell_type": "markdown",
   "metadata": {},
   "source": [
    "## Prediction time"
   ]
  },
  {
   "cell_type": "code",
   "execution_count": 31,
   "metadata": {},
   "outputs": [],
   "source": [
    "from keras.models import load_model\n",
    "\n",
    "# try:\n",
    "#     model==None\n",
    "# except:\n",
    "#     model = load_model('./model/HubertLin_naive_2_GRU256_same.model')\n",
    "\n",
    "df_test = pickle.load(open('../dataset/processed/df_test_hubertLin_version.pkl', 'rb'))"
   ]
  },
  {
   "cell_type": "code",
   "execution_count": null,
   "metadata": {
    "scrolled": true
   },
   "outputs": [],
   "source": [
    "%%time\n",
    "\n",
    "partition_size = 1000\n",
    "\n",
    "def predict(i,q):\n",
    "    \n",
    "    if i%10 == 0:\n",
    "        print(i*partition_size, '/', len(df_test))\n",
    "    \n",
    "    x1 = np.array(list(q['question1']))\n",
    "    x2 = np.array(list(q['question2']))\n",
    "    return model.predict([x1,x2])\n",
    "\n",
    "partition_len = len(df_test)//partition_size +1\n",
    "result = [predict(i,df_test.iloc[i*partition_size:(i+1)*partition_size]) for i in range(partition_len)]\n",
    "con = np.concatenate(result)\n",
    "df_result = pd.DataFrame({'test_id':np.arange(len(con)),'is_duplicate':con.reshape(len(con))}, columns=['test_id','is_duplicate'])\n",
    "df_result.to_csv('../result/prediction.csv', index=False)"
   ]
  },
  {
   "cell_type": "code",
   "execution_count": 33,
   "metadata": {},
   "outputs": [
    {
     "name": "stdout",
     "output_type": "stream",
     "text": [
      "Prediction success\n"
     ]
    }
   ],
   "source": [
    "if len(df_result)!=2345796:\n",
    "    print('Your result prediction count is not fit to the testing data length 2345796 , yours:', len(df_result))\n",
    "else:\n",
    "    print('Prediction success')"
   ]
  },
  {
   "cell_type": "code",
   "execution_count": null,
   "metadata": {
    "collapsed": true
   },
   "outputs": [],
   "source": []
  }
 ],
 "metadata": {
  "kernelspec": {
   "display_name": "Python 3",
   "language": "python",
   "name": "python3"
  }
 },
 "nbformat": 4,
 "nbformat_minor": 2
}
